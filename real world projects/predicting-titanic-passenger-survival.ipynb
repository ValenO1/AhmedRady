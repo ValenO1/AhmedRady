{
 "cells": [
  {
   "cell_type": "markdown",
   "id": "dc0c4c42",
   "metadata": {
    "papermill": {
     "duration": 0.062049,
     "end_time": "2024-04-17T08:33:55.320690",
     "exception": false,
     "start_time": "2024-04-17T08:33:55.258641",
     "status": "completed"
    },
    "tags": []
   },
   "source": [
    "# Data Source"
   ]
  },
  {
   "cell_type": "markdown",
   "id": "20623011",
   "metadata": {
    "papermill": {
     "duration": 0.060894,
     "end_time": "2024-04-17T08:33:55.444779",
     "exception": false,
     "start_time": "2024-04-17T08:33:55.383885",
     "status": "completed"
    },
    "tags": []
   },
   "source": [
    "The datasets (train.csv and test.csv) were sourced from https://www.kaggle.com/competitions/titanic/data."
   ]
  },
  {
   "cell_type": "code",
   "execution_count": 1,
   "id": "6b233a45",
   "metadata": {
    "execution": {
     "iopub.execute_input": "2024-04-17T08:33:55.570648Z",
     "iopub.status.busy": "2024-04-17T08:33:55.569731Z",
     "iopub.status.idle": "2024-04-17T08:33:55.586613Z",
     "shell.execute_reply": "2024-04-17T08:33:55.585627Z"
    },
    "papermill": {
     "duration": 0.083107,
     "end_time": "2024-04-17T08:33:55.589212",
     "exception": false,
     "start_time": "2024-04-17T08:33:55.506105",
     "status": "completed"
    },
    "tags": []
   },
   "outputs": [
    {
     "name": "stdout",
     "output_type": "stream",
     "text": [
      "/kaggle/input/titanic/train.csv\n",
      "/kaggle/input/titanic/test.csv\n",
      "/kaggle/input/titanic/gender_submission.csv\n"
     ]
    }
   ],
   "source": [
    "# List all files under input directory\n",
    "import os\n",
    "for dirname, _, filenames in os.walk('/kaggle/input'):\n",
    "    for filename in filenames:\n",
    "        print(os.path.join(dirname, filename))"
   ]
  },
  {
   "cell_type": "markdown",
   "id": "cff72498",
   "metadata": {
    "papermill": {
     "duration": 0.065216,
     "end_time": "2024-04-17T08:33:55.717022",
     "exception": false,
     "start_time": "2024-04-17T08:33:55.651806",
     "status": "completed"
    },
    "tags": []
   },
   "source": [
    "# Importation of Necessary Packages"
   ]
  },
  {
   "cell_type": "code",
   "execution_count": 2,
   "id": "ccb79965",
   "metadata": {
    "execution": {
     "iopub.execute_input": "2024-04-17T08:33:55.868816Z",
     "iopub.status.busy": "2024-04-17T08:33:55.868301Z",
     "iopub.status.idle": "2024-04-17T08:33:59.327663Z",
     "shell.execute_reply": "2024-04-17T08:33:59.326302Z"
    },
    "papermill": {
     "duration": 3.529939,
     "end_time": "2024-04-17T08:33:59.330878",
     "exception": false,
     "start_time": "2024-04-17T08:33:55.800939",
     "status": "completed"
    },
    "tags": []
   },
   "outputs": [],
   "source": [
    "import pandas as pd\n",
    "from matplotlib import pyplot as plt\n",
    "import seaborn as sns\n",
    "from scipy.stats import skew\n",
    "from sklearn.linear_model import LogisticRegression\n",
    "from sklearn.neighbors import KNeighborsClassifier\n",
    "from sklearn.tree import DecisionTreeClassifier\n",
    "from sklearn.ensemble import RandomForestClassifier, GradientBoostingClassifier\n",
    "from sklearn.model_selection import RandomizedSearchCV, GridSearchCV, KFold, cross_val_score\n",
    "\n",
    "import warnings\n",
    "warnings.filterwarnings(\"ignore\")\n",
    "from IPython.display import display"
   ]
  },
  {
   "cell_type": "markdown",
   "id": "a89224bb",
   "metadata": {
    "papermill": {
     "duration": 0.061617,
     "end_time": "2024-04-17T08:33:59.454205",
     "exception": false,
     "start_time": "2024-04-17T08:33:59.392588",
     "status": "completed"
    },
    "tags": []
   },
   "source": [
    "# Initial Data Exploration"
   ]
  },
  {
   "cell_type": "markdown",
   "id": "bbc54aaa",
   "metadata": {
    "papermill": {
     "duration": 0.064041,
     "end_time": "2024-04-17T08:33:59.580311",
     "exception": false,
     "start_time": "2024-04-17T08:33:59.516270",
     "status": "completed"
    },
    "tags": []
   },
   "source": [
    "## Training Data"
   ]
  },
  {
   "cell_type": "code",
   "execution_count": 3,
   "id": "190d209d",
   "metadata": {
    "execution": {
     "iopub.execute_input": "2024-04-17T08:33:59.708498Z",
     "iopub.status.busy": "2024-04-17T08:33:59.707743Z",
     "iopub.status.idle": "2024-04-17T08:33:59.734253Z",
     "shell.execute_reply": "2024-04-17T08:33:59.732889Z"
    },
    "papermill": {
     "duration": 0.093661,
     "end_time": "2024-04-17T08:33:59.737497",
     "exception": false,
     "start_time": "2024-04-17T08:33:59.643836",
     "status": "completed"
    },
    "tags": []
   },
   "outputs": [],
   "source": [
    "# Read the csv file into train_data dataframe\n",
    "train_data = pd.read_csv(\"/kaggle/input/titanic/train.csv\")"
   ]
  },
  {
   "cell_type": "code",
   "execution_count": 4,
   "id": "dc4b70ed",
   "metadata": {
    "execution": {
     "iopub.execute_input": "2024-04-17T08:33:59.865062Z",
     "iopub.status.busy": "2024-04-17T08:33:59.864543Z",
     "iopub.status.idle": "2024-04-17T08:33:59.894153Z",
     "shell.execute_reply": "2024-04-17T08:33:59.892771Z"
    },
    "papermill": {
     "duration": 0.097697,
     "end_time": "2024-04-17T08:33:59.897463",
     "exception": false,
     "start_time": "2024-04-17T08:33:59.799766",
     "status": "completed"
    },
    "tags": []
   },
   "outputs": [
    {
     "data": {
      "text/html": [
       "<div>\n",
       "<style scoped>\n",
       "    .dataframe tbody tr th:only-of-type {\n",
       "        vertical-align: middle;\n",
       "    }\n",
       "\n",
       "    .dataframe tbody tr th {\n",
       "        vertical-align: top;\n",
       "    }\n",
       "\n",
       "    .dataframe thead th {\n",
       "        text-align: right;\n",
       "    }\n",
       "</style>\n",
       "<table border=\"1\" class=\"dataframe\">\n",
       "  <thead>\n",
       "    <tr style=\"text-align: right;\">\n",
       "      <th></th>\n",
       "      <th>PassengerId</th>\n",
       "      <th>Survived</th>\n",
       "      <th>Pclass</th>\n",
       "      <th>Name</th>\n",
       "      <th>Sex</th>\n",
       "      <th>Age</th>\n",
       "      <th>SibSp</th>\n",
       "      <th>Parch</th>\n",
       "      <th>Ticket</th>\n",
       "      <th>Fare</th>\n",
       "      <th>Cabin</th>\n",
       "      <th>Embarked</th>\n",
       "    </tr>\n",
       "  </thead>\n",
       "  <tbody>\n",
       "    <tr>\n",
       "      <th>0</th>\n",
       "      <td>1</td>\n",
       "      <td>0</td>\n",
       "      <td>3</td>\n",
       "      <td>Braund, Mr. Owen Harris</td>\n",
       "      <td>male</td>\n",
       "      <td>22.0</td>\n",
       "      <td>1</td>\n",
       "      <td>0</td>\n",
       "      <td>A/5 21171</td>\n",
       "      <td>7.2500</td>\n",
       "      <td>NaN</td>\n",
       "      <td>S</td>\n",
       "    </tr>\n",
       "    <tr>\n",
       "      <th>1</th>\n",
       "      <td>2</td>\n",
       "      <td>1</td>\n",
       "      <td>1</td>\n",
       "      <td>Cumings, Mrs. John Bradley (Florence Briggs Th...</td>\n",
       "      <td>female</td>\n",
       "      <td>38.0</td>\n",
       "      <td>1</td>\n",
       "      <td>0</td>\n",
       "      <td>PC 17599</td>\n",
       "      <td>71.2833</td>\n",
       "      <td>C85</td>\n",
       "      <td>C</td>\n",
       "    </tr>\n",
       "    <tr>\n",
       "      <th>2</th>\n",
       "      <td>3</td>\n",
       "      <td>1</td>\n",
       "      <td>3</td>\n",
       "      <td>Heikkinen, Miss. Laina</td>\n",
       "      <td>female</td>\n",
       "      <td>26.0</td>\n",
       "      <td>0</td>\n",
       "      <td>0</td>\n",
       "      <td>STON/O2. 3101282</td>\n",
       "      <td>7.9250</td>\n",
       "      <td>NaN</td>\n",
       "      <td>S</td>\n",
       "    </tr>\n",
       "    <tr>\n",
       "      <th>3</th>\n",
       "      <td>4</td>\n",
       "      <td>1</td>\n",
       "      <td>1</td>\n",
       "      <td>Futrelle, Mrs. Jacques Heath (Lily May Peel)</td>\n",
       "      <td>female</td>\n",
       "      <td>35.0</td>\n",
       "      <td>1</td>\n",
       "      <td>0</td>\n",
       "      <td>113803</td>\n",
       "      <td>53.1000</td>\n",
       "      <td>C123</td>\n",
       "      <td>S</td>\n",
       "    </tr>\n",
       "    <tr>\n",
       "      <th>4</th>\n",
       "      <td>5</td>\n",
       "      <td>0</td>\n",
       "      <td>3</td>\n",
       "      <td>Allen, Mr. William Henry</td>\n",
       "      <td>male</td>\n",
       "      <td>35.0</td>\n",
       "      <td>0</td>\n",
       "      <td>0</td>\n",
       "      <td>373450</td>\n",
       "      <td>8.0500</td>\n",
       "      <td>NaN</td>\n",
       "      <td>S</td>\n",
       "    </tr>\n",
       "  </tbody>\n",
       "</table>\n",
       "</div>"
      ],
      "text/plain": [
       "   PassengerId  Survived  Pclass  \\\n",
       "0            1         0       3   \n",
       "1            2         1       1   \n",
       "2            3         1       3   \n",
       "3            4         1       1   \n",
       "4            5         0       3   \n",
       "\n",
       "                                                Name     Sex   Age  SibSp  \\\n",
       "0                            Braund, Mr. Owen Harris    male  22.0      1   \n",
       "1  Cumings, Mrs. John Bradley (Florence Briggs Th...  female  38.0      1   \n",
       "2                             Heikkinen, Miss. Laina  female  26.0      0   \n",
       "3       Futrelle, Mrs. Jacques Heath (Lily May Peel)  female  35.0      1   \n",
       "4                           Allen, Mr. William Henry    male  35.0      0   \n",
       "\n",
       "   Parch            Ticket     Fare Cabin Embarked  \n",
       "0      0         A/5 21171   7.2500   NaN        S  \n",
       "1      0          PC 17599  71.2833   C85        C  \n",
       "2      0  STON/O2. 3101282   7.9250   NaN        S  \n",
       "3      0            113803  53.1000  C123        S  \n",
       "4      0            373450   8.0500   NaN        S  "
      ]
     },
     "execution_count": 4,
     "metadata": {},
     "output_type": "execute_result"
    }
   ],
   "source": [
    "# Check first five rows of train_data\n",
    "train_data.head()"
   ]
  },
  {
   "cell_type": "code",
   "execution_count": 5,
   "id": "5bdc7cb4",
   "metadata": {
    "execution": {
     "iopub.execute_input": "2024-04-17T08:34:00.037842Z",
     "iopub.status.busy": "2024-04-17T08:34:00.037171Z",
     "iopub.status.idle": "2024-04-17T08:34:00.070894Z",
     "shell.execute_reply": "2024-04-17T08:34:00.068666Z"
    },
    "papermill": {
     "duration": 0.100544,
     "end_time": "2024-04-17T08:34:00.074124",
     "exception": false,
     "start_time": "2024-04-17T08:33:59.973580",
     "status": "completed"
    },
    "tags": []
   },
   "outputs": [
    {
     "name": "stdout",
     "output_type": "stream",
     "text": [
      "<class 'pandas.core.frame.DataFrame'>\n",
      "RangeIndex: 891 entries, 0 to 890\n",
      "Data columns (total 12 columns):\n",
      " #   Column       Non-Null Count  Dtype  \n",
      "---  ------       --------------  -----  \n",
      " 0   PassengerId  891 non-null    int64  \n",
      " 1   Survived     891 non-null    int64  \n",
      " 2   Pclass       891 non-null    int64  \n",
      " 3   Name         891 non-null    object \n",
      " 4   Sex          891 non-null    object \n",
      " 5   Age          714 non-null    float64\n",
      " 6   SibSp        891 non-null    int64  \n",
      " 7   Parch        891 non-null    int64  \n",
      " 8   Ticket       891 non-null    object \n",
      " 9   Fare         891 non-null    float64\n",
      " 10  Cabin        204 non-null    object \n",
      " 11  Embarked     889 non-null    object \n",
      "dtypes: float64(2), int64(5), object(5)\n",
      "memory usage: 83.7+ KB\n"
     ]
    }
   ],
   "source": [
    "# Get an overview of train_data\n",
    "train_data.info()"
   ]
  },
  {
   "cell_type": "markdown",
   "id": "d46222ee",
   "metadata": {
    "papermill": {
     "duration": 0.063365,
     "end_time": "2024-04-17T08:34:00.201633",
     "exception": false,
     "start_time": "2024-04-17T08:34:00.138268",
     "status": "completed"
    },
    "tags": []
   },
   "source": [
    "The train_data dataframe has 891 rows and 12 columns. Of the 12 columns, 7 are  numerical, and 5 are non-numerical. There are missing values in the following columns: Age, Cabin, and Embarked."
   ]
  },
  {
   "cell_type": "code",
   "execution_count": 6,
   "id": "641c6974",
   "metadata": {
    "execution": {
     "iopub.execute_input": "2024-04-17T08:34:00.330438Z",
     "iopub.status.busy": "2024-04-17T08:34:00.329962Z",
     "iopub.status.idle": "2024-04-17T08:34:00.365708Z",
     "shell.execute_reply": "2024-04-17T08:34:00.364758Z"
    },
    "papermill": {
     "duration": 0.103761,
     "end_time": "2024-04-17T08:34:00.368219",
     "exception": false,
     "start_time": "2024-04-17T08:34:00.264458",
     "status": "completed"
    },
    "tags": []
   },
   "outputs": [
    {
     "data": {
      "text/html": [
       "<div>\n",
       "<style scoped>\n",
       "    .dataframe tbody tr th:only-of-type {\n",
       "        vertical-align: middle;\n",
       "    }\n",
       "\n",
       "    .dataframe tbody tr th {\n",
       "        vertical-align: top;\n",
       "    }\n",
       "\n",
       "    .dataframe thead th {\n",
       "        text-align: right;\n",
       "    }\n",
       "</style>\n",
       "<table border=\"1\" class=\"dataframe\">\n",
       "  <thead>\n",
       "    <tr style=\"text-align: right;\">\n",
       "      <th></th>\n",
       "      <th>PassengerId</th>\n",
       "      <th>Survived</th>\n",
       "      <th>Pclass</th>\n",
       "      <th>Age</th>\n",
       "      <th>SibSp</th>\n",
       "      <th>Parch</th>\n",
       "      <th>Fare</th>\n",
       "    </tr>\n",
       "  </thead>\n",
       "  <tbody>\n",
       "    <tr>\n",
       "      <th>count</th>\n",
       "      <td>891.000000</td>\n",
       "      <td>891.000000</td>\n",
       "      <td>891.000000</td>\n",
       "      <td>714.000000</td>\n",
       "      <td>891.000000</td>\n",
       "      <td>891.000000</td>\n",
       "      <td>891.000000</td>\n",
       "    </tr>\n",
       "    <tr>\n",
       "      <th>mean</th>\n",
       "      <td>446.000000</td>\n",
       "      <td>0.383838</td>\n",
       "      <td>2.308642</td>\n",
       "      <td>29.699118</td>\n",
       "      <td>0.523008</td>\n",
       "      <td>0.381594</td>\n",
       "      <td>32.204208</td>\n",
       "    </tr>\n",
       "    <tr>\n",
       "      <th>std</th>\n",
       "      <td>257.353842</td>\n",
       "      <td>0.486592</td>\n",
       "      <td>0.836071</td>\n",
       "      <td>14.526497</td>\n",
       "      <td>1.102743</td>\n",
       "      <td>0.806057</td>\n",
       "      <td>49.693429</td>\n",
       "    </tr>\n",
       "    <tr>\n",
       "      <th>min</th>\n",
       "      <td>1.000000</td>\n",
       "      <td>0.000000</td>\n",
       "      <td>1.000000</td>\n",
       "      <td>0.420000</td>\n",
       "      <td>0.000000</td>\n",
       "      <td>0.000000</td>\n",
       "      <td>0.000000</td>\n",
       "    </tr>\n",
       "    <tr>\n",
       "      <th>25%</th>\n",
       "      <td>223.500000</td>\n",
       "      <td>0.000000</td>\n",
       "      <td>2.000000</td>\n",
       "      <td>20.125000</td>\n",
       "      <td>0.000000</td>\n",
       "      <td>0.000000</td>\n",
       "      <td>7.910400</td>\n",
       "    </tr>\n",
       "    <tr>\n",
       "      <th>50%</th>\n",
       "      <td>446.000000</td>\n",
       "      <td>0.000000</td>\n",
       "      <td>3.000000</td>\n",
       "      <td>28.000000</td>\n",
       "      <td>0.000000</td>\n",
       "      <td>0.000000</td>\n",
       "      <td>14.454200</td>\n",
       "    </tr>\n",
       "    <tr>\n",
       "      <th>75%</th>\n",
       "      <td>668.500000</td>\n",
       "      <td>1.000000</td>\n",
       "      <td>3.000000</td>\n",
       "      <td>38.000000</td>\n",
       "      <td>1.000000</td>\n",
       "      <td>0.000000</td>\n",
       "      <td>31.000000</td>\n",
       "    </tr>\n",
       "    <tr>\n",
       "      <th>max</th>\n",
       "      <td>891.000000</td>\n",
       "      <td>1.000000</td>\n",
       "      <td>3.000000</td>\n",
       "      <td>80.000000</td>\n",
       "      <td>8.000000</td>\n",
       "      <td>6.000000</td>\n",
       "      <td>512.329200</td>\n",
       "    </tr>\n",
       "  </tbody>\n",
       "</table>\n",
       "</div>"
      ],
      "text/plain": [
       "       PassengerId    Survived      Pclass         Age       SibSp  \\\n",
       "count   891.000000  891.000000  891.000000  714.000000  891.000000   \n",
       "mean    446.000000    0.383838    2.308642   29.699118    0.523008   \n",
       "std     257.353842    0.486592    0.836071   14.526497    1.102743   \n",
       "min       1.000000    0.000000    1.000000    0.420000    0.000000   \n",
       "25%     223.500000    0.000000    2.000000   20.125000    0.000000   \n",
       "50%     446.000000    0.000000    3.000000   28.000000    0.000000   \n",
       "75%     668.500000    1.000000    3.000000   38.000000    1.000000   \n",
       "max     891.000000    1.000000    3.000000   80.000000    8.000000   \n",
       "\n",
       "            Parch        Fare  \n",
       "count  891.000000  891.000000  \n",
       "mean     0.381594   32.204208  \n",
       "std      0.806057   49.693429  \n",
       "min      0.000000    0.000000  \n",
       "25%      0.000000    7.910400  \n",
       "50%      0.000000   14.454200  \n",
       "75%      0.000000   31.000000  \n",
       "max      6.000000  512.329200  "
      ]
     },
     "execution_count": 6,
     "metadata": {},
     "output_type": "execute_result"
    }
   ],
   "source": [
    "# Get summary statistics of the numerical columns of train_data\n",
    "train_data.describe()"
   ]
  },
  {
   "cell_type": "markdown",
   "id": "02cf5353",
   "metadata": {
    "papermill": {
     "duration": 0.061885,
     "end_time": "2024-04-17T08:34:00.492302",
     "exception": false,
     "start_time": "2024-04-17T08:34:00.430417",
     "status": "completed"
    },
    "tags": []
   },
   "source": [
    "The range of values in each numerical column of train_data makes sense."
   ]
  },
  {
   "cell_type": "code",
   "execution_count": 7,
   "id": "edd00d39",
   "metadata": {
    "execution": {
     "iopub.execute_input": "2024-04-17T08:34:00.620252Z",
     "iopub.status.busy": "2024-04-17T08:34:00.618814Z",
     "iopub.status.idle": "2024-04-17T08:34:00.644175Z",
     "shell.execute_reply": "2024-04-17T08:34:00.642800Z"
    },
    "papermill": {
     "duration": 0.092037,
     "end_time": "2024-04-17T08:34:00.647222",
     "exception": false,
     "start_time": "2024-04-17T08:34:00.555185",
     "status": "completed"
    },
    "tags": []
   },
   "outputs": [
    {
     "data": {
      "text/html": [
       "<div>\n",
       "<style scoped>\n",
       "    .dataframe tbody tr th:only-of-type {\n",
       "        vertical-align: middle;\n",
       "    }\n",
       "\n",
       "    .dataframe tbody tr th {\n",
       "        vertical-align: top;\n",
       "    }\n",
       "\n",
       "    .dataframe thead th {\n",
       "        text-align: right;\n",
       "    }\n",
       "</style>\n",
       "<table border=\"1\" class=\"dataframe\">\n",
       "  <thead>\n",
       "    <tr style=\"text-align: right;\">\n",
       "      <th></th>\n",
       "      <th>Name</th>\n",
       "      <th>Sex</th>\n",
       "      <th>Ticket</th>\n",
       "      <th>Cabin</th>\n",
       "      <th>Embarked</th>\n",
       "    </tr>\n",
       "  </thead>\n",
       "  <tbody>\n",
       "    <tr>\n",
       "      <th>count</th>\n",
       "      <td>891</td>\n",
       "      <td>891</td>\n",
       "      <td>891</td>\n",
       "      <td>204</td>\n",
       "      <td>889</td>\n",
       "    </tr>\n",
       "    <tr>\n",
       "      <th>unique</th>\n",
       "      <td>891</td>\n",
       "      <td>2</td>\n",
       "      <td>681</td>\n",
       "      <td>147</td>\n",
       "      <td>3</td>\n",
       "    </tr>\n",
       "    <tr>\n",
       "      <th>top</th>\n",
       "      <td>Braund, Mr. Owen Harris</td>\n",
       "      <td>male</td>\n",
       "      <td>347082</td>\n",
       "      <td>B96 B98</td>\n",
       "      <td>S</td>\n",
       "    </tr>\n",
       "    <tr>\n",
       "      <th>freq</th>\n",
       "      <td>1</td>\n",
       "      <td>577</td>\n",
       "      <td>7</td>\n",
       "      <td>4</td>\n",
       "      <td>644</td>\n",
       "    </tr>\n",
       "  </tbody>\n",
       "</table>\n",
       "</div>"
      ],
      "text/plain": [
       "                           Name   Sex  Ticket    Cabin Embarked\n",
       "count                       891   891     891      204      889\n",
       "unique                      891     2     681      147        3\n",
       "top     Braund, Mr. Owen Harris  male  347082  B96 B98        S\n",
       "freq                          1   577       7        4      644"
      ]
     },
     "execution_count": 7,
     "metadata": {},
     "output_type": "execute_result"
    }
   ],
   "source": [
    "# Get summary statistics of the object columns of train_data\n",
    "train_data.describe(include=['O'])"
   ]
  },
  {
   "cell_type": "markdown",
   "id": "a5969ea9",
   "metadata": {
    "papermill": {
     "duration": 0.062002,
     "end_time": "2024-04-17T08:34:00.773023",
     "exception": false,
     "start_time": "2024-04-17T08:34:00.711021",
     "status": "completed"
    },
    "tags": []
   },
   "source": [
    "The most frequent class in the Sex column is male, while the most frequent class in the Embarked column is S for Southampton."
   ]
  },
  {
   "cell_type": "code",
   "execution_count": 8,
   "id": "7586b0aa",
   "metadata": {
    "execution": {
     "iopub.execute_input": "2024-04-17T08:34:00.899635Z",
     "iopub.status.busy": "2024-04-17T08:34:00.899138Z",
     "iopub.status.idle": "2024-04-17T08:34:00.912776Z",
     "shell.execute_reply": "2024-04-17T08:34:00.911903Z"
    },
    "papermill": {
     "duration": 0.079856,
     "end_time": "2024-04-17T08:34:00.914999",
     "exception": false,
     "start_time": "2024-04-17T08:34:00.835143",
     "status": "completed"
    },
    "tags": []
   },
   "outputs": [
    {
     "data": {
      "text/plain": [
       "PassengerId    891\n",
       "Survived         2\n",
       "Pclass           3\n",
       "Name           891\n",
       "Sex              2\n",
       "Age             88\n",
       "SibSp            7\n",
       "Parch            7\n",
       "Ticket         681\n",
       "Fare           248\n",
       "Cabin          147\n",
       "Embarked         3\n",
       "dtype: int64"
      ]
     },
     "execution_count": 8,
     "metadata": {},
     "output_type": "execute_result"
    }
   ],
   "source": [
    "# Check number of unique values in each column of train_data\n",
    "train_data.nunique()"
   ]
  },
  {
   "cell_type": "markdown",
   "id": "a8266284",
   "metadata": {
    "papermill": {
     "duration": 0.062922,
     "end_time": "2024-04-17T08:34:01.041710",
     "exception": false,
     "start_time": "2024-04-17T08:34:00.978788",
     "status": "completed"
    },
    "tags": []
   },
   "source": [
    "The number of unique values in each of the Survived, Pclass, Sex, and Embarked columns of train_data is as expected."
   ]
  },
  {
   "cell_type": "code",
   "execution_count": 9,
   "id": "73c7d119",
   "metadata": {
    "execution": {
     "iopub.execute_input": "2024-04-17T08:34:01.173571Z",
     "iopub.status.busy": "2024-04-17T08:34:01.172898Z",
     "iopub.status.idle": "2024-04-17T08:34:01.182027Z",
     "shell.execute_reply": "2024-04-17T08:34:01.180624Z"
    },
    "papermill": {
     "duration": 0.080267,
     "end_time": "2024-04-17T08:34:01.184772",
     "exception": false,
     "start_time": "2024-04-17T08:34:01.104505",
     "status": "completed"
    },
    "tags": []
   },
   "outputs": [
    {
     "name": "stdout",
     "output_type": "stream",
     "text": [
      "Unique values in Survived: [0 1]\n",
      "Unique values in Pclass: [3 1 2]\n",
      "Unique values in Sex: ['male' 'female']\n",
      "Unique values in SibSp: [1 0 3 4 2 5 8]\n",
      "Unique values in Parch: [0 1 2 5 3 4 6]\n",
      "Unique values in Embarked: ['S' 'C' 'Q' nan]\n"
     ]
    }
   ],
   "source": [
    "# See unique values in select columns of train_data\n",
    "for col in ['Survived', 'Pclass', 'Sex', 'SibSp', 'Parch', 'Embarked']:\n",
    "    print(\"Unique values in {}: {}\".format(col, train_data[col].unique()))"
   ]
  },
  {
   "cell_type": "markdown",
   "id": "781f9420",
   "metadata": {
    "papermill": {
     "duration": 0.065811,
     "end_time": "2024-04-17T08:34:01.313699",
     "exception": false,
     "start_time": "2024-04-17T08:34:01.247888",
     "status": "completed"
    },
    "tags": []
   },
   "source": [
    "## Test Data"
   ]
  },
  {
   "cell_type": "code",
   "execution_count": 10,
   "id": "85faf0e2",
   "metadata": {
    "execution": {
     "iopub.execute_input": "2024-04-17T08:34:01.446101Z",
     "iopub.status.busy": "2024-04-17T08:34:01.444803Z",
     "iopub.status.idle": "2024-04-17T08:34:01.461307Z",
     "shell.execute_reply": "2024-04-17T08:34:01.460095Z"
    },
    "papermill": {
     "duration": 0.086738,
     "end_time": "2024-04-17T08:34:01.464383",
     "exception": false,
     "start_time": "2024-04-17T08:34:01.377645",
     "status": "completed"
    },
    "tags": []
   },
   "outputs": [],
   "source": [
    "# Read the csv file into test_data dataframe\n",
    "test_data = pd.read_csv(\"/kaggle/input/titanic/test.csv\")"
   ]
  },
  {
   "cell_type": "code",
   "execution_count": 11,
   "id": "9db90429",
   "metadata": {
    "execution": {
     "iopub.execute_input": "2024-04-17T08:34:01.594761Z",
     "iopub.status.busy": "2024-04-17T08:34:01.593857Z",
     "iopub.status.idle": "2024-04-17T08:34:01.612201Z",
     "shell.execute_reply": "2024-04-17T08:34:01.610889Z"
    },
    "papermill": {
     "duration": 0.086234,
     "end_time": "2024-04-17T08:34:01.614832",
     "exception": false,
     "start_time": "2024-04-17T08:34:01.528598",
     "status": "completed"
    },
    "tags": []
   },
   "outputs": [
    {
     "data": {
      "text/html": [
       "<div>\n",
       "<style scoped>\n",
       "    .dataframe tbody tr th:only-of-type {\n",
       "        vertical-align: middle;\n",
       "    }\n",
       "\n",
       "    .dataframe tbody tr th {\n",
       "        vertical-align: top;\n",
       "    }\n",
       "\n",
       "    .dataframe thead th {\n",
       "        text-align: right;\n",
       "    }\n",
       "</style>\n",
       "<table border=\"1\" class=\"dataframe\">\n",
       "  <thead>\n",
       "    <tr style=\"text-align: right;\">\n",
       "      <th></th>\n",
       "      <th>PassengerId</th>\n",
       "      <th>Pclass</th>\n",
       "      <th>Name</th>\n",
       "      <th>Sex</th>\n",
       "      <th>Age</th>\n",
       "      <th>SibSp</th>\n",
       "      <th>Parch</th>\n",
       "      <th>Ticket</th>\n",
       "      <th>Fare</th>\n",
       "      <th>Cabin</th>\n",
       "      <th>Embarked</th>\n",
       "    </tr>\n",
       "  </thead>\n",
       "  <tbody>\n",
       "    <tr>\n",
       "      <th>0</th>\n",
       "      <td>892</td>\n",
       "      <td>3</td>\n",
       "      <td>Kelly, Mr. James</td>\n",
       "      <td>male</td>\n",
       "      <td>34.5</td>\n",
       "      <td>0</td>\n",
       "      <td>0</td>\n",
       "      <td>330911</td>\n",
       "      <td>7.8292</td>\n",
       "      <td>NaN</td>\n",
       "      <td>Q</td>\n",
       "    </tr>\n",
       "    <tr>\n",
       "      <th>1</th>\n",
       "      <td>893</td>\n",
       "      <td>3</td>\n",
       "      <td>Wilkes, Mrs. James (Ellen Needs)</td>\n",
       "      <td>female</td>\n",
       "      <td>47.0</td>\n",
       "      <td>1</td>\n",
       "      <td>0</td>\n",
       "      <td>363272</td>\n",
       "      <td>7.0000</td>\n",
       "      <td>NaN</td>\n",
       "      <td>S</td>\n",
       "    </tr>\n",
       "    <tr>\n",
       "      <th>2</th>\n",
       "      <td>894</td>\n",
       "      <td>2</td>\n",
       "      <td>Myles, Mr. Thomas Francis</td>\n",
       "      <td>male</td>\n",
       "      <td>62.0</td>\n",
       "      <td>0</td>\n",
       "      <td>0</td>\n",
       "      <td>240276</td>\n",
       "      <td>9.6875</td>\n",
       "      <td>NaN</td>\n",
       "      <td>Q</td>\n",
       "    </tr>\n",
       "    <tr>\n",
       "      <th>3</th>\n",
       "      <td>895</td>\n",
       "      <td>3</td>\n",
       "      <td>Wirz, Mr. Albert</td>\n",
       "      <td>male</td>\n",
       "      <td>27.0</td>\n",
       "      <td>0</td>\n",
       "      <td>0</td>\n",
       "      <td>315154</td>\n",
       "      <td>8.6625</td>\n",
       "      <td>NaN</td>\n",
       "      <td>S</td>\n",
       "    </tr>\n",
       "    <tr>\n",
       "      <th>4</th>\n",
       "      <td>896</td>\n",
       "      <td>3</td>\n",
       "      <td>Hirvonen, Mrs. Alexander (Helga E Lindqvist)</td>\n",
       "      <td>female</td>\n",
       "      <td>22.0</td>\n",
       "      <td>1</td>\n",
       "      <td>1</td>\n",
       "      <td>3101298</td>\n",
       "      <td>12.2875</td>\n",
       "      <td>NaN</td>\n",
       "      <td>S</td>\n",
       "    </tr>\n",
       "  </tbody>\n",
       "</table>\n",
       "</div>"
      ],
      "text/plain": [
       "   PassengerId  Pclass                                          Name     Sex  \\\n",
       "0          892       3                              Kelly, Mr. James    male   \n",
       "1          893       3              Wilkes, Mrs. James (Ellen Needs)  female   \n",
       "2          894       2                     Myles, Mr. Thomas Francis    male   \n",
       "3          895       3                              Wirz, Mr. Albert    male   \n",
       "4          896       3  Hirvonen, Mrs. Alexander (Helga E Lindqvist)  female   \n",
       "\n",
       "    Age  SibSp  Parch   Ticket     Fare Cabin Embarked  \n",
       "0  34.5      0      0   330911   7.8292   NaN        Q  \n",
       "1  47.0      1      0   363272   7.0000   NaN        S  \n",
       "2  62.0      0      0   240276   9.6875   NaN        Q  \n",
       "3  27.0      0      0   315154   8.6625   NaN        S  \n",
       "4  22.0      1      1  3101298  12.2875   NaN        S  "
      ]
     },
     "execution_count": 11,
     "metadata": {},
     "output_type": "execute_result"
    }
   ],
   "source": [
    "# Check first five rows of test_data\n",
    "test_data.head()"
   ]
  },
  {
   "cell_type": "code",
   "execution_count": 12,
   "id": "1248279b",
   "metadata": {
    "execution": {
     "iopub.execute_input": "2024-04-17T08:34:01.747964Z",
     "iopub.status.busy": "2024-04-17T08:34:01.747383Z",
     "iopub.status.idle": "2024-04-17T08:34:01.762859Z",
     "shell.execute_reply": "2024-04-17T08:34:01.761484Z"
    },
    "papermill": {
     "duration": 0.086229,
     "end_time": "2024-04-17T08:34:01.766075",
     "exception": false,
     "start_time": "2024-04-17T08:34:01.679846",
     "status": "completed"
    },
    "tags": []
   },
   "outputs": [
    {
     "name": "stdout",
     "output_type": "stream",
     "text": [
      "<class 'pandas.core.frame.DataFrame'>\n",
      "RangeIndex: 418 entries, 0 to 417\n",
      "Data columns (total 11 columns):\n",
      " #   Column       Non-Null Count  Dtype  \n",
      "---  ------       --------------  -----  \n",
      " 0   PassengerId  418 non-null    int64  \n",
      " 1   Pclass       418 non-null    int64  \n",
      " 2   Name         418 non-null    object \n",
      " 3   Sex          418 non-null    object \n",
      " 4   Age          332 non-null    float64\n",
      " 5   SibSp        418 non-null    int64  \n",
      " 6   Parch        418 non-null    int64  \n",
      " 7   Ticket       418 non-null    object \n",
      " 8   Fare         417 non-null    float64\n",
      " 9   Cabin        91 non-null     object \n",
      " 10  Embarked     418 non-null    object \n",
      "dtypes: float64(2), int64(4), object(5)\n",
      "memory usage: 36.0+ KB\n"
     ]
    }
   ],
   "source": [
    "# Get an overview of test_data\n",
    "test_data.info()"
   ]
  },
  {
   "cell_type": "markdown",
   "id": "0801e390",
   "metadata": {
    "papermill": {
     "duration": 0.065243,
     "end_time": "2024-04-17T08:34:01.898061",
     "exception": false,
     "start_time": "2024-04-17T08:34:01.832818",
     "status": "completed"
    },
    "tags": []
   },
   "source": [
    "The test_data dataframe has 418 rows and 11 columns. Unlike train_data, it has no Survived column. Of the 11 columns it has, 6 are  numerical, and 4 are non-numerical. There are missing values in the following columns: Age, Fare, Cabin, and Embarked."
   ]
  },
  {
   "cell_type": "code",
   "execution_count": 13,
   "id": "a9ad923c",
   "metadata": {
    "execution": {
     "iopub.execute_input": "2024-04-17T08:34:02.037200Z",
     "iopub.status.busy": "2024-04-17T08:34:02.036715Z",
     "iopub.status.idle": "2024-04-17T08:34:02.072639Z",
     "shell.execute_reply": "2024-04-17T08:34:02.071120Z"
    },
    "papermill": {
     "duration": 0.110799,
     "end_time": "2024-04-17T08:34:02.075589",
     "exception": false,
     "start_time": "2024-04-17T08:34:01.964790",
     "status": "completed"
    },
    "tags": []
   },
   "outputs": [
    {
     "data": {
      "text/html": [
       "<div>\n",
       "<style scoped>\n",
       "    .dataframe tbody tr th:only-of-type {\n",
       "        vertical-align: middle;\n",
       "    }\n",
       "\n",
       "    .dataframe tbody tr th {\n",
       "        vertical-align: top;\n",
       "    }\n",
       "\n",
       "    .dataframe thead th {\n",
       "        text-align: right;\n",
       "    }\n",
       "</style>\n",
       "<table border=\"1\" class=\"dataframe\">\n",
       "  <thead>\n",
       "    <tr style=\"text-align: right;\">\n",
       "      <th></th>\n",
       "      <th>PassengerId</th>\n",
       "      <th>Pclass</th>\n",
       "      <th>Age</th>\n",
       "      <th>SibSp</th>\n",
       "      <th>Parch</th>\n",
       "      <th>Fare</th>\n",
       "    </tr>\n",
       "  </thead>\n",
       "  <tbody>\n",
       "    <tr>\n",
       "      <th>count</th>\n",
       "      <td>418.000000</td>\n",
       "      <td>418.000000</td>\n",
       "      <td>332.000000</td>\n",
       "      <td>418.000000</td>\n",
       "      <td>418.000000</td>\n",
       "      <td>417.000000</td>\n",
       "    </tr>\n",
       "    <tr>\n",
       "      <th>mean</th>\n",
       "      <td>1100.500000</td>\n",
       "      <td>2.265550</td>\n",
       "      <td>30.272590</td>\n",
       "      <td>0.447368</td>\n",
       "      <td>0.392344</td>\n",
       "      <td>35.627188</td>\n",
       "    </tr>\n",
       "    <tr>\n",
       "      <th>std</th>\n",
       "      <td>120.810458</td>\n",
       "      <td>0.841838</td>\n",
       "      <td>14.181209</td>\n",
       "      <td>0.896760</td>\n",
       "      <td>0.981429</td>\n",
       "      <td>55.907576</td>\n",
       "    </tr>\n",
       "    <tr>\n",
       "      <th>min</th>\n",
       "      <td>892.000000</td>\n",
       "      <td>1.000000</td>\n",
       "      <td>0.170000</td>\n",
       "      <td>0.000000</td>\n",
       "      <td>0.000000</td>\n",
       "      <td>0.000000</td>\n",
       "    </tr>\n",
       "    <tr>\n",
       "      <th>25%</th>\n",
       "      <td>996.250000</td>\n",
       "      <td>1.000000</td>\n",
       "      <td>21.000000</td>\n",
       "      <td>0.000000</td>\n",
       "      <td>0.000000</td>\n",
       "      <td>7.895800</td>\n",
       "    </tr>\n",
       "    <tr>\n",
       "      <th>50%</th>\n",
       "      <td>1100.500000</td>\n",
       "      <td>3.000000</td>\n",
       "      <td>27.000000</td>\n",
       "      <td>0.000000</td>\n",
       "      <td>0.000000</td>\n",
       "      <td>14.454200</td>\n",
       "    </tr>\n",
       "    <tr>\n",
       "      <th>75%</th>\n",
       "      <td>1204.750000</td>\n",
       "      <td>3.000000</td>\n",
       "      <td>39.000000</td>\n",
       "      <td>1.000000</td>\n",
       "      <td>0.000000</td>\n",
       "      <td>31.500000</td>\n",
       "    </tr>\n",
       "    <tr>\n",
       "      <th>max</th>\n",
       "      <td>1309.000000</td>\n",
       "      <td>3.000000</td>\n",
       "      <td>76.000000</td>\n",
       "      <td>8.000000</td>\n",
       "      <td>9.000000</td>\n",
       "      <td>512.329200</td>\n",
       "    </tr>\n",
       "  </tbody>\n",
       "</table>\n",
       "</div>"
      ],
      "text/plain": [
       "       PassengerId      Pclass         Age       SibSp       Parch        Fare\n",
       "count   418.000000  418.000000  332.000000  418.000000  418.000000  417.000000\n",
       "mean   1100.500000    2.265550   30.272590    0.447368    0.392344   35.627188\n",
       "std     120.810458    0.841838   14.181209    0.896760    0.981429   55.907576\n",
       "min     892.000000    1.000000    0.170000    0.000000    0.000000    0.000000\n",
       "25%     996.250000    1.000000   21.000000    0.000000    0.000000    7.895800\n",
       "50%    1100.500000    3.000000   27.000000    0.000000    0.000000   14.454200\n",
       "75%    1204.750000    3.000000   39.000000    1.000000    0.000000   31.500000\n",
       "max    1309.000000    3.000000   76.000000    8.000000    9.000000  512.329200"
      ]
     },
     "execution_count": 13,
     "metadata": {},
     "output_type": "execute_result"
    }
   ],
   "source": [
    "# Get summary statistics of the numerical columns of test_data\n",
    "test_data.describe()"
   ]
  },
  {
   "cell_type": "markdown",
   "id": "b834a48c",
   "metadata": {
    "papermill": {
     "duration": 0.066045,
     "end_time": "2024-04-17T08:34:02.206938",
     "exception": false,
     "start_time": "2024-04-17T08:34:02.140893",
     "status": "completed"
    },
    "tags": []
   },
   "source": [
    "The range of values in each numerical column of test_data makes sense."
   ]
  },
  {
   "cell_type": "code",
   "execution_count": 14,
   "id": "c833b63b",
   "metadata": {
    "execution": {
     "iopub.execute_input": "2024-04-17T08:34:02.340051Z",
     "iopub.status.busy": "2024-04-17T08:34:02.339562Z",
     "iopub.status.idle": "2024-04-17T08:34:02.362977Z",
     "shell.execute_reply": "2024-04-17T08:34:02.361612Z"
    },
    "papermill": {
     "duration": 0.093264,
     "end_time": "2024-04-17T08:34:02.365689",
     "exception": false,
     "start_time": "2024-04-17T08:34:02.272425",
     "status": "completed"
    },
    "tags": []
   },
   "outputs": [
    {
     "data": {
      "text/html": [
       "<div>\n",
       "<style scoped>\n",
       "    .dataframe tbody tr th:only-of-type {\n",
       "        vertical-align: middle;\n",
       "    }\n",
       "\n",
       "    .dataframe tbody tr th {\n",
       "        vertical-align: top;\n",
       "    }\n",
       "\n",
       "    .dataframe thead th {\n",
       "        text-align: right;\n",
       "    }\n",
       "</style>\n",
       "<table border=\"1\" class=\"dataframe\">\n",
       "  <thead>\n",
       "    <tr style=\"text-align: right;\">\n",
       "      <th></th>\n",
       "      <th>Name</th>\n",
       "      <th>Sex</th>\n",
       "      <th>Ticket</th>\n",
       "      <th>Cabin</th>\n",
       "      <th>Embarked</th>\n",
       "    </tr>\n",
       "  </thead>\n",
       "  <tbody>\n",
       "    <tr>\n",
       "      <th>count</th>\n",
       "      <td>418</td>\n",
       "      <td>418</td>\n",
       "      <td>418</td>\n",
       "      <td>91</td>\n",
       "      <td>418</td>\n",
       "    </tr>\n",
       "    <tr>\n",
       "      <th>unique</th>\n",
       "      <td>418</td>\n",
       "      <td>2</td>\n",
       "      <td>363</td>\n",
       "      <td>76</td>\n",
       "      <td>3</td>\n",
       "    </tr>\n",
       "    <tr>\n",
       "      <th>top</th>\n",
       "      <td>Kelly, Mr. James</td>\n",
       "      <td>male</td>\n",
       "      <td>PC 17608</td>\n",
       "      <td>B57 B59 B63 B66</td>\n",
       "      <td>S</td>\n",
       "    </tr>\n",
       "    <tr>\n",
       "      <th>freq</th>\n",
       "      <td>1</td>\n",
       "      <td>266</td>\n",
       "      <td>5</td>\n",
       "      <td>3</td>\n",
       "      <td>270</td>\n",
       "    </tr>\n",
       "  </tbody>\n",
       "</table>\n",
       "</div>"
      ],
      "text/plain": [
       "                    Name   Sex    Ticket            Cabin Embarked\n",
       "count                418   418       418               91      418\n",
       "unique               418     2       363               76        3\n",
       "top     Kelly, Mr. James  male  PC 17608  B57 B59 B63 B66        S\n",
       "freq                   1   266         5                3      270"
      ]
     },
     "execution_count": 14,
     "metadata": {},
     "output_type": "execute_result"
    }
   ],
   "source": [
    "# Get summary statistics of the object columns of test_data\n",
    "test_data.describe(include=['O'])"
   ]
  },
  {
   "cell_type": "markdown",
   "id": "23e18b9b",
   "metadata": {
    "papermill": {
     "duration": 0.066376,
     "end_time": "2024-04-17T08:34:02.497461",
     "exception": false,
     "start_time": "2024-04-17T08:34:02.431085",
     "status": "completed"
    },
    "tags": []
   },
   "source": [
    "Similar to train_data, the most frequent class in the Sex column of test_data is male, while the most frequent class in the Embarked column of test_data is S for Southampton."
   ]
  },
  {
   "cell_type": "code",
   "execution_count": 15,
   "id": "bab7ff2c",
   "metadata": {
    "execution": {
     "iopub.execute_input": "2024-04-17T08:34:02.629288Z",
     "iopub.status.busy": "2024-04-17T08:34:02.628810Z",
     "iopub.status.idle": "2024-04-17T08:34:02.640284Z",
     "shell.execute_reply": "2024-04-17T08:34:02.639064Z"
    },
    "papermill": {
     "duration": 0.080598,
     "end_time": "2024-04-17T08:34:02.642805",
     "exception": false,
     "start_time": "2024-04-17T08:34:02.562207",
     "status": "completed"
    },
    "tags": []
   },
   "outputs": [
    {
     "data": {
      "text/plain": [
       "PassengerId    418\n",
       "Pclass           3\n",
       "Name           418\n",
       "Sex              2\n",
       "Age             79\n",
       "SibSp            7\n",
       "Parch            8\n",
       "Ticket         363\n",
       "Fare           169\n",
       "Cabin           76\n",
       "Embarked         3\n",
       "dtype: int64"
      ]
     },
     "execution_count": 15,
     "metadata": {},
     "output_type": "execute_result"
    }
   ],
   "source": [
    "# Check number of unique values in each column of test_data\n",
    "test_data.nunique()"
   ]
  },
  {
   "cell_type": "markdown",
   "id": "d74a7601",
   "metadata": {
    "papermill": {
     "duration": 0.066126,
     "end_time": "2024-04-17T08:34:02.774975",
     "exception": false,
     "start_time": "2024-04-17T08:34:02.708849",
     "status": "completed"
    },
    "tags": []
   },
   "source": [
    "The number of unique values in each of the Pclass, Sex, and Embarked columns of test_data is as expected."
   ]
  },
  {
   "cell_type": "code",
   "execution_count": 16,
   "id": "e970d59d",
   "metadata": {
    "execution": {
     "iopub.execute_input": "2024-04-17T08:34:02.910679Z",
     "iopub.status.busy": "2024-04-17T08:34:02.909221Z",
     "iopub.status.idle": "2024-04-17T08:34:02.918016Z",
     "shell.execute_reply": "2024-04-17T08:34:02.916487Z"
    },
    "papermill": {
     "duration": 0.07994,
     "end_time": "2024-04-17T08:34:02.920842",
     "exception": false,
     "start_time": "2024-04-17T08:34:02.840902",
     "status": "completed"
    },
    "tags": []
   },
   "outputs": [
    {
     "name": "stdout",
     "output_type": "stream",
     "text": [
      "Unique values in Pclass: [3 2 1]\n",
      "Unique values in Sex: ['male' 'female']\n",
      "Unique values in SibSp: [0 1 2 3 4 5 8]\n",
      "Unique values in Parch: [0 1 3 2 4 6 5 9]\n",
      "Unique values in Embarked: ['Q' 'S' 'C']\n"
     ]
    }
   ],
   "source": [
    "# See unique values in select columns of test_data\n",
    "for col in ['Pclass', 'Sex', 'SibSp', 'Parch', 'Embarked']:\n",
    "    print(\"Unique values in {}: {}\".format(col, test_data[col].unique()))"
   ]
  },
  {
   "cell_type": "markdown",
   "id": "0f5b3cb6",
   "metadata": {
    "papermill": {
     "duration": 0.066696,
     "end_time": "2024-04-17T08:34:03.054592",
     "exception": false,
     "start_time": "2024-04-17T08:34:02.987896",
     "status": "completed"
    },
    "tags": []
   },
   "source": [
    "# Data Preprocessing"
   ]
  },
  {
   "cell_type": "markdown",
   "id": "0fc46bd7",
   "metadata": {
    "papermill": {
     "duration": 0.065262,
     "end_time": "2024-04-17T08:34:03.186747",
     "exception": false,
     "start_time": "2024-04-17T08:34:03.121485",
     "status": "completed"
    },
    "tags": []
   },
   "source": [
    "## Handling Missing Values"
   ]
  },
  {
   "cell_type": "code",
   "execution_count": 17,
   "id": "2ab1e9ad",
   "metadata": {
    "execution": {
     "iopub.execute_input": "2024-04-17T08:34:03.323699Z",
     "iopub.status.busy": "2024-04-17T08:34:03.322162Z",
     "iopub.status.idle": "2024-04-17T08:34:03.333836Z",
     "shell.execute_reply": "2024-04-17T08:34:03.332502Z"
    },
    "papermill": {
     "duration": 0.083469,
     "end_time": "2024-04-17T08:34:03.336634",
     "exception": false,
     "start_time": "2024-04-17T08:34:03.253165",
     "status": "completed"
    },
    "tags": []
   },
   "outputs": [
    {
     "data": {
      "text/plain": [
       "PassengerId      0\n",
       "Survived         0\n",
       "Pclass           0\n",
       "Name             0\n",
       "Sex              0\n",
       "Age            177\n",
       "SibSp            0\n",
       "Parch            0\n",
       "Ticket           0\n",
       "Fare             0\n",
       "Cabin          687\n",
       "Embarked         2\n",
       "dtype: int64"
      ]
     },
     "execution_count": 17,
     "metadata": {},
     "output_type": "execute_result"
    }
   ],
   "source": [
    "# Determine number of missing values in each column of train_data\n",
    "train_data.isna().sum()"
   ]
  },
  {
   "cell_type": "markdown",
   "id": "5b3eb654",
   "metadata": {
    "papermill": {
     "duration": 0.06486,
     "end_time": "2024-04-17T08:34:03.467286",
     "exception": false,
     "start_time": "2024-04-17T08:34:03.402426",
     "status": "completed"
    },
    "tags": []
   },
   "source": [
    "In train_data, the Age column has 177 missing values, the Cabin column has 687 missing values, and the Embarked column has 2 missing values. There are too many missing values in the Cabin colum."
   ]
  },
  {
   "cell_type": "code",
   "execution_count": 18,
   "id": "4eb46fca",
   "metadata": {
    "execution": {
     "iopub.execute_input": "2024-04-17T08:34:03.605145Z",
     "iopub.status.busy": "2024-04-17T08:34:03.603306Z",
     "iopub.status.idle": "2024-04-17T08:34:03.615346Z",
     "shell.execute_reply": "2024-04-17T08:34:03.614051Z"
    },
    "papermill": {
     "duration": 0.083452,
     "end_time": "2024-04-17T08:34:03.618112",
     "exception": false,
     "start_time": "2024-04-17T08:34:03.534660",
     "status": "completed"
    },
    "tags": []
   },
   "outputs": [
    {
     "data": {
      "text/plain": [
       "PassengerId      0\n",
       "Pclass           0\n",
       "Name             0\n",
       "Sex              0\n",
       "Age             86\n",
       "SibSp            0\n",
       "Parch            0\n",
       "Ticket           0\n",
       "Fare             1\n",
       "Cabin          327\n",
       "Embarked         0\n",
       "dtype: int64"
      ]
     },
     "execution_count": 18,
     "metadata": {},
     "output_type": "execute_result"
    }
   ],
   "source": [
    "# Determine number of missing values in each column of test_data\n",
    "test_data.isna().sum()"
   ]
  },
  {
   "cell_type": "markdown",
   "id": "2ff9028d",
   "metadata": {
    "papermill": {
     "duration": 0.065964,
     "end_time": "2024-04-17T08:34:03.749386",
     "exception": false,
     "start_time": "2024-04-17T08:34:03.683422",
     "status": "completed"
    },
    "tags": []
   },
   "source": [
    "In test_data, the Age column has 86 missing values, the Fare column has 1 missing value, and the Cabin column has 327 missing values."
   ]
  },
  {
   "cell_type": "code",
   "execution_count": 19,
   "id": "555e6a2a",
   "metadata": {
    "execution": {
     "iopub.execute_input": "2024-04-17T08:34:03.888780Z",
     "iopub.status.busy": "2024-04-17T08:34:03.887756Z",
     "iopub.status.idle": "2024-04-17T08:34:03.899593Z",
     "shell.execute_reply": "2024-04-17T08:34:03.898286Z"
    },
    "papermill": {
     "duration": 0.084745,
     "end_time": "2024-04-17T08:34:03.902393",
     "exception": false,
     "start_time": "2024-04-17T08:34:03.817648",
     "status": "completed"
    },
    "tags": []
   },
   "outputs": [
    {
     "data": {
      "text/plain": [
       "PassengerId    0.000000\n",
       "Survived       0.000000\n",
       "Pclass         0.000000\n",
       "Name           0.000000\n",
       "Sex            0.000000\n",
       "Age            0.198653\n",
       "SibSp          0.000000\n",
       "Parch          0.000000\n",
       "Ticket         0.000000\n",
       "Fare           0.000000\n",
       "Cabin          0.771044\n",
       "Embarked       0.002245\n",
       "dtype: float64"
      ]
     },
     "execution_count": 19,
     "metadata": {},
     "output_type": "execute_result"
    }
   ],
   "source": [
    "# Determine percentage of missing values in each column of train_data\n",
    "train_data.isna().mean()"
   ]
  },
  {
   "cell_type": "markdown",
   "id": "9392ee54",
   "metadata": {
    "papermill": {
     "duration": 0.06703,
     "end_time": "2024-04-17T08:34:04.035258",
     "exception": false,
     "start_time": "2024-04-17T08:34:03.968228",
     "status": "completed"
    },
    "tags": []
   },
   "source": [
    "In train_data, 19.86% of values in the Age column are missing, 77.10% of values in the Cabin column are missing, and 0.22% of values in the Embarked column are missing."
   ]
  },
  {
   "cell_type": "code",
   "execution_count": 20,
   "id": "1f46ccaa",
   "metadata": {
    "execution": {
     "iopub.execute_input": "2024-04-17T08:34:04.174269Z",
     "iopub.status.busy": "2024-04-17T08:34:04.173380Z",
     "iopub.status.idle": "2024-04-17T08:34:04.184319Z",
     "shell.execute_reply": "2024-04-17T08:34:04.183058Z"
    },
    "papermill": {
     "duration": 0.086192,
     "end_time": "2024-04-17T08:34:04.187260",
     "exception": false,
     "start_time": "2024-04-17T08:34:04.101068",
     "status": "completed"
    },
    "tags": []
   },
   "outputs": [
    {
     "data": {
      "text/plain": [
       "PassengerId    0.000000\n",
       "Pclass         0.000000\n",
       "Name           0.000000\n",
       "Sex            0.000000\n",
       "Age            0.205742\n",
       "SibSp          0.000000\n",
       "Parch          0.000000\n",
       "Ticket         0.000000\n",
       "Fare           0.002392\n",
       "Cabin          0.782297\n",
       "Embarked       0.000000\n",
       "dtype: float64"
      ]
     },
     "execution_count": 20,
     "metadata": {},
     "output_type": "execute_result"
    }
   ],
   "source": [
    "# Determine percentage of missing values in each column of test_data\n",
    "test_data.isna().mean()"
   ]
  },
  {
   "cell_type": "markdown",
   "id": "7bed901a",
   "metadata": {
    "papermill": {
     "duration": 0.065359,
     "end_time": "2024-04-17T08:34:04.318360",
     "exception": false,
     "start_time": "2024-04-17T08:34:04.253001",
     "status": "completed"
    },
    "tags": []
   },
   "source": [
    "In test_data, 20.57% of values in the Age column are missing, 0.24% of values in the Fare column is missing, and 78.23% of values in the Cabin column are missing."
   ]
  },
  {
   "cell_type": "code",
   "execution_count": 21,
   "id": "9bf27e0e",
   "metadata": {
    "execution": {
     "iopub.execute_input": "2024-04-17T08:34:04.455515Z",
     "iopub.status.busy": "2024-04-17T08:34:04.454660Z",
     "iopub.status.idle": "2024-04-17T08:34:04.464017Z",
     "shell.execute_reply": "2024-04-17T08:34:04.462735Z"
    },
    "papermill": {
     "duration": 0.081084,
     "end_time": "2024-04-17T08:34:04.467384",
     "exception": false,
     "start_time": "2024-04-17T08:34:04.386300",
     "status": "completed"
    },
    "tags": []
   },
   "outputs": [
    {
     "data": {
      "text/plain": [
       "708"
      ]
     },
     "execution_count": 21,
     "metadata": {},
     "output_type": "execute_result"
    }
   ],
   "source": [
    "# Determine number of rows with missing values in train_data\n",
    "train_data.isna().any(axis=1).sum()"
   ]
  },
  {
   "cell_type": "markdown",
   "id": "322e5b7d",
   "metadata": {
    "papermill": {
     "duration": 0.071979,
     "end_time": "2024-04-17T08:34:04.606941",
     "exception": false,
     "start_time": "2024-04-17T08:34:04.534962",
     "status": "completed"
    },
    "tags": []
   },
   "source": [
    "Of 891 rows in train_data, 708 have at least one missing value. "
   ]
  },
  {
   "cell_type": "code",
   "execution_count": 22,
   "id": "93b9a018",
   "metadata": {
    "execution": {
     "iopub.execute_input": "2024-04-17T08:34:04.741540Z",
     "iopub.status.busy": "2024-04-17T08:34:04.740974Z",
     "iopub.status.idle": "2024-04-17T08:34:04.750926Z",
     "shell.execute_reply": "2024-04-17T08:34:04.749675Z"
    },
    "papermill": {
     "duration": 0.080004,
     "end_time": "2024-04-17T08:34:04.753296",
     "exception": false,
     "start_time": "2024-04-17T08:34:04.673292",
     "status": "completed"
    },
    "tags": []
   },
   "outputs": [
    {
     "data": {
      "text/plain": [
       "331"
      ]
     },
     "execution_count": 22,
     "metadata": {},
     "output_type": "execute_result"
    }
   ],
   "source": [
    "# Determine number of rows with missing values in test_data\n",
    "test_data.isna().any(axis=1).sum()"
   ]
  },
  {
   "cell_type": "markdown",
   "id": "2dad13ef",
   "metadata": {
    "papermill": {
     "duration": 0.06602,
     "end_time": "2024-04-17T08:34:04.886245",
     "exception": false,
     "start_time": "2024-04-17T08:34:04.820225",
     "status": "completed"
    },
    "tags": []
   },
   "source": [
    "Of 418 rows in test_data, 331 have at least one missing value."
   ]
  },
  {
   "cell_type": "code",
   "execution_count": 23,
   "id": "c8babf4f",
   "metadata": {
    "execution": {
     "iopub.execute_input": "2024-04-17T08:34:05.021979Z",
     "iopub.status.busy": "2024-04-17T08:34:05.020860Z",
     "iopub.status.idle": "2024-04-17T08:34:05.029986Z",
     "shell.execute_reply": "2024-04-17T08:34:05.028981Z"
    },
    "papermill": {
     "duration": 0.080727,
     "end_time": "2024-04-17T08:34:05.032305",
     "exception": false,
     "start_time": "2024-04-17T08:34:04.951578",
     "status": "completed"
    },
    "tags": []
   },
   "outputs": [
    {
     "data": {
      "text/plain": [
       "0.7946127946127947"
      ]
     },
     "execution_count": 23,
     "metadata": {},
     "output_type": "execute_result"
    }
   ],
   "source": [
    "# Determine percentage of rows in train_data with missing values\n",
    "train_data.isna().any(axis=1).mean()"
   ]
  },
  {
   "cell_type": "markdown",
   "id": "8276007d",
   "metadata": {
    "papermill": {
     "duration": 0.067869,
     "end_time": "2024-04-17T08:34:05.165926",
     "exception": false,
     "start_time": "2024-04-17T08:34:05.098057",
     "status": "completed"
    },
    "tags": []
   },
   "source": [
    "Of 891 rows in train_data, 79.46% have at least one missing value."
   ]
  },
  {
   "cell_type": "code",
   "execution_count": 24,
   "id": "3ecf3a6e",
   "metadata": {
    "execution": {
     "iopub.execute_input": "2024-04-17T08:34:05.300809Z",
     "iopub.status.busy": "2024-04-17T08:34:05.299763Z",
     "iopub.status.idle": "2024-04-17T08:34:05.308803Z",
     "shell.execute_reply": "2024-04-17T08:34:05.307520Z"
    },
    "papermill": {
     "duration": 0.079887,
     "end_time": "2024-04-17T08:34:05.311236",
     "exception": false,
     "start_time": "2024-04-17T08:34:05.231349",
     "status": "completed"
    },
    "tags": []
   },
   "outputs": [
    {
     "data": {
      "text/plain": [
       "0.7918660287081339"
      ]
     },
     "execution_count": 24,
     "metadata": {},
     "output_type": "execute_result"
    }
   ],
   "source": [
    "# Determine percentage of rows in test_data with missing values\n",
    "test_data.isna().any(axis=1).mean()"
   ]
  },
  {
   "cell_type": "markdown",
   "id": "a4a698a9",
   "metadata": {
    "papermill": {
     "duration": 0.0661,
     "end_time": "2024-04-17T08:34:05.444503",
     "exception": false,
     "start_time": "2024-04-17T08:34:05.378403",
     "status": "completed"
    },
    "tags": []
   },
   "source": [
    "Of 418 rows in test_data, 79.19% have at least one missing value."
   ]
  },
  {
   "cell_type": "markdown",
   "id": "09315a0f",
   "metadata": {
    "papermill": {
     "duration": 0.069053,
     "end_time": "2024-04-17T08:34:05.580730",
     "exception": false,
     "start_time": "2024-04-17T08:34:05.511677",
     "status": "completed"
    },
    "tags": []
   },
   "source": [
    "### Age"
   ]
  },
  {
   "cell_type": "code",
   "execution_count": 25,
   "id": "ed1e5bec",
   "metadata": {
    "execution": {
     "iopub.execute_input": "2024-04-17T08:34:05.718829Z",
     "iopub.status.busy": "2024-04-17T08:34:05.717813Z",
     "iopub.status.idle": "2024-04-17T08:34:06.134208Z",
     "shell.execute_reply": "2024-04-17T08:34:06.132832Z"
    },
    "papermill": {
     "duration": 0.489368,
     "end_time": "2024-04-17T08:34:06.137764",
     "exception": false,
     "start_time": "2024-04-17T08:34:05.648396",
     "status": "completed"
    },
    "tags": []
   },
   "outputs": [
    {
     "data": {
      "text/plain": [
       "<Axes: xlabel='Age', ylabel='Count'>"
      ]
     },
     "execution_count": 25,
     "metadata": {},
     "output_type": "execute_result"
    },
    {
     "data": {
      "image/png": "[encoded data removed]",
      "text/plain": [
       "<Figure size 640x480 with 1 Axes>"
      ]
     },
     "metadata": {},
     "output_type": "display_data"
    }
   ],
   "source": [
    "# Create histogram of Age column of train_data\n",
    "sns.histplot(data=train_data, x='Age')"
   ]
  },
  {
   "cell_type": "markdown",
   "id": "9da25e4d",
   "metadata": {
    "papermill": {
     "duration": 0.068905,
     "end_time": "2024-04-17T08:34:06.274819",
     "exception": false,
     "start_time": "2024-04-17T08:34:06.205914",
     "status": "completed"
    },
    "tags": []
   },
   "source": [
    "The distribution of Age does not look skewed."
   ]
  },
  {
   "cell_type": "code",
   "execution_count": 26,
   "id": "3b68ea1b",
   "metadata": {
    "execution": {
     "iopub.execute_input": "2024-04-17T08:34:06.413863Z",
     "iopub.status.busy": "2024-04-17T08:34:06.413347Z",
     "iopub.status.idle": "2024-04-17T08:34:06.421054Z",
     "shell.execute_reply": "2024-04-17T08:34:06.419424Z"
    },
    "papermill": {
     "duration": 0.080171,
     "end_time": "2024-04-17T08:34:06.423507",
     "exception": false,
     "start_time": "2024-04-17T08:34:06.343336",
     "status": "completed"
    },
    "tags": []
   },
   "outputs": [
    {
     "name": "stdout",
     "output_type": "stream",
     "text": [
      "Skewness of Age: nan\n"
     ]
    }
   ],
   "source": [
    "# Compute skewness of Age column of train_data\n",
    "print(\"Skewness of Age: {}\".format(skew(train_data['Age'])))"
   ]
  },
  {
   "cell_type": "markdown",
   "id": "44c7d2c7",
   "metadata": {
    "papermill": {
     "duration": 0.067707,
     "end_time": "2024-04-17T08:34:06.557718",
     "exception": false,
     "start_time": "2024-04-17T08:34:06.490011",
     "status": "completed"
    },
    "tags": []
   },
   "source": [
    "This confirms that the distribution of Age is negligibly skewed."
   ]
  },
  {
   "cell_type": "code",
   "execution_count": 27,
   "id": "181be1a5",
   "metadata": {
    "execution": {
     "iopub.execute_input": "2024-04-17T08:34:06.695098Z",
     "iopub.status.busy": "2024-04-17T08:34:06.694122Z",
     "iopub.status.idle": "2024-04-17T08:34:06.701946Z",
     "shell.execute_reply": "2024-04-17T08:34:06.700848Z"
    },
    "papermill": {
     "duration": 0.07987,
     "end_time": "2024-04-17T08:34:06.704651",
     "exception": false,
     "start_time": "2024-04-17T08:34:06.624781",
     "status": "completed"
    },
    "tags": []
   },
   "outputs": [],
   "source": [
    "# Compute the mean of the Age column of train_data\n",
    "age_mean = train_data['Age'].mean()\n",
    "\n",
    "# Fill missing Age values in train_data and test_data with age_mean\n",
    "train_data['Age'] = train_data['Age'].fillna(age_mean)\n",
    "test_data['Age'] = test_data['Age'].fillna(age_mean)"
   ]
  },
  {
   "cell_type": "markdown",
   "id": "12e2ea27",
   "metadata": {
    "papermill": {
     "duration": 0.067429,
     "end_time": "2024-04-17T08:34:06.838794",
     "exception": false,
     "start_time": "2024-04-17T08:34:06.771365",
     "status": "completed"
    },
    "tags": []
   },
   "source": [
    "### Fare"
   ]
  },
  {
   "cell_type": "code",
   "execution_count": 28,
   "id": "3dc4e33a",
   "metadata": {
    "execution": {
     "iopub.execute_input": "2024-04-17T08:34:06.973831Z",
     "iopub.status.busy": "2024-04-17T08:34:06.973314Z",
     "iopub.status.idle": "2024-04-17T08:34:07.476007Z",
     "shell.execute_reply": "2024-04-17T08:34:07.474588Z"
    },
    "papermill": {
     "duration": 0.573838,
     "end_time": "2024-04-17T08:34:07.479075",
     "exception": false,
     "start_time": "2024-04-17T08:34:06.905237",
     "status": "completed"
    },
    "tags": []
   },
   "outputs": [
    {
     "data": {
      "text/plain": [
       "<Axes: xlabel='Fare', ylabel='Count'>"
      ]
     },
     "execution_count": 28,
     "metadata": {},
     "output_type": "execute_result"
    },
    {
     "data": {
      "image/png": "[encoded data removed]",
      "text/plain": [
       "<Figure size 640x480 with 1 Axes>"
      ]
     },
     "metadata": {},
     "output_type": "display_data"
    }
   ],
   "source": [
    "# Create histogram of Fare column of train_data\n",
    "sns.histplot(data=train_data, x='Fare')"
   ]
  },
  {
   "cell_type": "markdown",
   "id": "c1a3a5ca",
   "metadata": {
    "papermill": {
     "duration": 0.067567,
     "end_time": "2024-04-17T08:34:07.614653",
     "exception": false,
     "start_time": "2024-04-17T08:34:07.547086",
     "status": "completed"
    },
    "tags": []
   },
   "source": [
    "The distribution of Fare is skewed to the right."
   ]
  },
  {
   "cell_type": "code",
   "execution_count": 29,
   "id": "3fc0acc6",
   "metadata": {
    "execution": {
     "iopub.execute_input": "2024-04-17T08:34:07.756905Z",
     "iopub.status.busy": "2024-04-17T08:34:07.755465Z",
     "iopub.status.idle": "2024-04-17T08:34:07.765022Z",
     "shell.execute_reply": "2024-04-17T08:34:07.763947Z"
    },
    "papermill": {
     "duration": 0.085672,
     "end_time": "2024-04-17T08:34:07.767297",
     "exception": false,
     "start_time": "2024-04-17T08:34:07.681625",
     "status": "completed"
    },
    "tags": []
   },
   "outputs": [
    {
     "name": "stdout",
     "output_type": "stream",
     "text": [
      "Skewness of Fare: 4.7792532923723545\n"
     ]
    }
   ],
   "source": [
    "# Compute skewness of Fare column of train_data\n",
    "print(\"Skewness of Fare: {}\".format(skew(train_data['Fare'])))"
   ]
  },
  {
   "cell_type": "markdown",
   "id": "ba2f7170",
   "metadata": {
    "papermill": {
     "duration": 0.06857,
     "end_time": "2024-04-17T08:34:07.903223",
     "exception": false,
     "start_time": "2024-04-17T08:34:07.834653",
     "status": "completed"
    },
    "tags": []
   },
   "source": [
    "This shows that the distribution of Fare is highly skewed."
   ]
  },
  {
   "cell_type": "code",
   "execution_count": 30,
   "id": "8d54ac9d",
   "metadata": {
    "execution": {
     "iopub.execute_input": "2024-04-17T08:34:08.138045Z",
     "iopub.status.busy": "2024-04-17T08:34:08.136960Z",
     "iopub.status.idle": "2024-04-17T08:34:08.144721Z",
     "shell.execute_reply": "2024-04-17T08:34:08.143464Z"
    },
    "papermill": {
     "duration": 0.080441,
     "end_time": "2024-04-17T08:34:08.147840",
     "exception": false,
     "start_time": "2024-04-17T08:34:08.067399",
     "status": "completed"
    },
    "tags": []
   },
   "outputs": [],
   "source": [
    "# Compute the median of the Fare column of train_data\n",
    "fare_median = train_data['Fare'].median()\n",
    "\n",
    "# Fill missing Fare values in test_data with fare_median\n",
    "test_data['Fare'] = test_data['Fare'].fillna(fare_median)"
   ]
  },
  {
   "cell_type": "markdown",
   "id": "b2509d17",
   "metadata": {
    "papermill": {
     "duration": 0.080746,
     "end_time": "2024-04-17T08:34:08.300628",
     "exception": false,
     "start_time": "2024-04-17T08:34:08.219882",
     "status": "completed"
    },
    "tags": []
   },
   "source": [
    "### Embarked"
   ]
  },
  {
   "cell_type": "code",
   "execution_count": 31,
   "id": "6123bfb0",
   "metadata": {
    "execution": {
     "iopub.execute_input": "2024-04-17T08:34:08.449445Z",
     "iopub.status.busy": "2024-04-17T08:34:08.448800Z",
     "iopub.status.idle": "2024-04-17T08:34:08.702032Z",
     "shell.execute_reply": "2024-04-17T08:34:08.700905Z"
    },
    "papermill": {
     "duration": 0.327993,
     "end_time": "2024-04-17T08:34:08.705834",
     "exception": false,
     "start_time": "2024-04-17T08:34:08.377841",
     "status": "completed"
    },
    "tags": []
   },
   "outputs": [
    {
     "data": {
      "text/plain": [
       "<Axes: xlabel='Embarked', ylabel='count'>"
      ]
     },
     "execution_count": 31,
     "metadata": {},
     "output_type": "execute_result"
    },
    {
     "data": {
      "image/png": "[encoded data removed]",
      "text/plain": [
       "<Figure size 640x480 with 1 Axes>"
      ]
     },
     "metadata": {},
     "output_type": "display_data"
    }
   ],
   "source": [
    "# Create countplot of Embarked column of train_data\n",
    "sns.countplot(data=train_data, x='Embarked')"
   ]
  },
  {
   "cell_type": "markdown",
   "id": "bd7f0907",
   "metadata": {
    "papermill": {
     "duration": 0.070995,
     "end_time": "2024-04-17T08:34:08.847486",
     "exception": false,
     "start_time": "2024-04-17T08:34:08.776491",
     "status": "completed"
    },
    "tags": []
   },
   "source": [
    "The most frequent port of embarkation is S for Southampton."
   ]
  },
  {
   "cell_type": "code",
   "execution_count": 32,
   "id": "45aef2af",
   "metadata": {
    "execution": {
     "iopub.execute_input": "2024-04-17T08:34:08.989297Z",
     "iopub.status.busy": "2024-04-17T08:34:08.988803Z",
     "iopub.status.idle": "2024-04-17T08:34:08.995338Z",
     "shell.execute_reply": "2024-04-17T08:34:08.994356Z"
    },
    "papermill": {
     "duration": 0.081882,
     "end_time": "2024-04-17T08:34:08.998364",
     "exception": false,
     "start_time": "2024-04-17T08:34:08.916482",
     "status": "completed"
    },
    "tags": []
   },
   "outputs": [],
   "source": [
    "# Fill missing Embarked values in train_data with mode 'S'\n",
    "train_data['Embarked'] = train_data['Embarked'].fillna('S')"
   ]
  },
  {
   "cell_type": "markdown",
   "id": "8a4bfc02",
   "metadata": {
    "papermill": {
     "duration": 0.067035,
     "end_time": "2024-04-17T08:34:09.133855",
     "exception": false,
     "start_time": "2024-04-17T08:34:09.066820",
     "status": "completed"
    },
    "tags": []
   },
   "source": [
    "### Cabin"
   ]
  },
  {
   "cell_type": "markdown",
   "id": "a19a71c1",
   "metadata": {
    "papermill": {
     "duration": 0.066903,
     "end_time": "2024-04-17T08:34:09.270165",
     "exception": false,
     "start_time": "2024-04-17T08:34:09.203262",
     "status": "completed"
    },
    "tags": []
   },
   "source": [
    "The Cabin column may hold some significance in predicting survival, but it has too many missing values for it to be useful. It has to be dropped. There are other features anyway (e.g., Pclass and Fare) that could be used in place of Cabin. The higher the ticket class and fare, the more premium the cabin is expected to be."
   ]
  },
  {
   "cell_type": "code",
   "execution_count": 33,
   "id": "688cae95",
   "metadata": {
    "execution": {
     "iopub.execute_input": "2024-04-17T08:34:09.409205Z",
     "iopub.status.busy": "2024-04-17T08:34:09.408687Z",
     "iopub.status.idle": "2024-04-17T08:34:09.419181Z",
     "shell.execute_reply": "2024-04-17T08:34:09.417978Z"
    },
    "papermill": {
     "duration": 0.083178,
     "end_time": "2024-04-17T08:34:09.421953",
     "exception": false,
     "start_time": "2024-04-17T08:34:09.338775",
     "status": "completed"
    },
    "tags": []
   },
   "outputs": [],
   "source": [
    "# Drop Cabin column from train_data and test_data\n",
    "for dataset in [train_data, test_data]:\n",
    "    dataset.drop(columns='Cabin', inplace=True)"
   ]
  },
  {
   "cell_type": "code",
   "execution_count": 34,
   "id": "43ef909b",
   "metadata": {
    "execution": {
     "iopub.execute_input": "2024-04-17T08:34:09.564005Z",
     "iopub.status.busy": "2024-04-17T08:34:09.563087Z",
     "iopub.status.idle": "2024-04-17T08:34:09.577376Z",
     "shell.execute_reply": "2024-04-17T08:34:09.575927Z"
    },
    "papermill": {
     "duration": 0.088076,
     "end_time": "2024-04-17T08:34:09.580112",
     "exception": false,
     "start_time": "2024-04-17T08:34:09.492036",
     "status": "completed"
    },
    "tags": []
   },
   "outputs": [
    {
     "name": "stdout",
     "output_type": "stream",
     "text": [
      "<class 'pandas.core.frame.DataFrame'>\n",
      "RangeIndex: 891 entries, 0 to 890\n",
      "Data columns (total 11 columns):\n",
      " #   Column       Non-Null Count  Dtype  \n",
      "---  ------       --------------  -----  \n",
      " 0   PassengerId  891 non-null    int64  \n",
      " 1   Survived     891 non-null    int64  \n",
      " 2   Pclass       891 non-null    int64  \n",
      " 3   Name         891 non-null    object \n",
      " 4   Sex          891 non-null    object \n",
      " 5   Age          891 non-null    float64\n",
      " 6   SibSp        891 non-null    int64  \n",
      " 7   Parch        891 non-null    int64  \n",
      " 8   Ticket       891 non-null    object \n",
      " 9   Fare         891 non-null    float64\n",
      " 10  Embarked     891 non-null    object \n",
      "dtypes: float64(2), int64(5), object(4)\n",
      "memory usage: 76.7+ KB\n"
     ]
    }
   ],
   "source": [
    "# Confirm that there are no more columns with missing values in train_data\n",
    "train_data.info()"
   ]
  },
  {
   "cell_type": "code",
   "execution_count": 35,
   "id": "5f7edd48",
   "metadata": {
    "execution": {
     "iopub.execute_input": "2024-04-17T08:34:09.721817Z",
     "iopub.status.busy": "2024-04-17T08:34:09.720405Z",
     "iopub.status.idle": "2024-04-17T08:34:09.734777Z",
     "shell.execute_reply": "2024-04-17T08:34:09.733511Z"
    },
    "papermill": {
     "duration": 0.087188,
     "end_time": "2024-04-17T08:34:09.737471",
     "exception": false,
     "start_time": "2024-04-17T08:34:09.650283",
     "status": "completed"
    },
    "tags": []
   },
   "outputs": [
    {
     "name": "stdout",
     "output_type": "stream",
     "text": [
      "<class 'pandas.core.frame.DataFrame'>\n",
      "RangeIndex: 418 entries, 0 to 417\n",
      "Data columns (total 10 columns):\n",
      " #   Column       Non-Null Count  Dtype  \n",
      "---  ------       --------------  -----  \n",
      " 0   PassengerId  418 non-null    int64  \n",
      " 1   Pclass       418 non-null    int64  \n",
      " 2   Name         418 non-null    object \n",
      " 3   Sex          418 non-null    object \n",
      " 4   Age          418 non-null    float64\n",
      " 5   SibSp        418 non-null    int64  \n",
      " 6   Parch        418 non-null    int64  \n",
      " 7   Ticket       418 non-null    object \n",
      " 8   Fare         418 non-null    float64\n",
      " 9   Embarked     418 non-null    object \n",
      "dtypes: float64(2), int64(4), object(4)\n",
      "memory usage: 32.8+ KB\n"
     ]
    }
   ],
   "source": [
    "# Confirm that there are no more columns with missing values in test_data\n",
    "test_data.info()"
   ]
  },
  {
   "cell_type": "markdown",
   "id": "83522381",
   "metadata": {
    "papermill": {
     "duration": 0.06843,
     "end_time": "2024-04-17T08:34:09.874290",
     "exception": false,
     "start_time": "2024-04-17T08:34:09.805860",
     "status": "completed"
    },
    "tags": []
   },
   "source": [
    "## Encoding Categorical Variables"
   ]
  },
  {
   "cell_type": "markdown",
   "id": "5f541a66",
   "metadata": {
    "papermill": {
     "duration": 0.071565,
     "end_time": "2024-04-17T08:34:10.014273",
     "exception": false,
     "start_time": "2024-04-17T08:34:09.942708",
     "status": "completed"
    },
    "tags": []
   },
   "source": [
    "### Sex"
   ]
  },
  {
   "cell_type": "code",
   "execution_count": 36,
   "id": "4067c9a2",
   "metadata": {
    "execution": {
     "iopub.execute_input": "2024-04-17T08:34:10.154620Z",
     "iopub.status.busy": "2024-04-17T08:34:10.153064Z",
     "iopub.status.idle": "2024-04-17T08:34:10.165764Z",
     "shell.execute_reply": "2024-04-17T08:34:10.164123Z"
    },
    "papermill": {
     "duration": 0.086032,
     "end_time": "2024-04-17T08:34:10.168762",
     "exception": false,
     "start_time": "2024-04-17T08:34:10.082730",
     "status": "completed"
    },
    "tags": []
   },
   "outputs": [],
   "source": [
    "# Encode Sex in both train_data and test_data\n",
    "for dataset in [train_data, test_data]:\n",
    "    dataset['Sex'] = dataset['Sex'].map( {'female': 1, 'male': 0} ).astype(int)"
   ]
  },
  {
   "cell_type": "markdown",
   "id": "923d29ee",
   "metadata": {
    "papermill": {
     "duration": 0.068374,
     "end_time": "2024-04-17T08:34:10.307231",
     "exception": false,
     "start_time": "2024-04-17T08:34:10.238857",
     "status": "completed"
    },
    "tags": []
   },
   "source": [
    "### Embarked"
   ]
  },
  {
   "cell_type": "code",
   "execution_count": 37,
   "id": "48000668",
   "metadata": {
    "execution": {
     "iopub.execute_input": "2024-04-17T08:34:10.448380Z",
     "iopub.status.busy": "2024-04-17T08:34:10.447379Z",
     "iopub.status.idle": "2024-04-17T08:34:10.457115Z",
     "shell.execute_reply": "2024-04-17T08:34:10.455769Z"
    },
    "papermill": {
     "duration": 0.083781,
     "end_time": "2024-04-17T08:34:10.459703",
     "exception": false,
     "start_time": "2024-04-17T08:34:10.375922",
     "status": "completed"
    },
    "tags": []
   },
   "outputs": [],
   "source": [
    "# Encode Embarked in both train_data and test_data\n",
    "for dataset in [train_data, test_data]:\n",
    "    dataset['Embarked'] = dataset['Embarked'].map( {'S': 0, 'C': 1, 'Q': 2} ).astype(int)"
   ]
  },
  {
   "cell_type": "code",
   "execution_count": 38,
   "id": "c3e3b606",
   "metadata": {
    "execution": {
     "iopub.execute_input": "2024-04-17T08:34:10.599576Z",
     "iopub.status.busy": "2024-04-17T08:34:10.598071Z",
     "iopub.status.idle": "2024-04-17T08:34:10.613249Z",
     "shell.execute_reply": "2024-04-17T08:34:10.611799Z"
    },
    "papermill": {
     "duration": 0.087677,
     "end_time": "2024-04-17T08:34:10.615876",
     "exception": false,
     "start_time": "2024-04-17T08:34:10.528199",
     "status": "completed"
    },
    "tags": []
   },
   "outputs": [
    {
     "name": "stdout",
     "output_type": "stream",
     "text": [
      "<class 'pandas.core.frame.DataFrame'>\n",
      "RangeIndex: 891 entries, 0 to 890\n",
      "Data columns (total 11 columns):\n",
      " #   Column       Non-Null Count  Dtype  \n",
      "---  ------       --------------  -----  \n",
      " 0   PassengerId  891 non-null    int64  \n",
      " 1   Survived     891 non-null    int64  \n",
      " 2   Pclass       891 non-null    int64  \n",
      " 3   Name         891 non-null    object \n",
      " 4   Sex          891 non-null    int64  \n",
      " 5   Age          891 non-null    float64\n",
      " 6   SibSp        891 non-null    int64  \n",
      " 7   Parch        891 non-null    int64  \n",
      " 8   Ticket       891 non-null    object \n",
      " 9   Fare         891 non-null    float64\n",
      " 10  Embarked     891 non-null    int64  \n",
      "dtypes: float64(2), int64(7), object(2)\n",
      "memory usage: 76.7+ KB\n"
     ]
    }
   ],
   "source": [
    "# Get overview of train_data\n",
    "train_data.info()"
   ]
  },
  {
   "cell_type": "code",
   "execution_count": 39,
   "id": "be28a65f",
   "metadata": {
    "execution": {
     "iopub.execute_input": "2024-04-17T08:34:10.761756Z",
     "iopub.status.busy": "2024-04-17T08:34:10.760961Z",
     "iopub.status.idle": "2024-04-17T08:34:10.777118Z",
     "shell.execute_reply": "2024-04-17T08:34:10.775633Z"
    },
    "papermill": {
     "duration": 0.089873,
     "end_time": "2024-04-17T08:34:10.779943",
     "exception": false,
     "start_time": "2024-04-17T08:34:10.690070",
     "status": "completed"
    },
    "tags": []
   },
   "outputs": [
    {
     "name": "stdout",
     "output_type": "stream",
     "text": [
      "<class 'pandas.core.frame.DataFrame'>\n",
      "RangeIndex: 418 entries, 0 to 417\n",
      "Data columns (total 10 columns):\n",
      " #   Column       Non-Null Count  Dtype  \n",
      "---  ------       --------------  -----  \n",
      " 0   PassengerId  418 non-null    int64  \n",
      " 1   Pclass       418 non-null    int64  \n",
      " 2   Name         418 non-null    object \n",
      " 3   Sex          418 non-null    int64  \n",
      " 4   Age          418 non-null    float64\n",
      " 5   SibSp        418 non-null    int64  \n",
      " 6   Parch        418 non-null    int64  \n",
      " 7   Ticket       418 non-null    object \n",
      " 8   Fare         418 non-null    float64\n",
      " 9   Embarked     418 non-null    int64  \n",
      "dtypes: float64(2), int64(6), object(2)\n",
      "memory usage: 32.8+ KB\n"
     ]
    }
   ],
   "source": [
    "# Get overview of test_data\n",
    "test_data.info()"
   ]
  },
  {
   "cell_type": "code",
   "execution_count": 40,
   "id": "cb4420a8",
   "metadata": {
    "execution": {
     "iopub.execute_input": "2024-04-17T08:34:10.926451Z",
     "iopub.status.busy": "2024-04-17T08:34:10.925983Z",
     "iopub.status.idle": "2024-04-17T08:34:10.933240Z",
     "shell.execute_reply": "2024-04-17T08:34:10.931778Z"
    },
    "papermill": {
     "duration": 0.086894,
     "end_time": "2024-04-17T08:34:10.936708",
     "exception": false,
     "start_time": "2024-04-17T08:34:10.849814",
     "status": "completed"
    },
    "tags": []
   },
   "outputs": [
    {
     "name": "stdout",
     "output_type": "stream",
     "text": [
      "Unique values in Sex: [0 1]\n",
      "Unique values in Embarked: [0 1 2]\n"
     ]
    }
   ],
   "source": [
    "# See unique values in Sex and Embarked columns of train_data\n",
    "for col in ['Sex', 'Embarked']:\n",
    "    print(\"Unique values in {}: {}\".format(col, train_data[col].unique()))"
   ]
  },
  {
   "cell_type": "code",
   "execution_count": 41,
   "id": "f60500ba",
   "metadata": {
    "execution": {
     "iopub.execute_input": "2024-04-17T08:34:11.079480Z",
     "iopub.status.busy": "2024-04-17T08:34:11.079007Z",
     "iopub.status.idle": "2024-04-17T08:34:11.086796Z",
     "shell.execute_reply": "2024-04-17T08:34:11.085335Z"
    },
    "papermill": {
     "duration": 0.081714,
     "end_time": "2024-04-17T08:34:11.089469",
     "exception": false,
     "start_time": "2024-04-17T08:34:11.007755",
     "status": "completed"
    },
    "tags": []
   },
   "outputs": [
    {
     "name": "stdout",
     "output_type": "stream",
     "text": [
      "Unique values in Sex: [0 1]\n",
      "Unique values in Embarked: [2 0 1]\n"
     ]
    }
   ],
   "source": [
    "# See unique values in Sex and Embarked columns of test_data\n",
    "for col in ['Sex', 'Embarked']:\n",
    "    print(\"Unique values in {}: {}\".format(col, test_data[col].unique()))"
   ]
  },
  {
   "cell_type": "markdown",
   "id": "beeed21d",
   "metadata": {
    "papermill": {
     "duration": 0.071643,
     "end_time": "2024-04-17T08:34:11.231090",
     "exception": false,
     "start_time": "2024-04-17T08:34:11.159447",
     "status": "completed"
    },
    "tags": []
   },
   "source": [
    "# Feature Engineering"
   ]
  },
  {
   "cell_type": "markdown",
   "id": "921fd2e2",
   "metadata": {
    "papermill": {
     "duration": 0.067957,
     "end_time": "2024-04-17T08:34:11.368166",
     "exception": false,
     "start_time": "2024-04-17T08:34:11.300209",
     "status": "completed"
    },
    "tags": []
   },
   "source": [
    "## Title"
   ]
  },
  {
   "cell_type": "markdown",
   "id": "8af276f1",
   "metadata": {
    "papermill": {
     "duration": 0.069636,
     "end_time": "2024-04-17T08:34:11.508192",
     "exception": false,
     "start_time": "2024-04-17T08:34:11.438556",
     "status": "completed"
    },
    "tags": []
   },
   "source": [
    "The Title feature may hold some clues to the prediction of survival. For example, those with more prestigious titles and female titles may be prioritized in the evacuation and consequently have a higher chance of survival."
   ]
  },
  {
   "cell_type": "code",
   "execution_count": 42,
   "id": "d81cc430",
   "metadata": {
    "execution": {
     "iopub.execute_input": "2024-04-17T08:34:11.651378Z",
     "iopub.status.busy": "2024-04-17T08:34:11.650904Z",
     "iopub.status.idle": "2024-04-17T08:34:11.662077Z",
     "shell.execute_reply": "2024-04-17T08:34:11.660507Z"
    },
    "papermill": {
     "duration": 0.085918,
     "end_time": "2024-04-17T08:34:11.664942",
     "exception": false,
     "start_time": "2024-04-17T08:34:11.579024",
     "status": "completed"
    },
    "tags": []
   },
   "outputs": [],
   "source": [
    "# Create Title feature for both train_data and test_data\n",
    "for dataset in [train_data, test_data]:\n",
    "    dataset['Title'] = dataset['Name'].apply(lambda x: x.split(',')[1].split('.')[0].strip())"
   ]
  },
  {
   "cell_type": "code",
   "execution_count": 43,
   "id": "9e1947e6",
   "metadata": {
    "execution": {
     "iopub.execute_input": "2024-04-17T08:34:11.807483Z",
     "iopub.status.busy": "2024-04-17T08:34:11.806339Z",
     "iopub.status.idle": "2024-04-17T08:34:11.818593Z",
     "shell.execute_reply": "2024-04-17T08:34:11.817090Z"
    },
    "papermill": {
     "duration": 0.086916,
     "end_time": "2024-04-17T08:34:11.821390",
     "exception": false,
     "start_time": "2024-04-17T08:34:11.734474",
     "status": "completed"
    },
    "tags": []
   },
   "outputs": [
    {
     "data": {
      "text/plain": [
       "Title\n",
       "Mr              517\n",
       "Miss            182\n",
       "Mrs             125\n",
       "Master           40\n",
       "Dr                7\n",
       "Rev               6\n",
       "Mlle              2\n",
       "Major             2\n",
       "Col               2\n",
       "the Countess      1\n",
       "Capt              1\n",
       "Ms                1\n",
       "Sir               1\n",
       "Lady              1\n",
       "Mme               1\n",
       "Don               1\n",
       "Jonkheer          1\n",
       "Name: count, dtype: int64"
      ]
     },
     "execution_count": 43,
     "metadata": {},
     "output_type": "execute_result"
    }
   ],
   "source": [
    "# Get frequency of each title in train_data\n",
    "train_data['Title'].value_counts()"
   ]
  },
  {
   "cell_type": "code",
   "execution_count": 44,
   "id": "de24481d",
   "metadata": {
    "execution": {
     "iopub.execute_input": "2024-04-17T08:34:11.967257Z",
     "iopub.status.busy": "2024-04-17T08:34:11.966785Z",
     "iopub.status.idle": "2024-04-17T08:34:11.979761Z",
     "shell.execute_reply": "2024-04-17T08:34:11.978805Z"
    },
    "papermill": {
     "duration": 0.089687,
     "end_time": "2024-04-17T08:34:11.983045",
     "exception": false,
     "start_time": "2024-04-17T08:34:11.893358",
     "status": "completed"
    },
    "tags": []
   },
   "outputs": [
    {
     "name": "stdout",
     "output_type": "stream",
     "text": [
      "<class 'pandas.core.frame.DataFrame'>\n",
      "RangeIndex: 891 entries, 0 to 890\n",
      "Data columns (total 12 columns):\n",
      " #   Column       Non-Null Count  Dtype  \n",
      "---  ------       --------------  -----  \n",
      " 0   PassengerId  891 non-null    int64  \n",
      " 1   Survived     891 non-null    int64  \n",
      " 2   Pclass       891 non-null    int64  \n",
      " 3   Name         891 non-null    object \n",
      " 4   Sex          891 non-null    int64  \n",
      " 5   Age          891 non-null    float64\n",
      " 6   SibSp        891 non-null    int64  \n",
      " 7   Parch        891 non-null    int64  \n",
      " 8   Ticket       891 non-null    object \n",
      " 9   Fare         891 non-null    float64\n",
      " 10  Embarked     891 non-null    int64  \n",
      " 11  Title        891 non-null    object \n",
      "dtypes: float64(2), int64(7), object(3)\n",
      "memory usage: 83.7+ KB\n"
     ]
    }
   ],
   "source": [
    "# Check for missing values in Title column of train_data\n",
    "train_data.info()"
   ]
  },
  {
   "cell_type": "code",
   "execution_count": 45,
   "id": "a172269f",
   "metadata": {
    "execution": {
     "iopub.execute_input": "2024-04-17T08:34:12.125165Z",
     "iopub.status.busy": "2024-04-17T08:34:12.124639Z",
     "iopub.status.idle": "2024-04-17T08:34:12.139323Z",
     "shell.execute_reply": "2024-04-17T08:34:12.138123Z"
    },
    "papermill": {
     "duration": 0.089161,
     "end_time": "2024-04-17T08:34:12.142345",
     "exception": false,
     "start_time": "2024-04-17T08:34:12.053184",
     "status": "completed"
    },
    "tags": []
   },
   "outputs": [
    {
     "name": "stdout",
     "output_type": "stream",
     "text": [
      "<class 'pandas.core.frame.DataFrame'>\n",
      "RangeIndex: 418 entries, 0 to 417\n",
      "Data columns (total 11 columns):\n",
      " #   Column       Non-Null Count  Dtype  \n",
      "---  ------       --------------  -----  \n",
      " 0   PassengerId  418 non-null    int64  \n",
      " 1   Pclass       418 non-null    int64  \n",
      " 2   Name         418 non-null    object \n",
      " 3   Sex          418 non-null    int64  \n",
      " 4   Age          418 non-null    float64\n",
      " 5   SibSp        418 non-null    int64  \n",
      " 6   Parch        418 non-null    int64  \n",
      " 7   Ticket       418 non-null    object \n",
      " 8   Fare         418 non-null    float64\n",
      " 9   Embarked     418 non-null    int64  \n",
      " 10  Title        418 non-null    object \n",
      "dtypes: float64(2), int64(6), object(3)\n",
      "memory usage: 36.0+ KB\n"
     ]
    }
   ],
   "source": [
    "# Check for missing values in Title column of test_data\n",
    "test_data.info()"
   ]
  },
  {
   "cell_type": "code",
   "execution_count": 46,
   "id": "fcc7a878",
   "metadata": {
    "execution": {
     "iopub.execute_input": "2024-04-17T08:34:12.286776Z",
     "iopub.status.busy": "2024-04-17T08:34:12.285434Z",
     "iopub.status.idle": "2024-04-17T08:34:12.300497Z",
     "shell.execute_reply": "2024-04-17T08:34:12.298886Z"
    },
    "papermill": {
     "duration": 0.090424,
     "end_time": "2024-04-17T08:34:12.303888",
     "exception": false,
     "start_time": "2024-04-17T08:34:12.213464",
     "status": "completed"
    },
    "tags": []
   },
   "outputs": [],
   "source": [
    "# Replace Mlle with Miss, Ms with Miss, and Mme with Mrs in both train_data and test_data\n",
    "for dataset in [train_data, test_data]:\n",
    "    dataset['Title'] = dataset['Title'].replace({'Mlle': 'Miss', 'Ms': 'Miss', 'Mme': 'Mrs'})\n",
    "\n",
    "# Replace any other title with 'Other'\n",
    "for dataset in [train_data, test_data]:\n",
    "    dataset.loc[~dataset['Title'].isin(['Mr', 'Miss', 'Mrs', 'Master']), 'Title'] = 'Other'"
   ]
  },
  {
   "cell_type": "code",
   "execution_count": 47,
   "id": "368050e2",
   "metadata": {
    "execution": {
     "iopub.execute_input": "2024-04-17T08:34:12.447202Z",
     "iopub.status.busy": "2024-04-17T08:34:12.446043Z",
     "iopub.status.idle": "2024-04-17T08:34:12.466086Z",
     "shell.execute_reply": "2024-04-17T08:34:12.465034Z"
    },
    "papermill": {
     "duration": 0.094613,
     "end_time": "2024-04-17T08:34:12.468664",
     "exception": false,
     "start_time": "2024-04-17T08:34:12.374051",
     "status": "completed"
    },
    "tags": []
   },
   "outputs": [
    {
     "data": {
      "text/html": [
       "<div>\n",
       "<style scoped>\n",
       "    .dataframe tbody tr th:only-of-type {\n",
       "        vertical-align: middle;\n",
       "    }\n",
       "\n",
       "    .dataframe tbody tr th {\n",
       "        vertical-align: top;\n",
       "    }\n",
       "\n",
       "    .dataframe thead th {\n",
       "        text-align: right;\n",
       "    }\n",
       "</style>\n",
       "<table border=\"1\" class=\"dataframe\">\n",
       "  <thead>\n",
       "    <tr style=\"text-align: right;\">\n",
       "      <th></th>\n",
       "      <th>Title</th>\n",
       "      <th>Survived</th>\n",
       "    </tr>\n",
       "  </thead>\n",
       "  <tbody>\n",
       "    <tr>\n",
       "      <th>0</th>\n",
       "      <td>Mrs</td>\n",
       "      <td>0.793651</td>\n",
       "    </tr>\n",
       "    <tr>\n",
       "      <th>1</th>\n",
       "      <td>Miss</td>\n",
       "      <td>0.702703</td>\n",
       "    </tr>\n",
       "    <tr>\n",
       "      <th>2</th>\n",
       "      <td>Master</td>\n",
       "      <td>0.575000</td>\n",
       "    </tr>\n",
       "    <tr>\n",
       "      <th>3</th>\n",
       "      <td>Other</td>\n",
       "      <td>0.347826</td>\n",
       "    </tr>\n",
       "    <tr>\n",
       "      <th>4</th>\n",
       "      <td>Mr</td>\n",
       "      <td>0.156673</td>\n",
       "    </tr>\n",
       "  </tbody>\n",
       "</table>\n",
       "</div>"
      ],
      "text/plain": [
       "    Title  Survived\n",
       "0     Mrs  0.793651\n",
       "1    Miss  0.702703\n",
       "2  Master  0.575000\n",
       "3   Other  0.347826\n",
       "4      Mr  0.156673"
      ]
     },
     "execution_count": 47,
     "metadata": {},
     "output_type": "execute_result"
    }
   ],
   "source": [
    "# Compute survival rate by title in train_data\n",
    "train_data[['Title', 'Survived']].groupby(['Title'], as_index=False).mean().sort_values(by='Survived', ascending=False).reset_index(drop=True)"
   ]
  },
  {
   "cell_type": "markdown",
   "id": "532c699f",
   "metadata": {
    "papermill": {
     "duration": 0.07124,
     "end_time": "2024-04-17T08:34:12.610138",
     "exception": false,
     "start_time": "2024-04-17T08:34:12.538898",
     "status": "completed"
    },
    "tags": []
   },
   "source": [
    "Passengers with a title of Mr have a far lower chance of survival compared to passengers with the following titles: Mrs, Miss, and Master."
   ]
  },
  {
   "cell_type": "code",
   "execution_count": 48,
   "id": "40b220c8",
   "metadata": {
    "execution": {
     "iopub.execute_input": "2024-04-17T08:34:12.754850Z",
     "iopub.status.busy": "2024-04-17T08:34:12.753359Z",
     "iopub.status.idle": "2024-04-17T08:34:13.053906Z",
     "shell.execute_reply": "2024-04-17T08:34:13.051134Z"
    },
    "papermill": {
     "duration": 0.375421,
     "end_time": "2024-04-17T08:34:13.056941",
     "exception": false,
     "start_time": "2024-04-17T08:34:12.681520",
     "status": "completed"
    },
    "tags": []
   },
   "outputs": [
    {
     "data": {
      "text/plain": [
       "<Axes: xlabel='Title', ylabel='Survived'>"
      ]
     },
     "execution_count": 48,
     "metadata": {},
     "output_type": "execute_result"
    },
    {
     "data": {
      "image/png": "[encoded data removed]",
      "text/plain": [
       "<Figure size 640x480 with 1 Axes>"
      ]
     },
     "metadata": {},
     "output_type": "display_data"
    }
   ],
   "source": [
    "# Create barplot of Title versus Survived in train_data\n",
    "sns.barplot(x='Title', y='Survived', data=train_data, errorbar=None, order=['Mrs', 'Miss', 'Master', 'Other', 'Mr'])"
   ]
  },
  {
   "cell_type": "code",
   "execution_count": 49,
   "id": "3f223aad",
   "metadata": {
    "execution": {
     "iopub.execute_input": "2024-04-17T08:34:13.202819Z",
     "iopub.status.busy": "2024-04-17T08:34:13.201978Z",
     "iopub.status.idle": "2024-04-17T08:34:13.210139Z",
     "shell.execute_reply": "2024-04-17T08:34:13.209103Z"
    },
    "papermill": {
     "duration": 0.084325,
     "end_time": "2024-04-17T08:34:13.212758",
     "exception": false,
     "start_time": "2024-04-17T08:34:13.128433",
     "status": "completed"
    },
    "tags": []
   },
   "outputs": [],
   "source": [
    "# Map titles to number codes in both train_data and test_data\n",
    "title_mapping = {\"Mrs\": 0, \"Miss\": 1, \"Master\": 2, \"Other\": 3, \"Mr\": 4}\n",
    "for dataset in [train_data, test_data]:\n",
    "    dataset['Title'] = dataset['Title'].map(title_mapping)"
   ]
  },
  {
   "cell_type": "code",
   "execution_count": 50,
   "id": "3c6799c1",
   "metadata": {
    "execution": {
     "iopub.execute_input": "2024-04-17T08:34:13.356575Z",
     "iopub.status.busy": "2024-04-17T08:34:13.355393Z",
     "iopub.status.idle": "2024-04-17T08:34:13.363305Z",
     "shell.execute_reply": "2024-04-17T08:34:13.362363Z"
    },
    "papermill": {
     "duration": 0.082584,
     "end_time": "2024-04-17T08:34:13.365809",
     "exception": false,
     "start_time": "2024-04-17T08:34:13.283225",
     "status": "completed"
    },
    "tags": []
   },
   "outputs": [],
   "source": [
    "# Drop Name column from train_data and test_data\n",
    "for dataset in [train_data, test_data]:\n",
    "    dataset.drop(columns='Name', inplace=True)"
   ]
  },
  {
   "cell_type": "markdown",
   "id": "a9c8169a",
   "metadata": {
    "papermill": {
     "duration": 0.071207,
     "end_time": "2024-04-17T08:34:13.506577",
     "exception": false,
     "start_time": "2024-04-17T08:34:13.435370",
     "status": "completed"
    },
    "tags": []
   },
   "source": [
    "## IsMr"
   ]
  },
  {
   "cell_type": "markdown",
   "id": "d378f45d",
   "metadata": {
    "papermill": {
     "duration": 0.070383,
     "end_time": "2024-04-17T08:34:13.646683",
     "exception": false,
     "start_time": "2024-04-17T08:34:13.576300",
     "status": "completed"
    },
    "tags": []
   },
   "source": [
    "IsMr denotes whether the passenger has a title of Mr. IsMr is 1 if title of passenger is Mr. Otherwise, it is 0."
   ]
  },
  {
   "cell_type": "code",
   "execution_count": 51,
   "id": "8d686635",
   "metadata": {
    "execution": {
     "iopub.execute_input": "2024-04-17T08:34:13.794979Z",
     "iopub.status.busy": "2024-04-17T08:34:13.794430Z",
     "iopub.status.idle": "2024-04-17T08:34:13.805252Z",
     "shell.execute_reply": "2024-04-17T08:34:13.803604Z"
    },
    "papermill": {
     "duration": 0.090008,
     "end_time": "2024-04-17T08:34:13.808661",
     "exception": false,
     "start_time": "2024-04-17T08:34:13.718653",
     "status": "completed"
    },
    "tags": []
   },
   "outputs": [],
   "source": [
    "# Create IsMr feature for train_data and test_data\n",
    "for dataset in [train_data, test_data]:\n",
    "    dataset['IsMr'] = 0\n",
    "    dataset.loc[dataset['Title'] == 4, 'IsMr'] = 1"
   ]
  },
  {
   "cell_type": "code",
   "execution_count": 52,
   "id": "368c5f2e",
   "metadata": {
    "execution": {
     "iopub.execute_input": "2024-04-17T08:34:13.952521Z",
     "iopub.status.busy": "2024-04-17T08:34:13.952018Z",
     "iopub.status.idle": "2024-04-17T08:34:13.965214Z",
     "shell.execute_reply": "2024-04-17T08:34:13.963881Z"
    },
    "papermill": {
     "duration": 0.087154,
     "end_time": "2024-04-17T08:34:13.967793",
     "exception": false,
     "start_time": "2024-04-17T08:34:13.880639",
     "status": "completed"
    },
    "tags": []
   },
   "outputs": [
    {
     "name": "stdout",
     "output_type": "stream",
     "text": [
      "   IsMr  Survived\n",
      "0     0  0.697861\n",
      "1     1  0.156673\n"
     ]
    }
   ],
   "source": [
    "# Compute survival rate by IsMr in train_data\n",
    "print (train_data[['IsMr', 'Survived']].groupby(['IsMr'], as_index=False).mean())"
   ]
  },
  {
   "cell_type": "code",
   "execution_count": 53,
   "id": "a8d0d415",
   "metadata": {
    "execution": {
     "iopub.execute_input": "2024-04-17T08:34:14.114201Z",
     "iopub.status.busy": "2024-04-17T08:34:14.113426Z",
     "iopub.status.idle": "2024-04-17T08:34:14.369880Z",
     "shell.execute_reply": "2024-04-17T08:34:14.368579Z"
    },
    "papermill": {
     "duration": 0.332124,
     "end_time": "2024-04-17T08:34:14.372613",
     "exception": false,
     "start_time": "2024-04-17T08:34:14.040489",
     "status": "completed"
    },
    "tags": []
   },
   "outputs": [
    {
     "data": {
      "text/plain": [
       "<Axes: xlabel='IsMr', ylabel='Survived'>"
      ]
     },
     "execution_count": 53,
     "metadata": {},
     "output_type": "execute_result"
    },
    {
     "data": {
      "image/png": "[encoded data removed]",
      "text/plain": [
       "<Figure size 640x480 with 1 Axes>"
      ]
     },
     "metadata": {},
     "output_type": "display_data"
    }
   ],
   "source": [
    "# Create barplot of IsMr versus Survived in train_data\n",
    "sns.barplot(x='IsMr', y='Survived', data=train_data, errorbar=None)"
   ]
  },
  {
   "cell_type": "markdown",
   "id": "a6734fc9",
   "metadata": {
    "papermill": {
     "duration": 0.07208,
     "end_time": "2024-04-17T08:34:14.515383",
     "exception": false,
     "start_time": "2024-04-17T08:34:14.443303",
     "status": "completed"
    },
    "tags": []
   },
   "source": [
    "## AgeGroup"
   ]
  },
  {
   "cell_type": "markdown",
   "id": "4c3b3586",
   "metadata": {
    "papermill": {
     "duration": 0.070213,
     "end_time": "2024-04-17T08:34:14.656620",
     "exception": false,
     "start_time": "2024-04-17T08:34:14.586407",
     "status": "completed"
    },
    "tags": []
   },
   "source": [
    "The AgeGroup feature may hold some clues to the prediction of survival. For example, the elderly or senior citizens may have a far lower chance of survival compared to younger passengers."
   ]
  },
  {
   "cell_type": "code",
   "execution_count": 54,
   "id": "e0244b5f",
   "metadata": {
    "execution": {
     "iopub.execute_input": "2024-04-17T08:34:14.800648Z",
     "iopub.status.busy": "2024-04-17T08:34:14.799841Z",
     "iopub.status.idle": "2024-04-17T08:34:14.828284Z",
     "shell.execute_reply": "2024-04-17T08:34:14.826604Z"
    },
    "papermill": {
     "duration": 0.105144,
     "end_time": "2024-04-17T08:34:14.831496",
     "exception": false,
     "start_time": "2024-04-17T08:34:14.726352",
     "status": "completed"
    },
    "tags": []
   },
   "outputs": [
    {
     "name": "stdout",
     "output_type": "stream",
     "text": [
      "         AgeBand  Survived\n",
      "0  (-0.08, 16.0]  0.550000\n",
      "1   (16.0, 32.0]  0.344762\n",
      "2   (32.0, 48.0]  0.403226\n",
      "3   (48.0, 64.0]  0.434783\n",
      "4   (64.0, 80.0]  0.090909\n"
     ]
    }
   ],
   "source": [
    "# Convert data type of Age to integer in both train_data and test_data\n",
    "for dataset in [train_data, test_data]:\n",
    "    dataset['Age'] = dataset['Age'].astype(int)\n",
    "\n",
    "# Set the number of bands (bins)\n",
    "num_age_bands = 5\n",
    "\n",
    "# Create AgeBand using pd.cut()\n",
    "train_data['AgeBand'] = pd.cut(train_data['Age'], bins=num_age_bands)\n",
    "\n",
    "# Compute survival rate by AgeBand\n",
    "print(train_data[['AgeBand', 'Survived']].groupby(['AgeBand'], as_index=False).mean())"
   ]
  },
  {
   "cell_type": "markdown",
   "id": "3e6fd121",
   "metadata": {
    "papermill": {
     "duration": 0.07031,
     "end_time": "2024-04-17T08:34:14.973484",
     "exception": false,
     "start_time": "2024-04-17T08:34:14.903174",
     "status": "completed"
    },
    "tags": []
   },
   "source": [
    "Passengers whose age falls within (64.0, 80.0] have a far lower chance of survival compared to younger passengers."
   ]
  },
  {
   "cell_type": "code",
   "execution_count": 55,
   "id": "057a925d",
   "metadata": {
    "execution": {
     "iopub.execute_input": "2024-04-17T08:34:15.122139Z",
     "iopub.status.busy": "2024-04-17T08:34:15.120767Z",
     "iopub.status.idle": "2024-04-17T08:34:15.406890Z",
     "shell.execute_reply": "2024-04-17T08:34:15.405331Z"
    },
    "papermill": {
     "duration": 0.361683,
     "end_time": "2024-04-17T08:34:15.409732",
     "exception": false,
     "start_time": "2024-04-17T08:34:15.048049",
     "status": "completed"
    },
    "tags": []
   },
   "outputs": [
    {
     "data": {
      "text/plain": [
       "<Axes: xlabel='AgeBand', ylabel='Survived'>"
      ]
     },
     "execution_count": 55,
     "metadata": {},
     "output_type": "execute_result"
    },
    {
     "data": {
      "image/png": "[encoded data removed]",
      "text/plain": [
       "<Figure size 640x480 with 1 Axes>"
      ]
     },
     "metadata": {},
     "output_type": "display_data"
    }
   ],
   "source": [
    "# Create barplot of AgeBand versus Survived in train_data\n",
    "sns.barplot(x='AgeBand', y='Survived', data=train_data, errorbar=None)"
   ]
  },
  {
   "cell_type": "code",
   "execution_count": 56,
   "id": "23b9471b",
   "metadata": {
    "execution": {
     "iopub.execute_input": "2024-04-17T08:34:15.558788Z",
     "iopub.status.busy": "2024-04-17T08:34:15.558177Z",
     "iopub.status.idle": "2024-04-17T08:34:15.576860Z",
     "shell.execute_reply": "2024-04-17T08:34:15.575503Z"
    },
    "papermill": {
     "duration": 0.09581,
     "end_time": "2024-04-17T08:34:15.580100",
     "exception": false,
     "start_time": "2024-04-17T08:34:15.484290",
     "status": "completed"
    },
    "tags": []
   },
   "outputs": [],
   "source": [
    "# Map Age to AgeGroup in both train_data and test_data\n",
    "for dataset in [train_data, test_data]:\n",
    "    dataset['AgeGroup'] = pd.Series()\n",
    "    dataset.loc[dataset['Age'] <= 16, 'AgeGroup'] = 0\n",
    "    dataset.loc[(dataset['Age'] > 16) & (dataset['Age'] <= 32), 'AgeGroup'] = 1\n",
    "    dataset.loc[(dataset['Age'] > 32) & (dataset['Age'] <= 48), 'AgeGroup'] = 2\n",
    "    dataset.loc[(dataset['Age'] > 48) & (dataset['Age'] <= 64), 'AgeGroup'] = 3\n",
    "    dataset.loc[ dataset['Age'] > 64, 'AgeGroup'] = 4"
   ]
  },
  {
   "cell_type": "code",
   "execution_count": 57,
   "id": "d1409351",
   "metadata": {
    "execution": {
     "iopub.execute_input": "2024-04-17T08:34:15.728568Z",
     "iopub.status.busy": "2024-04-17T08:34:15.728057Z",
     "iopub.status.idle": "2024-04-17T08:34:15.735266Z",
     "shell.execute_reply": "2024-04-17T08:34:15.733958Z"
    },
    "papermill": {
     "duration": 0.085386,
     "end_time": "2024-04-17T08:34:15.738093",
     "exception": false,
     "start_time": "2024-04-17T08:34:15.652707",
     "status": "completed"
    },
    "tags": []
   },
   "outputs": [],
   "source": [
    "# Drop AgeBand column from train_data\n",
    "train_data.drop(columns='AgeBand', inplace=True)"
   ]
  },
  {
   "cell_type": "markdown",
   "id": "859738d5",
   "metadata": {
    "papermill": {
     "duration": 0.072159,
     "end_time": "2024-04-17T08:34:15.883461",
     "exception": false,
     "start_time": "2024-04-17T08:34:15.811302",
     "status": "completed"
    },
    "tags": []
   },
   "source": [
    "## IsElderly"
   ]
  },
  {
   "cell_type": "markdown",
   "id": "883dbbad",
   "metadata": {
    "papermill": {
     "duration": 0.072378,
     "end_time": "2024-04-17T08:34:16.027044",
     "exception": false,
     "start_time": "2024-04-17T08:34:15.954666",
     "status": "completed"
    },
    "tags": []
   },
   "source": [
    "IsElderly denotes whether the passenger is an elderly (i.e., 65 years old or older). IsElderly is 1 if age of passenger is at least 65 and 0 if age of passenger is below 65."
   ]
  },
  {
   "cell_type": "code",
   "execution_count": 58,
   "id": "fd5e4ce1",
   "metadata": {
    "execution": {
     "iopub.execute_input": "2024-04-17T08:34:16.172301Z",
     "iopub.status.busy": "2024-04-17T08:34:16.171758Z",
     "iopub.status.idle": "2024-04-17T08:34:16.181962Z",
     "shell.execute_reply": "2024-04-17T08:34:16.180604Z"
    },
    "papermill": {
     "duration": 0.086297,
     "end_time": "2024-04-17T08:34:16.184811",
     "exception": false,
     "start_time": "2024-04-17T08:34:16.098514",
     "status": "completed"
    },
    "tags": []
   },
   "outputs": [],
   "source": [
    "# Create IsElderly feature for train_data and test_data\n",
    "for dataset in [train_data, test_data]:\n",
    "    dataset['IsElderly'] = 0\n",
    "    dataset.loc[dataset['Age'] >= 65, 'IsElderly'] = 1"
   ]
  },
  {
   "cell_type": "code",
   "execution_count": 59,
   "id": "532c569b",
   "metadata": {
    "execution": {
     "iopub.execute_input": "2024-04-17T08:34:16.333931Z",
     "iopub.status.busy": "2024-04-17T08:34:16.333388Z",
     "iopub.status.idle": "2024-04-17T08:34:16.347364Z",
     "shell.execute_reply": "2024-04-17T08:34:16.345922Z"
    },
    "papermill": {
     "duration": 0.093013,
     "end_time": "2024-04-17T08:34:16.350114",
     "exception": false,
     "start_time": "2024-04-17T08:34:16.257101",
     "status": "completed"
    },
    "tags": []
   },
   "outputs": [
    {
     "name": "stdout",
     "output_type": "stream",
     "text": [
      "   IsElderly  Survived\n",
      "0          0  0.387500\n",
      "1          1  0.090909\n"
     ]
    }
   ],
   "source": [
    "# Compute survival rate by IsElderly in train_data\n",
    "print (train_data[['IsElderly', 'Survived']].groupby(['IsElderly'], as_index=False).mean())"
   ]
  },
  {
   "cell_type": "code",
   "execution_count": 60,
   "id": "e67f4d4b",
   "metadata": {
    "execution": {
     "iopub.execute_input": "2024-04-17T08:34:16.499996Z",
     "iopub.status.busy": "2024-04-17T08:34:16.499491Z",
     "iopub.status.idle": "2024-04-17T08:34:16.770315Z",
     "shell.execute_reply": "2024-04-17T08:34:16.768970Z"
    },
    "papermill": {
     "duration": 0.351361,
     "end_time": "2024-04-17T08:34:16.773621",
     "exception": false,
     "start_time": "2024-04-17T08:34:16.422260",
     "status": "completed"
    },
    "tags": []
   },
   "outputs": [
    {
     "data": {
      "text/plain": [
       "<Axes: xlabel='IsElderly', ylabel='Survived'>"
      ]
     },
     "execution_count": 60,
     "metadata": {},
     "output_type": "execute_result"
    },
    {
     "data": {
      "image/png": "[encoded data removed]",
      "text/plain": [
       "<Figure size 640x480 with 1 Axes>"
      ]
     },
     "metadata": {},
     "output_type": "display_data"
    }
   ],
   "source": [
    "# Create barplot of IsElderly versus Survived in train_data\n",
    "sns.barplot(x='IsElderly', y='Survived', data=train_data, errorbar=None)"
   ]
  },
  {
   "cell_type": "markdown",
   "id": "c55fae5f",
   "metadata": {
    "papermill": {
     "duration": 0.072425,
     "end_time": "2024-04-17T08:34:16.919136",
     "exception": false,
     "start_time": "2024-04-17T08:34:16.846711",
     "status": "completed"
    },
    "tags": []
   },
   "source": [
    "## FamilySize"
   ]
  },
  {
   "cell_type": "markdown",
   "id": "e0fef539",
   "metadata": {
    "papermill": {
     "duration": 0.074135,
     "end_time": "2024-04-17T08:34:17.064690",
     "exception": false,
     "start_time": "2024-04-17T08:34:16.990555",
     "status": "completed"
    },
    "tags": []
   },
   "source": [
    "FamilySize represents the number of people who belong to the same family and may hold clues to the prediction of survival. The number of includes the passenger, their siblings and spouse, and their parents and children. Passengers with a stronger support system may have a higher chance of survival."
   ]
  },
  {
   "cell_type": "code",
   "execution_count": 61,
   "id": "f3cfbf01",
   "metadata": {
    "execution": {
     "iopub.execute_input": "2024-04-17T08:34:17.212486Z",
     "iopub.status.busy": "2024-04-17T08:34:17.212010Z",
     "iopub.status.idle": "2024-04-17T08:34:17.220396Z",
     "shell.execute_reply": "2024-04-17T08:34:17.218858Z"
    },
    "papermill": {
     "duration": 0.08595,
     "end_time": "2024-04-17T08:34:17.223259",
     "exception": false,
     "start_time": "2024-04-17T08:34:17.137309",
     "status": "completed"
    },
    "tags": []
   },
   "outputs": [],
   "source": [
    "# Create FamilySize feature for both train_data and test_data\n",
    "for dataset in [train_data, test_data]:\n",
    "    dataset['FamilySize'] = dataset['SibSp'] + dataset['Parch'] + 1"
   ]
  },
  {
   "cell_type": "code",
   "execution_count": 62,
   "id": "3eb53ff0",
   "metadata": {
    "execution": {
     "iopub.execute_input": "2024-04-17T08:34:17.378647Z",
     "iopub.status.busy": "2024-04-17T08:34:17.378125Z",
     "iopub.status.idle": "2024-04-17T08:34:17.390597Z",
     "shell.execute_reply": "2024-04-17T08:34:17.389417Z"
    },
    "papermill": {
     "duration": 0.093832,
     "end_time": "2024-04-17T08:34:17.393906",
     "exception": false,
     "start_time": "2024-04-17T08:34:17.300074",
     "status": "completed"
    },
    "tags": []
   },
   "outputs": [
    {
     "name": "stdout",
     "output_type": "stream",
     "text": [
      "   FamilySize  Survived\n",
      "0           1  0.303538\n",
      "1           2  0.552795\n",
      "2           3  0.578431\n",
      "3           4  0.724138\n",
      "4           5  0.200000\n",
      "5           6  0.136364\n",
      "6           7  0.333333\n",
      "7           8  0.000000\n",
      "8          11  0.000000\n"
     ]
    }
   ],
   "source": [
    "# Compute survival rate by FamilySize in train_data\n",
    "print (train_data[['FamilySize', 'Survived']].groupby(['FamilySize'], as_index=False).mean())"
   ]
  },
  {
   "cell_type": "code",
   "execution_count": 63,
   "id": "3bf58ee8",
   "metadata": {
    "execution": {
     "iopub.execute_input": "2024-04-17T08:34:17.635496Z",
     "iopub.status.busy": "2024-04-17T08:34:17.635020Z",
     "iopub.status.idle": "2024-04-17T08:34:17.963073Z",
     "shell.execute_reply": "2024-04-17T08:34:17.961840Z"
    },
    "papermill": {
     "duration": 0.404683,
     "end_time": "2024-04-17T08:34:17.966190",
     "exception": false,
     "start_time": "2024-04-17T08:34:17.561507",
     "status": "completed"
    },
    "tags": []
   },
   "outputs": [
    {
     "data": {
      "text/plain": [
       "<Axes: xlabel='FamilySize', ylabel='Survived'>"
      ]
     },
     "execution_count": 63,
     "metadata": {},
     "output_type": "execute_result"
    },
    {
     "data": {
      "image/png": "[encoded data removed]",
      "text/plain": [
       "<Figure size 640x480 with 1 Axes>"
      ]
     },
     "metadata": {},
     "output_type": "display_data"
    }
   ],
   "source": [
    "# Create barplot of FamilySize versus Survived in train_data\n",
    "sns.barplot(x='FamilySize', y='Survived', data=train_data, errorbar=None)"
   ]
  },
  {
   "cell_type": "markdown",
   "id": "f4ac39b6",
   "metadata": {
    "papermill": {
     "duration": 0.074518,
     "end_time": "2024-04-17T08:34:18.113494",
     "exception": false,
     "start_time": "2024-04-17T08:34:18.038976",
     "status": "completed"
    },
    "tags": []
   },
   "source": [
    "Passengers with a family size of 2 to 4 have a higher chance of survival, while passengers who are alone or have a larger family size of 5 to 7 have a lower chance of survival."
   ]
  },
  {
   "cell_type": "markdown",
   "id": "9e2450da",
   "metadata": {
    "papermill": {
     "duration": 0.077766,
     "end_time": "2024-04-17T08:34:18.264047",
     "exception": false,
     "start_time": "2024-04-17T08:34:18.186281",
     "status": "completed"
    },
    "tags": []
   },
   "source": [
    "## IsAlone"
   ]
  },
  {
   "cell_type": "markdown",
   "id": "a17396af",
   "metadata": {
    "papermill": {
     "duration": 0.071938,
     "end_time": "2024-04-17T08:34:18.424025",
     "exception": false,
     "start_time": "2024-04-17T08:34:18.352087",
     "status": "completed"
    },
    "tags": []
   },
   "source": [
    "IsAlone denotes whether the passenger is traveling alone or with family. IsAlone is 1 if passenger travels alone and 0 if passenger travels with family."
   ]
  },
  {
   "cell_type": "code",
   "execution_count": 64,
   "id": "db16d752",
   "metadata": {
    "execution": {
     "iopub.execute_input": "2024-04-17T08:34:18.573842Z",
     "iopub.status.busy": "2024-04-17T08:34:18.573305Z",
     "iopub.status.idle": "2024-04-17T08:34:18.583132Z",
     "shell.execute_reply": "2024-04-17T08:34:18.581651Z"
    },
    "papermill": {
     "duration": 0.088675,
     "end_time": "2024-04-17T08:34:18.585684",
     "exception": false,
     "start_time": "2024-04-17T08:34:18.497009",
     "status": "completed"
    },
    "tags": []
   },
   "outputs": [],
   "source": [
    "# Create IsAlone feature for train_data and test_data\n",
    "for dataset in [train_data, test_data]:\n",
    "    dataset['IsAlone'] = 0\n",
    "    dataset.loc[dataset['FamilySize'] == 1, 'IsAlone'] = 1"
   ]
  },
  {
   "cell_type": "code",
   "execution_count": 65,
   "id": "1b2a7cdb",
   "metadata": {
    "execution": {
     "iopub.execute_input": "2024-04-17T08:34:18.737881Z",
     "iopub.status.busy": "2024-04-17T08:34:18.737313Z",
     "iopub.status.idle": "2024-04-17T08:34:18.751107Z",
     "shell.execute_reply": "2024-04-17T08:34:18.749463Z"
    },
    "papermill": {
     "duration": 0.093479,
     "end_time": "2024-04-17T08:34:18.754380",
     "exception": false,
     "start_time": "2024-04-17T08:34:18.660901",
     "status": "completed"
    },
    "tags": []
   },
   "outputs": [
    {
     "name": "stdout",
     "output_type": "stream",
     "text": [
      "   IsAlone  Survived\n",
      "0        0  0.505650\n",
      "1        1  0.303538\n"
     ]
    }
   ],
   "source": [
    "# Compute survival rate by IsAlone in train_data\n",
    "print (train_data[['IsAlone', 'Survived']].groupby(['IsAlone'], as_index=False).mean())"
   ]
  },
  {
   "cell_type": "code",
   "execution_count": 66,
   "id": "6326721f",
   "metadata": {
    "execution": {
     "iopub.execute_input": "2024-04-17T08:34:18.903002Z",
     "iopub.status.busy": "2024-04-17T08:34:18.902485Z",
     "iopub.status.idle": "2024-04-17T08:34:19.147854Z",
     "shell.execute_reply": "2024-04-17T08:34:19.146266Z"
    },
    "papermill": {
     "duration": 0.323694,
     "end_time": "2024-04-17T08:34:19.151010",
     "exception": false,
     "start_time": "2024-04-17T08:34:18.827316",
     "status": "completed"
    },
    "tags": []
   },
   "outputs": [
    {
     "data": {
      "text/plain": [
       "<Axes: xlabel='IsAlone', ylabel='Survived'>"
      ]
     },
     "execution_count": 66,
     "metadata": {},
     "output_type": "execute_result"
    },
    {
     "data": {
      "image/png": "[encoded data removed]",
      "text/plain": [
       "<Figure size 640x480 with 1 Axes>"
      ]
     },
     "metadata": {},
     "output_type": "display_data"
    }
   ],
   "source": [
    "# Create barplot of IsAlone versus Survived in train_data\n",
    "sns.barplot(x='IsAlone', y='Survived', data=train_data, errorbar=None)"
   ]
  },
  {
   "cell_type": "markdown",
   "id": "92b9a1c0",
   "metadata": {
    "papermill": {
     "duration": 0.094969,
     "end_time": "2024-04-17T08:34:19.321175",
     "exception": false,
     "start_time": "2024-04-17T08:34:19.226206",
     "status": "completed"
    },
    "tags": []
   },
   "source": [
    "## FareGroup"
   ]
  },
  {
   "cell_type": "code",
   "execution_count": 67,
   "id": "b701dfa4",
   "metadata": {
    "execution": {
     "iopub.execute_input": "2024-04-17T08:34:19.470113Z",
     "iopub.status.busy": "2024-04-17T08:34:19.469622Z",
     "iopub.status.idle": "2024-04-17T08:34:19.489364Z",
     "shell.execute_reply": "2024-04-17T08:34:19.487276Z"
    },
    "papermill": {
     "duration": 0.098123,
     "end_time": "2024-04-17T08:34:19.492512",
     "exception": false,
     "start_time": "2024-04-17T08:34:19.394389",
     "status": "completed"
    },
    "tags": []
   },
   "outputs": [
    {
     "name": "stdout",
     "output_type": "stream",
     "text": [
      "          FareBand  Survived\n",
      "0   (-0.001, 7.91]  0.197309\n",
      "1   (7.91, 14.454]  0.303571\n",
      "2   (14.454, 31.0]  0.454955\n",
      "3  (31.0, 512.329]  0.581081\n"
     ]
    }
   ],
   "source": [
    "# Set the number of quantiles\n",
    "num_fare_quantiles = 4\n",
    "\n",
    "# Create FareBand using pd.cut()\n",
    "train_data['FareBand'] = pd.qcut(train_data['Fare'], q=num_fare_quantiles)\n",
    "\n",
    "# Compute survival rate by AgeBand\n",
    "print(train_data[['FareBand', 'Survived']].groupby(['FareBand'], as_index=False).mean())"
   ]
  },
  {
   "cell_type": "markdown",
   "id": "1f180bf0",
   "metadata": {
    "papermill": {
     "duration": 0.074388,
     "end_time": "2024-04-17T08:34:19.642174",
     "exception": false,
     "start_time": "2024-04-17T08:34:19.567786",
     "status": "completed"
    },
    "tags": []
   },
   "source": [
    "The chance of survival increases as the fare band increases."
   ]
  },
  {
   "cell_type": "code",
   "execution_count": 68,
   "id": "036420dd",
   "metadata": {
    "execution": {
     "iopub.execute_input": "2024-04-17T08:34:19.792134Z",
     "iopub.status.busy": "2024-04-17T08:34:19.790638Z",
     "iopub.status.idle": "2024-04-17T08:34:20.066292Z",
     "shell.execute_reply": "2024-04-17T08:34:20.065000Z"
    },
    "papermill": {
     "duration": 0.353612,
     "end_time": "2024-04-17T08:34:20.069371",
     "exception": false,
     "start_time": "2024-04-17T08:34:19.715759",
     "status": "completed"
    },
    "tags": []
   },
   "outputs": [
    {
     "data": {
      "text/plain": [
       "<Axes: xlabel='FareBand', ylabel='Survived'>"
      ]
     },
     "execution_count": 68,
     "metadata": {},
     "output_type": "execute_result"
    },
    {
     "data": {
      "image/png": "[encoded data removed]",
      "text/plain": [
       "<Figure size 640x480 with 1 Axes>"
      ]
     },
     "metadata": {},
     "output_type": "display_data"
    }
   ],
   "source": [
    "# Create barplot of FareBand versus Survived in train_data\n",
    "sns.barplot(x='FareBand', y='Survived', data=train_data, errorbar=None)"
   ]
  },
  {
   "cell_type": "code",
   "execution_count": 69,
   "id": "59f57677",
   "metadata": {
    "execution": {
     "iopub.execute_input": "2024-04-17T08:34:20.221356Z",
     "iopub.status.busy": "2024-04-17T08:34:20.220826Z",
     "iopub.status.idle": "2024-04-17T08:34:20.236164Z",
     "shell.execute_reply": "2024-04-17T08:34:20.235170Z"
    },
    "papermill": {
     "duration": 0.09585,
     "end_time": "2024-04-17T08:34:20.239204",
     "exception": false,
     "start_time": "2024-04-17T08:34:20.143354",
     "status": "completed"
    },
    "tags": []
   },
   "outputs": [],
   "source": [
    "# Map Fare to FareGroup in both train_data and test_data\n",
    "for dataset in [train_data, test_data]:\n",
    "    dataset['FareGroup'] = pd.Series()\n",
    "    dataset.loc[dataset['Fare'] <= 7.91, 'FareGroup'] = 0\n",
    "    dataset.loc[(dataset['Fare'] > 7.91) & (dataset['Fare'] <= 14.454), 'FareGroup'] = 1\n",
    "    dataset.loc[(dataset['Fare'] > 14.454) & (dataset['Fare'] <= 31.0), 'FareGroup'] = 2\n",
    "    dataset.loc[ dataset['Fare'] > 31.0, 'FareGroup'] = 3"
   ]
  },
  {
   "cell_type": "code",
   "execution_count": 70,
   "id": "bea7c8ba",
   "metadata": {
    "execution": {
     "iopub.execute_input": "2024-04-17T08:34:20.391849Z",
     "iopub.status.busy": "2024-04-17T08:34:20.391286Z",
     "iopub.status.idle": "2024-04-17T08:34:20.399182Z",
     "shell.execute_reply": "2024-04-17T08:34:20.397994Z"
    },
    "papermill": {
     "duration": 0.086661,
     "end_time": "2024-04-17T08:34:20.401626",
     "exception": false,
     "start_time": "2024-04-17T08:34:20.314965",
     "status": "completed"
    },
    "tags": []
   },
   "outputs": [],
   "source": [
    "# Drop FareBand column from train_data\n",
    "train_data.drop(columns='FareBand', inplace=True)"
   ]
  },
  {
   "cell_type": "code",
   "execution_count": 71,
   "id": "6a3bd8b7",
   "metadata": {
    "execution": {
     "iopub.execute_input": "2024-04-17T08:34:20.558933Z",
     "iopub.status.busy": "2024-04-17T08:34:20.557987Z",
     "iopub.status.idle": "2024-04-17T08:34:20.578099Z",
     "shell.execute_reply": "2024-04-17T08:34:20.576676Z"
    },
    "papermill": {
     "duration": 0.102455,
     "end_time": "2024-04-17T08:34:20.581205",
     "exception": false,
     "start_time": "2024-04-17T08:34:20.478750",
     "status": "completed"
    },
    "tags": []
   },
   "outputs": [
    {
     "data": {
      "text/html": [
       "<div>\n",
       "<style scoped>\n",
       "    .dataframe tbody tr th:only-of-type {\n",
       "        vertical-align: middle;\n",
       "    }\n",
       "\n",
       "    .dataframe tbody tr th {\n",
       "        vertical-align: top;\n",
       "    }\n",
       "\n",
       "    .dataframe thead th {\n",
       "        text-align: right;\n",
       "    }\n",
       "</style>\n",
       "<table border=\"1\" class=\"dataframe\">\n",
       "  <thead>\n",
       "    <tr style=\"text-align: right;\">\n",
       "      <th></th>\n",
       "      <th>PassengerId</th>\n",
       "      <th>Survived</th>\n",
       "      <th>Pclass</th>\n",
       "      <th>Sex</th>\n",
       "      <th>Age</th>\n",
       "      <th>SibSp</th>\n",
       "      <th>Parch</th>\n",
       "      <th>Ticket</th>\n",
       "      <th>Fare</th>\n",
       "      <th>Embarked</th>\n",
       "      <th>Title</th>\n",
       "      <th>IsMr</th>\n",
       "      <th>AgeGroup</th>\n",
       "      <th>IsElderly</th>\n",
       "      <th>FamilySize</th>\n",
       "      <th>IsAlone</th>\n",
       "      <th>FareGroup</th>\n",
       "    </tr>\n",
       "  </thead>\n",
       "  <tbody>\n",
       "    <tr>\n",
       "      <th>0</th>\n",
       "      <td>1</td>\n",
       "      <td>0</td>\n",
       "      <td>3</td>\n",
       "      <td>0</td>\n",
       "      <td>22</td>\n",
       "      <td>1</td>\n",
       "      <td>0</td>\n",
       "      <td>A/5 21171</td>\n",
       "      <td>7.2500</td>\n",
       "      <td>0</td>\n",
       "      <td>4</td>\n",
       "      <td>1</td>\n",
       "      <td>1</td>\n",
       "      <td>0</td>\n",
       "      <td>2</td>\n",
       "      <td>0</td>\n",
       "      <td>0</td>\n",
       "    </tr>\n",
       "    <tr>\n",
       "      <th>1</th>\n",
       "      <td>2</td>\n",
       "      <td>1</td>\n",
       "      <td>1</td>\n",
       "      <td>1</td>\n",
       "      <td>38</td>\n",
       "      <td>1</td>\n",
       "      <td>0</td>\n",
       "      <td>PC 17599</td>\n",
       "      <td>71.2833</td>\n",
       "      <td>1</td>\n",
       "      <td>0</td>\n",
       "      <td>0</td>\n",
       "      <td>2</td>\n",
       "      <td>0</td>\n",
       "      <td>2</td>\n",
       "      <td>0</td>\n",
       "      <td>3</td>\n",
       "    </tr>\n",
       "    <tr>\n",
       "      <th>2</th>\n",
       "      <td>3</td>\n",
       "      <td>1</td>\n",
       "      <td>3</td>\n",
       "      <td>1</td>\n",
       "      <td>26</td>\n",
       "      <td>0</td>\n",
       "      <td>0</td>\n",
       "      <td>STON/O2. 3101282</td>\n",
       "      <td>7.9250</td>\n",
       "      <td>0</td>\n",
       "      <td>1</td>\n",
       "      <td>0</td>\n",
       "      <td>1</td>\n",
       "      <td>0</td>\n",
       "      <td>1</td>\n",
       "      <td>1</td>\n",
       "      <td>1</td>\n",
       "    </tr>\n",
       "    <tr>\n",
       "      <th>3</th>\n",
       "      <td>4</td>\n",
       "      <td>1</td>\n",
       "      <td>1</td>\n",
       "      <td>1</td>\n",
       "      <td>35</td>\n",
       "      <td>1</td>\n",
       "      <td>0</td>\n",
       "      <td>113803</td>\n",
       "      <td>53.1000</td>\n",
       "      <td>0</td>\n",
       "      <td>0</td>\n",
       "      <td>0</td>\n",
       "      <td>2</td>\n",
       "      <td>0</td>\n",
       "      <td>2</td>\n",
       "      <td>0</td>\n",
       "      <td>3</td>\n",
       "    </tr>\n",
       "    <tr>\n",
       "      <th>4</th>\n",
       "      <td>5</td>\n",
       "      <td>0</td>\n",
       "      <td>3</td>\n",
       "      <td>0</td>\n",
       "      <td>35</td>\n",
       "      <td>0</td>\n",
       "      <td>0</td>\n",
       "      <td>373450</td>\n",
       "      <td>8.0500</td>\n",
       "      <td>0</td>\n",
       "      <td>4</td>\n",
       "      <td>1</td>\n",
       "      <td>2</td>\n",
       "      <td>0</td>\n",
       "      <td>1</td>\n",
       "      <td>1</td>\n",
       "      <td>1</td>\n",
       "    </tr>\n",
       "  </tbody>\n",
       "</table>\n",
       "</div>"
      ],
      "text/plain": [
       "   PassengerId  Survived  Pclass  Sex  Age  SibSp  Parch            Ticket  \\\n",
       "0            1         0       3    0   22      1      0         A/5 21171   \n",
       "1            2         1       1    1   38      1      0          PC 17599   \n",
       "2            3         1       3    1   26      0      0  STON/O2. 3101282   \n",
       "3            4         1       1    1   35      1      0            113803   \n",
       "4            5         0       3    0   35      0      0            373450   \n",
       "\n",
       "      Fare  Embarked  Title  IsMr AgeGroup  IsElderly  FamilySize  IsAlone  \\\n",
       "0   7.2500         0      4     1        1          0           2        0   \n",
       "1  71.2833         1      0     0        2          0           2        0   \n",
       "2   7.9250         0      1     0        1          0           1        1   \n",
       "3  53.1000         0      0     0        2          0           2        0   \n",
       "4   8.0500         0      4     1        2          0           1        1   \n",
       "\n",
       "  FareGroup  \n",
       "0         0  \n",
       "1         3  \n",
       "2         1  \n",
       "3         3  \n",
       "4         1  "
      ]
     },
     "execution_count": 71,
     "metadata": {},
     "output_type": "execute_result"
    }
   ],
   "source": [
    "# Check first few rows of train_data\n",
    "train_data.head()"
   ]
  },
  {
   "cell_type": "code",
   "execution_count": 72,
   "id": "d72f72ee",
   "metadata": {
    "execution": {
     "iopub.execute_input": "2024-04-17T08:34:20.742538Z",
     "iopub.status.busy": "2024-04-17T08:34:20.742005Z",
     "iopub.status.idle": "2024-04-17T08:34:20.763014Z",
     "shell.execute_reply": "2024-04-17T08:34:20.761655Z"
    },
    "papermill": {
     "duration": 0.106551,
     "end_time": "2024-04-17T08:34:20.766031",
     "exception": false,
     "start_time": "2024-04-17T08:34:20.659480",
     "status": "completed"
    },
    "tags": []
   },
   "outputs": [
    {
     "data": {
      "text/html": [
       "<div>\n",
       "<style scoped>\n",
       "    .dataframe tbody tr th:only-of-type {\n",
       "        vertical-align: middle;\n",
       "    }\n",
       "\n",
       "    .dataframe tbody tr th {\n",
       "        vertical-align: top;\n",
       "    }\n",
       "\n",
       "    .dataframe thead th {\n",
       "        text-align: right;\n",
       "    }\n",
       "</style>\n",
       "<table border=\"1\" class=\"dataframe\">\n",
       "  <thead>\n",
       "    <tr style=\"text-align: right;\">\n",
       "      <th></th>\n",
       "      <th>PassengerId</th>\n",
       "      <th>Pclass</th>\n",
       "      <th>Sex</th>\n",
       "      <th>Age</th>\n",
       "      <th>SibSp</th>\n",
       "      <th>Parch</th>\n",
       "      <th>Ticket</th>\n",
       "      <th>Fare</th>\n",
       "      <th>Embarked</th>\n",
       "      <th>Title</th>\n",
       "      <th>IsMr</th>\n",
       "      <th>AgeGroup</th>\n",
       "      <th>IsElderly</th>\n",
       "      <th>FamilySize</th>\n",
       "      <th>IsAlone</th>\n",
       "      <th>FareGroup</th>\n",
       "    </tr>\n",
       "  </thead>\n",
       "  <tbody>\n",
       "    <tr>\n",
       "      <th>0</th>\n",
       "      <td>892</td>\n",
       "      <td>3</td>\n",
       "      <td>0</td>\n",
       "      <td>34</td>\n",
       "      <td>0</td>\n",
       "      <td>0</td>\n",
       "      <td>330911</td>\n",
       "      <td>7.8292</td>\n",
       "      <td>2</td>\n",
       "      <td>4</td>\n",
       "      <td>1</td>\n",
       "      <td>2</td>\n",
       "      <td>0</td>\n",
       "      <td>1</td>\n",
       "      <td>1</td>\n",
       "      <td>0</td>\n",
       "    </tr>\n",
       "    <tr>\n",
       "      <th>1</th>\n",
       "      <td>893</td>\n",
       "      <td>3</td>\n",
       "      <td>1</td>\n",
       "      <td>47</td>\n",
       "      <td>1</td>\n",
       "      <td>0</td>\n",
       "      <td>363272</td>\n",
       "      <td>7.0000</td>\n",
       "      <td>0</td>\n",
       "      <td>0</td>\n",
       "      <td>0</td>\n",
       "      <td>2</td>\n",
       "      <td>0</td>\n",
       "      <td>2</td>\n",
       "      <td>0</td>\n",
       "      <td>0</td>\n",
       "    </tr>\n",
       "    <tr>\n",
       "      <th>2</th>\n",
       "      <td>894</td>\n",
       "      <td>2</td>\n",
       "      <td>0</td>\n",
       "      <td>62</td>\n",
       "      <td>0</td>\n",
       "      <td>0</td>\n",
       "      <td>240276</td>\n",
       "      <td>9.6875</td>\n",
       "      <td>2</td>\n",
       "      <td>4</td>\n",
       "      <td>1</td>\n",
       "      <td>3</td>\n",
       "      <td>0</td>\n",
       "      <td>1</td>\n",
       "      <td>1</td>\n",
       "      <td>1</td>\n",
       "    </tr>\n",
       "    <tr>\n",
       "      <th>3</th>\n",
       "      <td>895</td>\n",
       "      <td>3</td>\n",
       "      <td>0</td>\n",
       "      <td>27</td>\n",
       "      <td>0</td>\n",
       "      <td>0</td>\n",
       "      <td>315154</td>\n",
       "      <td>8.6625</td>\n",
       "      <td>0</td>\n",
       "      <td>4</td>\n",
       "      <td>1</td>\n",
       "      <td>1</td>\n",
       "      <td>0</td>\n",
       "      <td>1</td>\n",
       "      <td>1</td>\n",
       "      <td>1</td>\n",
       "    </tr>\n",
       "    <tr>\n",
       "      <th>4</th>\n",
       "      <td>896</td>\n",
       "      <td>3</td>\n",
       "      <td>1</td>\n",
       "      <td>22</td>\n",
       "      <td>1</td>\n",
       "      <td>1</td>\n",
       "      <td>3101298</td>\n",
       "      <td>12.2875</td>\n",
       "      <td>0</td>\n",
       "      <td>0</td>\n",
       "      <td>0</td>\n",
       "      <td>1</td>\n",
       "      <td>0</td>\n",
       "      <td>3</td>\n",
       "      <td>0</td>\n",
       "      <td>1</td>\n",
       "    </tr>\n",
       "  </tbody>\n",
       "</table>\n",
       "</div>"
      ],
      "text/plain": [
       "   PassengerId  Pclass  Sex  Age  SibSp  Parch   Ticket     Fare  Embarked  \\\n",
       "0          892       3    0   34      0      0   330911   7.8292         2   \n",
       "1          893       3    1   47      1      0   363272   7.0000         0   \n",
       "2          894       2    0   62      0      0   240276   9.6875         2   \n",
       "3          895       3    0   27      0      0   315154   8.6625         0   \n",
       "4          896       3    1   22      1      1  3101298  12.2875         0   \n",
       "\n",
       "   Title  IsMr AgeGroup  IsElderly  FamilySize  IsAlone FareGroup  \n",
       "0      4     1        2          0           1        1         0  \n",
       "1      0     0        2          0           2        0         0  \n",
       "2      4     1        3          0           1        1         1  \n",
       "3      4     1        1          0           1        1         1  \n",
       "4      0     0        1          0           3        0         1  "
      ]
     },
     "execution_count": 72,
     "metadata": {},
     "output_type": "execute_result"
    }
   ],
   "source": [
    "# Check first few rows of test_data\n",
    "test_data.head()"
   ]
  },
  {
   "cell_type": "markdown",
   "id": "50e77cc6",
   "metadata": {
    "papermill": {
     "duration": 0.076023,
     "end_time": "2024-04-17T08:34:20.923013",
     "exception": false,
     "start_time": "2024-04-17T08:34:20.846990",
     "status": "completed"
    },
    "tags": []
   },
   "source": [
    "PassengerId, which is unique to each passenger and is just an identifier, does not contribute to the prediction of each passenger's survival. Consequently, it has to be dropped from both train_data and test_data.\n",
    "\n",
    "Ticket, which represents the ticket number, has 681 unique values in train_data, which has 891 rows in total. It may hold some clues, but similar to Cabin, it can be dropped from train_data and test_data. Whatever relevant information may be in this column is expected to be better provided by Pclass and Fare. Pclass represents the ticket class.\n",
    "\n",
    "Survived is the target variable so it has to be dropped from train_data. \n",
    "\n",
    "Age can be dropped from train_data and test_data because it is different in scale from the rest of the features and AgeGroup was already created.\n",
    "\n",
    "Fare can be dropped from train_data and test_data because it is different in scale from the rest of the features and FareGroup was already created."
   ]
  },
  {
   "cell_type": "code",
   "execution_count": 73,
   "id": "e2ae7dad",
   "metadata": {
    "execution": {
     "iopub.execute_input": "2024-04-17T08:34:21.084785Z",
     "iopub.status.busy": "2024-04-17T08:34:21.083640Z",
     "iopub.status.idle": "2024-04-17T08:34:21.093334Z",
     "shell.execute_reply": "2024-04-17T08:34:21.092346Z"
    },
    "papermill": {
     "duration": 0.093336,
     "end_time": "2024-04-17T08:34:21.096276",
     "exception": false,
     "start_time": "2024-04-17T08:34:21.002940",
     "status": "completed"
    },
    "tags": []
   },
   "outputs": [],
   "source": [
    "# Define X_train, X_test, and y_train\n",
    "X_train = train_data.drop(columns=['PassengerId', 'Survived', 'Age', 'Ticket', 'Fare'], inplace=False)\n",
    "X_test = test_data.drop(columns=['PassengerId', 'Age', 'Ticket', 'Fare'], inplace=False)\n",
    "y_train = train_data['Survived']"
   ]
  },
  {
   "cell_type": "code",
   "execution_count": 74,
   "id": "1f1bdb91",
   "metadata": {
    "execution": {
     "iopub.execute_input": "2024-04-17T08:34:21.254860Z",
     "iopub.status.busy": "2024-04-17T08:34:21.254299Z",
     "iopub.status.idle": "2024-04-17T08:34:21.261838Z",
     "shell.execute_reply": "2024-04-17T08:34:21.260719Z"
    },
    "papermill": {
     "duration": 0.090939,
     "end_time": "2024-04-17T08:34:21.264511",
     "exception": false,
     "start_time": "2024-04-17T08:34:21.173572",
     "status": "completed"
    },
    "tags": []
   },
   "outputs": [
    {
     "name": "stdout",
     "output_type": "stream",
     "text": [
      "Shape of X_train:  (891, 12)\n",
      "Shape of y_train:  (891,)\n",
      "Shape of X_test:  (418, 12)\n"
     ]
    }
   ],
   "source": [
    "# Check shape of X_train, X_test, and y_train\n",
    "print(\"Shape of X_train: \", X_train.shape)\n",
    "print(\"Shape of y_train: \", y_train.shape)\n",
    "print(\"Shape of X_test: \", X_test.shape)"
   ]
  },
  {
   "cell_type": "code",
   "execution_count": 75,
   "id": "9f10cd27",
   "metadata": {
    "execution": {
     "iopub.execute_input": "2024-04-17T08:34:21.421451Z",
     "iopub.status.busy": "2024-04-17T08:34:21.420546Z",
     "iopub.status.idle": "2024-04-17T08:34:21.428326Z",
     "shell.execute_reply": "2024-04-17T08:34:21.426945Z"
    },
    "papermill": {
     "duration": 0.088456,
     "end_time": "2024-04-17T08:34:21.430969",
     "exception": false,
     "start_time": "2024-04-17T08:34:21.342513",
     "status": "completed"
    },
    "tags": []
   },
   "outputs": [
    {
     "data": {
      "text/plain": [
       "Index(['Pclass', 'Sex', 'SibSp', 'Parch', 'Embarked', 'Title', 'IsMr',\n",
       "       'AgeGroup', 'IsElderly', 'FamilySize', 'IsAlone', 'FareGroup'],\n",
       "      dtype='object')"
      ]
     },
     "execution_count": 75,
     "metadata": {},
     "output_type": "execute_result"
    }
   ],
   "source": [
    "# Check remaining features in X_train\n",
    "X_train.columns"
   ]
  },
  {
   "cell_type": "code",
   "execution_count": 76,
   "id": "646a0d60",
   "metadata": {
    "execution": {
     "iopub.execute_input": "2024-04-17T08:34:21.587732Z",
     "iopub.status.busy": "2024-04-17T08:34:21.587205Z",
     "iopub.status.idle": "2024-04-17T08:34:21.594981Z",
     "shell.execute_reply": "2024-04-17T08:34:21.593734Z"
    },
    "papermill": {
     "duration": 0.090555,
     "end_time": "2024-04-17T08:34:21.597712",
     "exception": false,
     "start_time": "2024-04-17T08:34:21.507157",
     "status": "completed"
    },
    "tags": []
   },
   "outputs": [
    {
     "data": {
      "text/plain": [
       "Index(['Pclass', 'Sex', 'SibSp', 'Parch', 'Embarked', 'Title', 'IsMr',\n",
       "       'AgeGroup', 'IsElderly', 'FamilySize', 'IsAlone', 'FareGroup'],\n",
       "      dtype='object')"
      ]
     },
     "execution_count": 76,
     "metadata": {},
     "output_type": "execute_result"
    }
   ],
   "source": [
    "# Check remaining features in X_test\n",
    "X_test.columns"
   ]
  },
  {
   "cell_type": "markdown",
   "id": "3214c01e",
   "metadata": {
    "papermill": {
     "duration": 0.074896,
     "end_time": "2024-04-17T08:34:21.747592",
     "exception": false,
     "start_time": "2024-04-17T08:34:21.672696",
     "status": "completed"
    },
    "tags": []
   },
   "source": [
    "# Exploratory Data Analysis"
   ]
  },
  {
   "cell_type": "markdown",
   "id": "5a25dd5e",
   "metadata": {
    "papermill": {
     "duration": 0.074487,
     "end_time": "2024-04-17T08:34:21.896758",
     "exception": false,
     "start_time": "2024-04-17T08:34:21.822271",
     "status": "completed"
    },
    "tags": []
   },
   "source": [
    "## Relationships Among Features"
   ]
  },
  {
   "cell_type": "code",
   "execution_count": 77,
   "id": "a0d230c7",
   "metadata": {
    "execution": {
     "iopub.execute_input": "2024-04-17T08:34:22.050870Z",
     "iopub.status.busy": "2024-04-17T08:34:22.049523Z",
     "iopub.status.idle": "2024-04-17T08:34:22.074936Z",
     "shell.execute_reply": "2024-04-17T08:34:22.073588Z"
    },
    "papermill": {
     "duration": 0.106706,
     "end_time": "2024-04-17T08:34:22.077660",
     "exception": false,
     "start_time": "2024-04-17T08:34:21.970954",
     "status": "completed"
    },
    "tags": []
   },
   "outputs": [
    {
     "data": {
      "text/html": [
       "<div>\n",
       "<style scoped>\n",
       "    .dataframe tbody tr th:only-of-type {\n",
       "        vertical-align: middle;\n",
       "    }\n",
       "\n",
       "    .dataframe tbody tr th {\n",
       "        vertical-align: top;\n",
       "    }\n",
       "\n",
       "    .dataframe thead th {\n",
       "        text-align: right;\n",
       "    }\n",
       "</style>\n",
       "<table border=\"1\" class=\"dataframe\">\n",
       "  <thead>\n",
       "    <tr style=\"text-align: right;\">\n",
       "      <th></th>\n",
       "      <th>Pclass</th>\n",
       "      <th>Sex</th>\n",
       "      <th>SibSp</th>\n",
       "      <th>Parch</th>\n",
       "      <th>Embarked</th>\n",
       "      <th>Title</th>\n",
       "      <th>IsMr</th>\n",
       "      <th>AgeGroup</th>\n",
       "      <th>IsElderly</th>\n",
       "      <th>FamilySize</th>\n",
       "      <th>IsAlone</th>\n",
       "      <th>FareGroup</th>\n",
       "    </tr>\n",
       "  </thead>\n",
       "  <tbody>\n",
       "    <tr>\n",
       "      <th>Pclass</th>\n",
       "      <td>1.000000</td>\n",
       "      <td>-0.131900</td>\n",
       "      <td>0.083081</td>\n",
       "      <td>0.018443</td>\n",
       "      <td>0.045702</td>\n",
       "      <td>0.137035</td>\n",
       "      <td>0.142698</td>\n",
       "      <td>-0.358005</td>\n",
       "      <td>-0.077787</td>\n",
       "      <td>0.065997</td>\n",
       "      <td>0.135207</td>\n",
       "      <td>-0.628459</td>\n",
       "    </tr>\n",
       "    <tr>\n",
       "      <th>Sex</th>\n",
       "      <td>-0.131900</td>\n",
       "      <td>1.000000</td>\n",
       "      <td>0.114631</td>\n",
       "      <td>0.245489</td>\n",
       "      <td>0.116569</td>\n",
       "      <td>-0.944195</td>\n",
       "      <td>-0.867334</td>\n",
       "      <td>-0.071125</td>\n",
       "      <td>-0.082477</td>\n",
       "      <td>0.200988</td>\n",
       "      <td>-0.303646</td>\n",
       "      <td>0.248940</td>\n",
       "    </tr>\n",
       "    <tr>\n",
       "      <th>SibSp</th>\n",
       "      <td>0.083081</td>\n",
       "      <td>0.114631</td>\n",
       "      <td>1.000000</td>\n",
       "      <td>0.414838</td>\n",
       "      <td>-0.059961</td>\n",
       "      <td>-0.202135</td>\n",
       "      <td>-0.250489</td>\n",
       "      <td>-0.218846</td>\n",
       "      <td>-0.043834</td>\n",
       "      <td>0.890712</td>\n",
       "      <td>-0.584471</td>\n",
       "      <td>0.394248</td>\n",
       "    </tr>\n",
       "    <tr>\n",
       "      <th>Parch</th>\n",
       "      <td>0.018443</td>\n",
       "      <td>0.245489</td>\n",
       "      <td>0.414838</td>\n",
       "      <td>1.000000</td>\n",
       "      <td>-0.078665</td>\n",
       "      <td>-0.330014</td>\n",
       "      <td>-0.333905</td>\n",
       "      <td>-0.134014</td>\n",
       "      <td>-0.027725</td>\n",
       "      <td>0.783111</td>\n",
       "      <td>-0.583398</td>\n",
       "      <td>0.393048</td>\n",
       "    </tr>\n",
       "    <tr>\n",
       "      <th>Embarked</th>\n",
       "      <td>0.045702</td>\n",
       "      <td>0.116569</td>\n",
       "      <td>-0.059961</td>\n",
       "      <td>-0.078665</td>\n",
       "      <td>1.000000</td>\n",
       "      <td>-0.093645</td>\n",
       "      <td>-0.113971</td>\n",
       "      <td>-0.051975</td>\n",
       "      <td>0.048390</td>\n",
       "      <td>-0.080281</td>\n",
       "      <td>0.017807</td>\n",
       "      <td>-0.091096</td>\n",
       "    </tr>\n",
       "    <tr>\n",
       "      <th>Title</th>\n",
       "      <td>0.137035</td>\n",
       "      <td>-0.944195</td>\n",
       "      <td>-0.202135</td>\n",
       "      <td>-0.330014</td>\n",
       "      <td>-0.093645</td>\n",
       "      <td>1.000000</td>\n",
       "      <td>0.944440</td>\n",
       "      <td>0.097245</td>\n",
       "      <td>0.083549</td>\n",
       "      <td>-0.303022</td>\n",
       "      <td>0.411560</td>\n",
       "      <td>-0.316181</td>\n",
       "    </tr>\n",
       "    <tr>\n",
       "      <th>IsMr</th>\n",
       "      <td>0.142698</td>\n",
       "      <td>-0.867334</td>\n",
       "      <td>-0.250489</td>\n",
       "      <td>-0.333905</td>\n",
       "      <td>-0.113971</td>\n",
       "      <td>0.944440</td>\n",
       "      <td>1.000000</td>\n",
       "      <td>0.145364</td>\n",
       "      <td>0.074497</td>\n",
       "      <td>-0.338014</td>\n",
       "      <td>0.396920</td>\n",
       "      <td>-0.323790</td>\n",
       "    </tr>\n",
       "    <tr>\n",
       "      <th>AgeGroup</th>\n",
       "      <td>-0.358005</td>\n",
       "      <td>-0.071125</td>\n",
       "      <td>-0.218846</td>\n",
       "      <td>-0.134014</td>\n",
       "      <td>-0.051975</td>\n",
       "      <td>0.097245</td>\n",
       "      <td>0.145364</td>\n",
       "      <td>1.000000</td>\n",
       "      <td>0.373544</td>\n",
       "      <td>-0.216525</td>\n",
       "      <td>0.124650</td>\n",
       "      <td>0.096773</td>\n",
       "    </tr>\n",
       "    <tr>\n",
       "      <th>IsElderly</th>\n",
       "      <td>-0.077787</td>\n",
       "      <td>-0.082477</td>\n",
       "      <td>-0.043834</td>\n",
       "      <td>-0.027725</td>\n",
       "      <td>0.048390</td>\n",
       "      <td>0.083549</td>\n",
       "      <td>0.074497</td>\n",
       "      <td>0.373544</td>\n",
       "      <td>1.000000</td>\n",
       "      <td>-0.043810</td>\n",
       "      <td>0.049234</td>\n",
       "      <td>0.013137</td>\n",
       "    </tr>\n",
       "    <tr>\n",
       "      <th>FamilySize</th>\n",
       "      <td>0.065997</td>\n",
       "      <td>0.200988</td>\n",
       "      <td>0.890712</td>\n",
       "      <td>0.783111</td>\n",
       "      <td>-0.080281</td>\n",
       "      <td>-0.303022</td>\n",
       "      <td>-0.338014</td>\n",
       "      <td>-0.216525</td>\n",
       "      <td>-0.043810</td>\n",
       "      <td>1.000000</td>\n",
       "      <td>-0.690922</td>\n",
       "      <td>0.465815</td>\n",
       "    </tr>\n",
       "    <tr>\n",
       "      <th>IsAlone</th>\n",
       "      <td>0.135207</td>\n",
       "      <td>-0.303646</td>\n",
       "      <td>-0.584471</td>\n",
       "      <td>-0.583398</td>\n",
       "      <td>0.017807</td>\n",
       "      <td>0.411560</td>\n",
       "      <td>0.396920</td>\n",
       "      <td>0.124650</td>\n",
       "      <td>0.049234</td>\n",
       "      <td>-0.690922</td>\n",
       "      <td>1.000000</td>\n",
       "      <td>-0.568942</td>\n",
       "    </tr>\n",
       "    <tr>\n",
       "      <th>FareGroup</th>\n",
       "      <td>-0.628459</td>\n",
       "      <td>0.248940</td>\n",
       "      <td>0.394248</td>\n",
       "      <td>0.393048</td>\n",
       "      <td>-0.091096</td>\n",
       "      <td>-0.316181</td>\n",
       "      <td>-0.323790</td>\n",
       "      <td>0.096773</td>\n",
       "      <td>0.013137</td>\n",
       "      <td>0.465815</td>\n",
       "      <td>-0.568942</td>\n",
       "      <td>1.000000</td>\n",
       "    </tr>\n",
       "  </tbody>\n",
       "</table>\n",
       "</div>"
      ],
      "text/plain": [
       "              Pclass       Sex     SibSp     Parch  Embarked     Title  \\\n",
       "Pclass      1.000000 -0.131900  0.083081  0.018443  0.045702  0.137035   \n",
       "Sex        -0.131900  1.000000  0.114631  0.245489  0.116569 -0.944195   \n",
       "SibSp       0.083081  0.114631  1.000000  0.414838 -0.059961 -0.202135   \n",
       "Parch       0.018443  0.245489  0.414838  1.000000 -0.078665 -0.330014   \n",
       "Embarked    0.045702  0.116569 -0.059961 -0.078665  1.000000 -0.093645   \n",
       "Title       0.137035 -0.944195 -0.202135 -0.330014 -0.093645  1.000000   \n",
       "IsMr        0.142698 -0.867334 -0.250489 -0.333905 -0.113971  0.944440   \n",
       "AgeGroup   -0.358005 -0.071125 -0.218846 -0.134014 -0.051975  0.097245   \n",
       "IsElderly  -0.077787 -0.082477 -0.043834 -0.027725  0.048390  0.083549   \n",
       "FamilySize  0.065997  0.200988  0.890712  0.783111 -0.080281 -0.303022   \n",
       "IsAlone     0.135207 -0.303646 -0.584471 -0.583398  0.017807  0.411560   \n",
       "FareGroup  -0.628459  0.248940  0.394248  0.393048 -0.091096 -0.316181   \n",
       "\n",
       "                IsMr  AgeGroup  IsElderly  FamilySize   IsAlone  FareGroup  \n",
       "Pclass      0.142698 -0.358005  -0.077787    0.065997  0.135207  -0.628459  \n",
       "Sex        -0.867334 -0.071125  -0.082477    0.200988 -0.303646   0.248940  \n",
       "SibSp      -0.250489 -0.218846  -0.043834    0.890712 -0.584471   0.394248  \n",
       "Parch      -0.333905 -0.134014  -0.027725    0.783111 -0.583398   0.393048  \n",
       "Embarked   -0.113971 -0.051975   0.048390   -0.080281  0.017807  -0.091096  \n",
       "Title       0.944440  0.097245   0.083549   -0.303022  0.411560  -0.316181  \n",
       "IsMr        1.000000  0.145364   0.074497   -0.338014  0.396920  -0.323790  \n",
       "AgeGroup    0.145364  1.000000   0.373544   -0.216525  0.124650   0.096773  \n",
       "IsElderly   0.074497  0.373544   1.000000   -0.043810  0.049234   0.013137  \n",
       "FamilySize -0.338014 -0.216525  -0.043810    1.000000 -0.690922   0.465815  \n",
       "IsAlone     0.396920  0.124650   0.049234   -0.690922  1.000000  -0.568942  \n",
       "FareGroup  -0.323790  0.096773   0.013137    0.465815 -0.568942   1.000000  "
      ]
     },
     "execution_count": 77,
     "metadata": {},
     "output_type": "execute_result"
    }
   ],
   "source": [
    "# Create a correlation matrix of train_features\n",
    "correlation_matrix_features = X_train.corr()\n",
    "correlation_matrix_features"
   ]
  },
  {
   "cell_type": "code",
   "execution_count": 78,
   "id": "7b7bed7f",
   "metadata": {
    "execution": {
     "iopub.execute_input": "2024-04-17T08:34:22.234954Z",
     "iopub.status.busy": "2024-04-17T08:34:22.234023Z",
     "iopub.status.idle": "2024-04-17T08:34:23.368331Z",
     "shell.execute_reply": "2024-04-17T08:34:23.366965Z"
    },
    "papermill": {
     "duration": 1.217204,
     "end_time": "2024-04-17T08:34:23.372097",
     "exception": false,
     "start_time": "2024-04-17T08:34:22.154893",
     "status": "completed"
    },
    "tags": []
   },
   "outputs": [
    {
     "data": {
      "text/plain": [
       "<Axes: >"
      ]
     },
     "execution_count": 78,
     "metadata": {},
     "output_type": "execute_result"
    },
    {
     "data": {
      "image/png": "[encoded data removed]",
      "text/plain": [
       "<Figure size 1000x1000 with 2 Axes>"
      ]
     },
     "metadata": {},
     "output_type": "display_data"
    }
   ],
   "source": [
    "# Create a heatmap of the correlation matrix\n",
    "plt.figure(figsize=(10, 10))\n",
    "sns.heatmap(correlation_matrix_features, annot=True, cmap='coolwarm', fmt='.2f', linewidths=0.5)"
   ]
  },
  {
   "cell_type": "code",
   "execution_count": 79,
   "id": "4f2d5596",
   "metadata": {
    "execution": {
     "iopub.execute_input": "2024-04-17T08:34:23.531245Z",
     "iopub.status.busy": "2024-04-17T08:34:23.530751Z",
     "iopub.status.idle": "2024-04-17T08:34:23.549950Z",
     "shell.execute_reply": "2024-04-17T08:34:23.548475Z"
    },
    "papermill": {
     "duration": 0.102254,
     "end_time": "2024-04-17T08:34:23.553173",
     "exception": false,
     "start_time": "2024-04-17T08:34:23.450919",
     "status": "completed"
    },
    "tags": []
   },
   "outputs": [
    {
     "name": "stdout",
     "output_type": "stream",
     "text": [
      "    Feature 1   Feature 2  Correlation Value      Correlation Level\n",
      "0      Pclass   FareGroup          -0.628459  Moderately correlated\n",
      "1         Sex       Title          -0.944195      Highly correlated\n",
      "2         Sex        IsMr          -0.867334      Highly correlated\n",
      "3       SibSp  FamilySize           0.890712      Highly correlated\n",
      "4       SibSp     IsAlone          -0.584471  Moderately correlated\n",
      "5       Parch  FamilySize           0.783111      Highly correlated\n",
      "6       Parch     IsAlone          -0.583398  Moderately correlated\n",
      "7       Title        IsMr           0.944440      Highly correlated\n",
      "8  FamilySize     IsAlone          -0.690922  Moderately correlated\n",
      "9     IsAlone   FareGroup          -0.568942  Moderately correlated\n"
     ]
    }
   ],
   "source": [
    "# Set correlation thresholds\n",
    "highly_correlated_threshold = 0.7\n",
    "moderately_correlated_threshold = 0.5\n",
    "\n",
    "# List to store correlated pairs, correlation values, and correlation levels\n",
    "correlated_pairs = []\n",
    "\n",
    "# Define function to determine correlation level\n",
    "def get_correlation_level(correlation_value):\n",
    "    if abs(correlation_value) >= highly_correlated_threshold:\n",
    "        return 'Highly correlated'\n",
    "    elif abs(correlation_value) >= moderately_correlated_threshold:\n",
    "        return 'Moderately correlated'\n",
    "    else:\n",
    "        return None\n",
    "\n",
    "# Iterate through pairs of features and accumulate moderately and highly correlated pairs\n",
    "for i in range(len(correlation_matrix_features.columns)):\n",
    "    for j in range(i + 1, len(correlation_matrix_features.columns)):\n",
    "        feature1, feature2 = correlation_matrix_features.columns[i], correlation_matrix_features.columns[j]\n",
    "        correlation_value = correlation_matrix_features.loc[feature1, feature2]\n",
    "        correlation_level = get_correlation_level(correlation_value)\n",
    "        \n",
    "        if correlation_level is not None:\n",
    "            correlated_pairs.append({'Feature 1': feature1,\n",
    "                                     'Feature 2': feature2,\n",
    "                                     'Correlation Value': correlation_value,\n",
    "                                     'Correlation Level': correlation_level})\n",
    "\n",
    "# Convert the list of dictionaries into a DataFrame\n",
    "correlated_pairs_df = pd.DataFrame(correlated_pairs)\n",
    "\n",
    "print(correlated_pairs_df)"
   ]
  },
  {
   "cell_type": "markdown",
   "id": "68fb81ef",
   "metadata": {
    "papermill": {
     "duration": 0.077401,
     "end_time": "2024-04-17T08:34:23.709460",
     "exception": false,
     "start_time": "2024-04-17T08:34:23.632059",
     "status": "completed"
    },
    "tags": []
   },
   "source": [
    "## Relationships Between Target Variable and Each Feature"
   ]
  },
  {
   "cell_type": "code",
   "execution_count": 80,
   "id": "bd7656f5",
   "metadata": {
    "execution": {
     "iopub.execute_input": "2024-04-17T08:34:23.868269Z",
     "iopub.status.busy": "2024-04-17T08:34:23.867761Z",
     "iopub.status.idle": "2024-04-17T08:34:23.889644Z",
     "shell.execute_reply": "2024-04-17T08:34:23.888620Z"
    },
    "papermill": {
     "duration": 0.10435,
     "end_time": "2024-04-17T08:34:23.892353",
     "exception": false,
     "start_time": "2024-04-17T08:34:23.788003",
     "status": "completed"
    },
    "tags": []
   },
   "outputs": [
    {
     "data": {
      "text/plain": [
       "Sex           0.543351\n",
       "FareGroup     0.295875\n",
       "Embarked      0.106811\n",
       "Parch         0.081629\n",
       "FamilySize    0.016639\n",
       "SibSp        -0.035322\n",
       "AgeGroup     -0.044492\n",
       "IsElderly    -0.067344\n",
       "IsAlone      -0.203367\n",
       "Pclass       -0.338481\n",
       "IsMr         -0.549199\n",
       "Title        -0.565716\n",
       "dtype: float64"
      ]
     },
     "execution_count": 80,
     "metadata": {},
     "output_type": "execute_result"
    }
   ],
   "source": [
    "# Create a matrix of correlation between target variable and each feature\n",
    "correlation_with_target = X_train.apply(lambda feature: feature.corr(y_train)).sort_values(ascending=False)\n",
    "correlation_with_target"
   ]
  },
  {
   "cell_type": "code",
   "execution_count": 81,
   "id": "dde47a0b",
   "metadata": {
    "execution": {
     "iopub.execute_input": "2024-04-17T08:34:24.054264Z",
     "iopub.status.busy": "2024-04-17T08:34:24.053708Z",
     "iopub.status.idle": "2024-04-17T08:34:24.067448Z",
     "shell.execute_reply": "2024-04-17T08:34:24.066137Z"
    },
    "papermill": {
     "duration": 0.098725,
     "end_time": "2024-04-17T08:34:24.070047",
     "exception": false,
     "start_time": "2024-04-17T08:34:23.971322",
     "status": "completed"
    },
    "tags": []
   },
   "outputs": [
    {
     "name": "stdout",
     "output_type": "stream",
     "text": [
      "  Feature Target Variable  Correlation Value      Correlation Level\n",
      "0     Sex        Survived           0.543351  Moderately correlated\n",
      "1    IsMr        Survived          -0.549199  Moderately correlated\n",
      "2   Title        Survived          -0.565716  Moderately correlated\n"
     ]
    }
   ],
   "source": [
    "# List to store correlated pairs, correlation values, and correlation levels\n",
    "correlated_pairs_target = []\n",
    "\n",
    "# Iterate through features and calculate correlation with the target variable 'Survived'\n",
    "for feature in correlation_with_target.index:\n",
    "    correlation_value = correlation_with_target.loc[feature]\n",
    "    correlation_level = get_correlation_level(correlation_value)\n",
    "    \n",
    "    if correlation_level is not None:\n",
    "        correlated_pairs_target.append({'Feature': feature,\n",
    "                                        'Target Variable': 'Survived',\n",
    "                                        'Correlation Value': correlation_value,\n",
    "                                        'Correlation Level': correlation_level})\n",
    "\n",
    "# Convert the list of dictionaries into a DataFrame\n",
    "correlated_pairs_target_df = pd.DataFrame(correlated_pairs_target)\n",
    "\n",
    "print(correlated_pairs_target_df)"
   ]
  },
  {
   "cell_type": "code",
   "execution_count": 82,
   "id": "e4d4b21b",
   "metadata": {
    "execution": {
     "iopub.execute_input": "2024-04-17T08:34:24.230233Z",
     "iopub.status.busy": "2024-04-17T08:34:24.229706Z",
     "iopub.status.idle": "2024-04-17T08:34:27.617401Z",
     "shell.execute_reply": "2024-04-17T08:34:27.616432Z"
    },
    "papermill": {
     "duration": 3.47372,
     "end_time": "2024-04-17T08:34:27.622110",
     "exception": false,
     "start_time": "2024-04-17T08:34:24.148390",
     "status": "completed"
    },
    "tags": []
   },
   "outputs": [
    {
     "data": {
      "image/png": "[encoded data removed]",
      "text/plain": [
       "<Figure size 640x480 with 1 Axes>"
      ]
     },
     "metadata": {},
     "output_type": "display_data"
    },
    {
     "data": {
      "image/png": "[encoded data removed]",
      "text/plain": [
       "<Figure size 640x480 with 1 Axes>"
      ]
     },
     "metadata": {},
     "output_type": "display_data"
    },
    {
     "data": {
      "image/png": "[encoded data removed]",
      "text/plain": [
       "<Figure size 640x480 with 1 Axes>"
      ]
     },
     "metadata": {},
     "output_type": "display_data"
    },
    {
     "data": {
      "image/png": "[encoded data removed]",
      "text/plain": [
       "<Figure size 640x480 with 1 Axes>"
      ]
     },
     "metadata": {},
     "output_type": "display_data"
    },
    {
     "data": {
      "image/png": "[encoded data removed]",
      "text/plain": [
       "<Figure size 640x480 with 1 Axes>"
      ]
     },
     "metadata": {},
     "output_type": "display_data"
    },
    {
     "data": {
      "image/png": "[encoded data removed]",
      "text/plain": [
       "<Figure size 640x480 with 1 Axes>"
      ]
     },
     "metadata": {},
     "output_type": "display_data"
    },
    {
     "data": {
      "image/png": "[encoded data removed]",
      "text/plain": [
       "<Figure size 640x480 with 1 Axes>"
      ]
     },
     "metadata": {},
     "output_type": "display_data"
    },
    {
     "data": {
      "image/png": "[encoded data removed]",
      "text/plain": [
       "<Figure size 640x480 with 1 Axes>"
      ]
     },
     "metadata": {},
     "output_type": "display_data"
    },
    {
     "data": {
      "image/png": "[encoded data removed]",
      "text/plain": [
       "<Figure size 640x480 with 1 Axes>"
      ]
     },
     "metadata": {},
     "output_type": "display_data"
    },
    {
     "data": {
      "image/png": "[encoded data removed]",
      "text/plain": [
       "<Figure size 640x480 with 1 Axes>"
      ]
     },
     "metadata": {},
     "output_type": "display_data"
    },
    {
     "data": {
      "image/png": "[encoded data removed]",
      "text/plain": [
       "<Figure size 640x480 with 1 Axes>"
      ]
     },
     "metadata": {},
     "output_type": "display_data"
    },
    {
     "data": {
      "image/png": "[encoded data removed]",
      "text/plain": [
       "<Figure size 640x480 with 1 Axes>"
      ]
     },
     "metadata": {},
     "output_type": "display_data"
    }
   ],
   "source": [
    "# Iterate over each feature in X_train\n",
    "for feature in X_train.columns:\n",
    "    # Create barplot for current feature versus Survived\n",
    "    sns.barplot(x=X_train[feature], y=y_train, errorbar=None)\n",
    "    plt.xlabel(feature)\n",
    "    plt.ylabel('Survived')\n",
    "    plt.title(f'{feature} versus Mean of Survived')\n",
    "    plt.show()"
   ]
  },
  {
   "cell_type": "markdown",
   "id": "942ef34d",
   "metadata": {
    "papermill": {
     "duration": 0.087397,
     "end_time": "2024-04-17T08:34:27.806022",
     "exception": false,
     "start_time": "2024-04-17T08:34:27.718625",
     "status": "completed"
    },
    "tags": []
   },
   "source": [
    "# Model Development and Evaluation"
   ]
  },
  {
   "cell_type": "markdown",
   "id": "8a0bfc6b",
   "metadata": {
    "papermill": {
     "duration": 0.084269,
     "end_time": "2024-04-17T08:34:27.974721",
     "exception": false,
     "start_time": "2024-04-17T08:34:27.890452",
     "status": "completed"
    },
    "tags": []
   },
   "source": [
    "## Model 1 - Logistic Regression, 12 Features, No Cross-Validation, No Hyperparameter Tuning"
   ]
  },
  {
   "cell_type": "code",
   "execution_count": 83,
   "id": "11dcbf9e",
   "metadata": {
    "execution": {
     "iopub.execute_input": "2024-04-17T08:34:28.153490Z",
     "iopub.status.busy": "2024-04-17T08:34:28.152229Z",
     "iopub.status.idle": "2024-04-17T08:34:28.309001Z",
     "shell.execute_reply": "2024-04-17T08:34:28.305579Z"
    },
    "papermill": {
     "duration": 0.263425,
     "end_time": "2024-04-17T08:34:28.327885",
     "exception": false,
     "start_time": "2024-04-17T08:34:28.064460",
     "status": "completed"
    },
    "tags": []
   },
   "outputs": [
    {
     "name": "stdout",
     "output_type": "stream",
     "text": [
      "       Feature  Coefficient\n",
      "0       Pclass    -0.944040\n",
      "1        Title    -0.802429\n",
      "2         IsMr    -0.541504\n",
      "3     AgeGroup    -0.519382\n",
      "4      IsAlone    -0.364732\n",
      "5   FamilySize    -0.317381\n",
      "6        SibSp    -0.261600\n",
      "7     Embarked     0.240587\n",
      "8    FareGroup     0.208249\n",
      "9    IsElderly    -0.205648\n",
      "10         Sex    -0.194167\n",
      "11       Parch    -0.062707\n",
      "\n",
      "\n",
      "Training set accuracy: 0.8148148148148148\n"
     ]
    }
   ],
   "source": [
    "# Select features to be used\n",
    "features_model1 = ['Pclass', 'Sex', 'SibSp', 'Parch', 'Embarked', 'Title', 'IsMr',\n",
    "       'AgeGroup', 'IsElderly', 'FamilySize', 'IsAlone', 'FareGroup']\n",
    "\n",
    "# Define training and test sets\n",
    "X_train_model1 = X_train[features_model1]\n",
    "y_train_model1 = y_train\n",
    "X_test_model1 = X_test[features_model1]\n",
    "\n",
    "# Instantiate model\n",
    "model1 = LogisticRegression()\n",
    "\n",
    "# Train model\n",
    "model1.fit(X_train_model1, y_train_model1)\n",
    "\n",
    "# Get the coefficients of the model\n",
    "coefficients_model1 = model1.coef_[0]\n",
    "\n",
    "# Create a DataFrame to store feature names and corresponding coefficients\n",
    "coefficients_df_model1 = pd.DataFrame({'Feature': X_train_model1.columns, 'Coefficient': coefficients_model1})\n",
    "\n",
    "# Sort the coefficients to identify the most important features\n",
    "coefficients_df_model1 = coefficients_df_model1 = coefficients_df_model1.reindex(coefficients_df_model1['Coefficient'].abs().sort_values(ascending=False).index).reset_index(drop=True)\n",
    "\n",
    "# Print coefficients\n",
    "print(coefficients_df_model1)\n",
    "print(\"\\n\")\n",
    "\n",
    "# Compute training set accuracy of model\n",
    "train_accuracy_model1 = model1.score(X_train_model1, y_train_model1)\n",
    "\n",
    "# Print training set accuracy of model\n",
    "print (\"Training set accuracy:\", train_accuracy_model1)\n",
    "\n",
    "# Predict on the test set using the model\n",
    "y_pred_model1 = model1.predict(X_test_model1)"
   ]
  },
  {
   "cell_type": "code",
   "execution_count": 84,
   "id": "9b43a0a2",
   "metadata": {
    "execution": {
     "iopub.execute_input": "2024-04-17T08:34:28.554944Z",
     "iopub.status.busy": "2024-04-17T08:34:28.554400Z",
     "iopub.status.idle": "2024-04-17T08:34:28.579099Z",
     "shell.execute_reply": "2024-04-17T08:34:28.577362Z"
    },
    "papermill": {
     "duration": 0.115057,
     "end_time": "2024-04-17T08:34:28.582159",
     "exception": false,
     "start_time": "2024-04-17T08:34:28.467102",
     "status": "completed"
    },
    "tags": []
   },
   "outputs": [
    {
     "data": {
      "text/html": [
       "<div>\n",
       "<style scoped>\n",
       "    .dataframe tbody tr th:only-of-type {\n",
       "        vertical-align: middle;\n",
       "    }\n",
       "\n",
       "    .dataframe tbody tr th {\n",
       "        vertical-align: top;\n",
       "    }\n",
       "\n",
       "    .dataframe thead th {\n",
       "        text-align: right;\n",
       "    }\n",
       "</style>\n",
       "<table border=\"1\" class=\"dataframe\">\n",
       "  <thead>\n",
       "    <tr style=\"text-align: right;\">\n",
       "      <th></th>\n",
       "      <th>PassengerId</th>\n",
       "      <th>Survived</th>\n",
       "    </tr>\n",
       "  </thead>\n",
       "  <tbody>\n",
       "    <tr>\n",
       "      <th>0</th>\n",
       "      <td>892</td>\n",
       "      <td>0</td>\n",
       "    </tr>\n",
       "    <tr>\n",
       "      <th>1</th>\n",
       "      <td>893</td>\n",
       "      <td>1</td>\n",
       "    </tr>\n",
       "    <tr>\n",
       "      <th>2</th>\n",
       "      <td>894</td>\n",
       "      <td>0</td>\n",
       "    </tr>\n",
       "    <tr>\n",
       "      <th>3</th>\n",
       "      <td>895</td>\n",
       "      <td>0</td>\n",
       "    </tr>\n",
       "    <tr>\n",
       "      <th>4</th>\n",
       "      <td>896</td>\n",
       "      <td>1</td>\n",
       "    </tr>\n",
       "    <tr>\n",
       "      <th>...</th>\n",
       "      <td>...</td>\n",
       "      <td>...</td>\n",
       "    </tr>\n",
       "    <tr>\n",
       "      <th>413</th>\n",
       "      <td>1305</td>\n",
       "      <td>0</td>\n",
       "    </tr>\n",
       "    <tr>\n",
       "      <th>414</th>\n",
       "      <td>1306</td>\n",
       "      <td>1</td>\n",
       "    </tr>\n",
       "    <tr>\n",
       "      <th>415</th>\n",
       "      <td>1307</td>\n",
       "      <td>0</td>\n",
       "    </tr>\n",
       "    <tr>\n",
       "      <th>416</th>\n",
       "      <td>1308</td>\n",
       "      <td>0</td>\n",
       "    </tr>\n",
       "    <tr>\n",
       "      <th>417</th>\n",
       "      <td>1309</td>\n",
       "      <td>0</td>\n",
       "    </tr>\n",
       "  </tbody>\n",
       "</table>\n",
       "<p>418 rows × 2 columns</p>\n",
       "</div>"
      ],
      "text/plain": [
       "     PassengerId  Survived\n",
       "0            892         0\n",
       "1            893         1\n",
       "2            894         0\n",
       "3            895         0\n",
       "4            896         1\n",
       "..           ...       ...\n",
       "413         1305         0\n",
       "414         1306         1\n",
       "415         1307         0\n",
       "416         1308         0\n",
       "417         1309         0\n",
       "\n",
       "[418 rows x 2 columns]"
      ]
     },
     "execution_count": 84,
     "metadata": {},
     "output_type": "execute_result"
    }
   ],
   "source": [
    "# Create submission file\n",
    "output_model1 = pd.DataFrame({'PassengerId': test_data['PassengerId'], 'Survived': y_pred_model1})\n",
    "output_model1.to_csv('submission_model1.csv', index=False)\n",
    "\n",
    "# Check contents of submission file\n",
    "submission_model1 = pd.read_csv('submission_model1.csv')\n",
    "submission_model1"
   ]
  },
  {
   "cell_type": "markdown",
   "id": "2e42930c",
   "metadata": {
    "papermill": {
     "duration": 0.084512,
     "end_time": "2024-04-17T08:34:28.755010",
     "exception": false,
     "start_time": "2024-04-17T08:34:28.670498",
     "status": "completed"
    },
    "tags": []
   },
   "source": [
    "According to Kaggle, the test set accuracy of this model is 0.77990."
   ]
  },
  {
   "cell_type": "markdown",
   "id": "37439821",
   "metadata": {
    "papermill": {
     "duration": 0.084022,
     "end_time": "2024-04-17T08:34:28.923682",
     "exception": false,
     "start_time": "2024-04-17T08:34:28.839660",
     "status": "completed"
    },
    "tags": []
   },
   "source": [
    "## Model 2 - K-Nearest Neighbors Classifier, 12 Features, No Cross-Validation, No Hyperparameter Tuning"
   ]
  },
  {
   "cell_type": "code",
   "execution_count": 85,
   "id": "e1f4919e",
   "metadata": {
    "execution": {
     "iopub.execute_input": "2024-04-17T08:34:29.094774Z",
     "iopub.status.busy": "2024-04-17T08:34:29.094272Z",
     "iopub.status.idle": "2024-04-17T08:34:29.218721Z",
     "shell.execute_reply": "2024-04-17T08:34:29.217557Z"
    },
    "papermill": {
     "duration": 0.212559,
     "end_time": "2024-04-17T08:34:29.221413",
     "exception": false,
     "start_time": "2024-04-17T08:34:29.008854",
     "status": "completed"
    },
    "tags": []
   },
   "outputs": [
    {
     "name": "stdout",
     "output_type": "stream",
     "text": [
      "Training set accuracy: 0.8540965207631874\n"
     ]
    }
   ],
   "source": [
    "# Select features to be used\n",
    "features_model2 = ['Pclass', 'Sex', 'SibSp', 'Parch', 'Embarked', 'Title', 'IsMr',\n",
    "       'AgeGroup', 'IsElderly', 'FamilySize', 'IsAlone', 'FareGroup']\n",
    "\n",
    "# Define training and test sets\n",
    "X_train_model2 = X_train[features_model2]\n",
    "y_train_model2 = y_train\n",
    "X_test_model2 = X_test[features_model2]\n",
    "\n",
    "# Instantiate model\n",
    "model2 = KNeighborsClassifier()\n",
    "\n",
    "# Train model\n",
    "model2.fit(X_train_model2, y_train_model2)\n",
    "\n",
    "# Compute training set accuracy of model\n",
    "train_accuracy_model2 = model2.score(X_train_model2, y_train_model2)\n",
    "\n",
    "# Print training set accuracy of model\n",
    "print(\"Training set accuracy:\", train_accuracy_model2)\n",
    "\n",
    "# Predict on the test set using the model\n",
    "y_pred_model2 = model2.predict(X_test_model2)"
   ]
  },
  {
   "cell_type": "code",
   "execution_count": 86,
   "id": "a740819a",
   "metadata": {
    "execution": {
     "iopub.execute_input": "2024-04-17T08:34:29.400352Z",
     "iopub.status.busy": "2024-04-17T08:34:29.399815Z",
     "iopub.status.idle": "2024-04-17T08:34:29.420563Z",
     "shell.execute_reply": "2024-04-17T08:34:29.419147Z"
    },
    "papermill": {
     "duration": 0.111907,
     "end_time": "2024-04-17T08:34:29.423331",
     "exception": false,
     "start_time": "2024-04-17T08:34:29.311424",
     "status": "completed"
    },
    "tags": []
   },
   "outputs": [
    {
     "data": {
      "text/html": [
       "<div>\n",
       "<style scoped>\n",
       "    .dataframe tbody tr th:only-of-type {\n",
       "        vertical-align: middle;\n",
       "    }\n",
       "\n",
       "    .dataframe tbody tr th {\n",
       "        vertical-align: top;\n",
       "    }\n",
       "\n",
       "    .dataframe thead th {\n",
       "        text-align: right;\n",
       "    }\n",
       "</style>\n",
       "<table border=\"1\" class=\"dataframe\">\n",
       "  <thead>\n",
       "    <tr style=\"text-align: right;\">\n",
       "      <th></th>\n",
       "      <th>PassengerId</th>\n",
       "      <th>Survived</th>\n",
       "    </tr>\n",
       "  </thead>\n",
       "  <tbody>\n",
       "    <tr>\n",
       "      <th>0</th>\n",
       "      <td>892</td>\n",
       "      <td>0</td>\n",
       "    </tr>\n",
       "    <tr>\n",
       "      <th>1</th>\n",
       "      <td>893</td>\n",
       "      <td>0</td>\n",
       "    </tr>\n",
       "    <tr>\n",
       "      <th>2</th>\n",
       "      <td>894</td>\n",
       "      <td>0</td>\n",
       "    </tr>\n",
       "    <tr>\n",
       "      <th>3</th>\n",
       "      <td>895</td>\n",
       "      <td>0</td>\n",
       "    </tr>\n",
       "    <tr>\n",
       "      <th>4</th>\n",
       "      <td>896</td>\n",
       "      <td>0</td>\n",
       "    </tr>\n",
       "    <tr>\n",
       "      <th>...</th>\n",
       "      <td>...</td>\n",
       "      <td>...</td>\n",
       "    </tr>\n",
       "    <tr>\n",
       "      <th>413</th>\n",
       "      <td>1305</td>\n",
       "      <td>0</td>\n",
       "    </tr>\n",
       "    <tr>\n",
       "      <th>414</th>\n",
       "      <td>1306</td>\n",
       "      <td>1</td>\n",
       "    </tr>\n",
       "    <tr>\n",
       "      <th>415</th>\n",
       "      <td>1307</td>\n",
       "      <td>0</td>\n",
       "    </tr>\n",
       "    <tr>\n",
       "      <th>416</th>\n",
       "      <td>1308</td>\n",
       "      <td>0</td>\n",
       "    </tr>\n",
       "    <tr>\n",
       "      <th>417</th>\n",
       "      <td>1309</td>\n",
       "      <td>1</td>\n",
       "    </tr>\n",
       "  </tbody>\n",
       "</table>\n",
       "<p>418 rows × 2 columns</p>\n",
       "</div>"
      ],
      "text/plain": [
       "     PassengerId  Survived\n",
       "0            892         0\n",
       "1            893         0\n",
       "2            894         0\n",
       "3            895         0\n",
       "4            896         0\n",
       "..           ...       ...\n",
       "413         1305         0\n",
       "414         1306         1\n",
       "415         1307         0\n",
       "416         1308         0\n",
       "417         1309         1\n",
       "\n",
       "[418 rows x 2 columns]"
      ]
     },
     "execution_count": 86,
     "metadata": {},
     "output_type": "execute_result"
    }
   ],
   "source": [
    "# Create submission file\n",
    "output_model2 = pd.DataFrame({'PassengerId': test_data['PassengerId'], 'Survived': y_pred_model2})\n",
    "output_model2.to_csv('submission_model2.csv', index=False)\n",
    "\n",
    "# Check contents of submission file\n",
    "submission_model2 = pd.read_csv('submission_model2.csv')\n",
    "submission_model2"
   ]
  },
  {
   "cell_type": "markdown",
   "id": "76532674",
   "metadata": {
    "papermill": {
     "duration": 0.086099,
     "end_time": "2024-04-17T08:34:29.595813",
     "exception": false,
     "start_time": "2024-04-17T08:34:29.509714",
     "status": "completed"
    },
    "tags": []
   },
   "source": [
    "According to Kaggle, the test set accuracy of this model is 0.74880."
   ]
  },
  {
   "cell_type": "markdown",
   "id": "b474a1d6",
   "metadata": {
    "papermill": {
     "duration": 0.086807,
     "end_time": "2024-04-17T08:34:29.767469",
     "exception": false,
     "start_time": "2024-04-17T08:34:29.680662",
     "status": "completed"
    },
    "tags": []
   },
   "source": [
    "## Model 3 - Decision Tree Classifier, 12 Features, No Cross-Validation, No Hyperparameter Tuning"
   ]
  },
  {
   "cell_type": "code",
   "execution_count": 87,
   "id": "c3948069",
   "metadata": {
    "execution": {
     "iopub.execute_input": "2024-04-17T08:34:29.939257Z",
     "iopub.status.busy": "2024-04-17T08:34:29.938738Z",
     "iopub.status.idle": "2024-04-17T08:34:29.972075Z",
     "shell.execute_reply": "2024-04-17T08:34:29.970674Z"
    },
    "papermill": {
     "duration": 0.122126,
     "end_time": "2024-04-17T08:34:29.975077",
     "exception": false,
     "start_time": "2024-04-17T08:34:29.852951",
     "status": "completed"
    },
    "tags": []
   },
   "outputs": [
    {
     "name": "stdout",
     "output_type": "stream",
     "text": [
      "       Feature  Importance\n",
      "0        Title    0.489012\n",
      "1       Pclass    0.193708\n",
      "2   FamilySize    0.089988\n",
      "3    FareGroup    0.057209\n",
      "4     AgeGroup    0.042759\n",
      "5     Embarked    0.034263\n",
      "6        SibSp    0.024542\n",
      "7      IsAlone    0.024113\n",
      "8        Parch    0.016593\n",
      "9          Sex    0.012590\n",
      "10        IsMr    0.009584\n",
      "11   IsElderly    0.005639\n",
      "\n",
      "\n",
      "Training set accuracy: 0.8922558922558923\n"
     ]
    }
   ],
   "source": [
    "# Select features to be used\n",
    "features_model3 = ['Pclass', 'Sex', 'SibSp', 'Parch', 'Embarked', 'Title', 'IsMr',\n",
    "       'AgeGroup', 'IsElderly', 'FamilySize', 'IsAlone', 'FareGroup']\n",
    "\n",
    "# Define training and test sets\n",
    "X_train_model3 = X_train[features_model3]\n",
    "y_train_model3 = y_train\n",
    "X_test_model3 = X_test[features_model3]\n",
    "\n",
    "# Instantiate model\n",
    "model3 = DecisionTreeClassifier(random_state=42)\n",
    "\n",
    "# Train model\n",
    "model3.fit(X_train_model3, y_train_model3)\n",
    "\n",
    "# Get the feature importances of the model\n",
    "feature_importances_model3 = model3.feature_importances_\n",
    "\n",
    "# Create a DataFrame to store feature names and corresponding feature importances\n",
    "importance_df_model3 = pd.DataFrame({'Feature': X_train_model3.columns, 'Importance': feature_importances_model3})\n",
    "\n",
    "# Sort the feature importances to identify the most important features\n",
    "importance_df_model3 = importance_df_model3.sort_values(by='Importance', ascending=False).reset_index(drop=True)\n",
    "\n",
    "# Print feature importances\n",
    "print(importance_df_model3)\n",
    "print(\"\\n\")\n",
    "\n",
    "# Compute training set accuracy of model\n",
    "train_accuracy_model3 = model3.score(X_train_model3, y_train_model3)\n",
    "\n",
    "# Print training set accuracy of model\n",
    "print(\"Training set accuracy:\", train_accuracy_model3)\n",
    "\n",
    "# Predict on the test set using the model\n",
    "y_pred_model3 = model3.predict(X_test_model3)"
   ]
  },
  {
   "cell_type": "code",
   "execution_count": 88,
   "id": "8282c6f7",
   "metadata": {
    "execution": {
     "iopub.execute_input": "2024-04-17T08:34:30.150214Z",
     "iopub.status.busy": "2024-04-17T08:34:30.149727Z",
     "iopub.status.idle": "2024-04-17T08:34:30.168492Z",
     "shell.execute_reply": "2024-04-17T08:34:30.166800Z"
    },
    "papermill": {
     "duration": 0.109802,
     "end_time": "2024-04-17T08:34:30.171191",
     "exception": false,
     "start_time": "2024-04-17T08:34:30.061389",
     "status": "completed"
    },
    "tags": []
   },
   "outputs": [
    {
     "data": {
      "text/html": [
       "<div>\n",
       "<style scoped>\n",
       "    .dataframe tbody tr th:only-of-type {\n",
       "        vertical-align: middle;\n",
       "    }\n",
       "\n",
       "    .dataframe tbody tr th {\n",
       "        vertical-align: top;\n",
       "    }\n",
       "\n",
       "    .dataframe thead th {\n",
       "        text-align: right;\n",
       "    }\n",
       "</style>\n",
       "<table border=\"1\" class=\"dataframe\">\n",
       "  <thead>\n",
       "    <tr style=\"text-align: right;\">\n",
       "      <th></th>\n",
       "      <th>PassengerId</th>\n",
       "      <th>Survived</th>\n",
       "    </tr>\n",
       "  </thead>\n",
       "  <tbody>\n",
       "    <tr>\n",
       "      <th>0</th>\n",
       "      <td>892</td>\n",
       "      <td>0</td>\n",
       "    </tr>\n",
       "    <tr>\n",
       "      <th>1</th>\n",
       "      <td>893</td>\n",
       "      <td>0</td>\n",
       "    </tr>\n",
       "    <tr>\n",
       "      <th>2</th>\n",
       "      <td>894</td>\n",
       "      <td>0</td>\n",
       "    </tr>\n",
       "    <tr>\n",
       "      <th>3</th>\n",
       "      <td>895</td>\n",
       "      <td>0</td>\n",
       "    </tr>\n",
       "    <tr>\n",
       "      <th>4</th>\n",
       "      <td>896</td>\n",
       "      <td>0</td>\n",
       "    </tr>\n",
       "    <tr>\n",
       "      <th>...</th>\n",
       "      <td>...</td>\n",
       "      <td>...</td>\n",
       "    </tr>\n",
       "    <tr>\n",
       "      <th>413</th>\n",
       "      <td>1305</td>\n",
       "      <td>0</td>\n",
       "    </tr>\n",
       "    <tr>\n",
       "      <th>414</th>\n",
       "      <td>1306</td>\n",
       "      <td>1</td>\n",
       "    </tr>\n",
       "    <tr>\n",
       "      <th>415</th>\n",
       "      <td>1307</td>\n",
       "      <td>0</td>\n",
       "    </tr>\n",
       "    <tr>\n",
       "      <th>416</th>\n",
       "      <td>1308</td>\n",
       "      <td>0</td>\n",
       "    </tr>\n",
       "    <tr>\n",
       "      <th>417</th>\n",
       "      <td>1309</td>\n",
       "      <td>1</td>\n",
       "    </tr>\n",
       "  </tbody>\n",
       "</table>\n",
       "<p>418 rows × 2 columns</p>\n",
       "</div>"
      ],
      "text/plain": [
       "     PassengerId  Survived\n",
       "0            892         0\n",
       "1            893         0\n",
       "2            894         0\n",
       "3            895         0\n",
       "4            896         0\n",
       "..           ...       ...\n",
       "413         1305         0\n",
       "414         1306         1\n",
       "415         1307         0\n",
       "416         1308         0\n",
       "417         1309         1\n",
       "\n",
       "[418 rows x 2 columns]"
      ]
     },
     "execution_count": 88,
     "metadata": {},
     "output_type": "execute_result"
    }
   ],
   "source": [
    "# Create submission file\n",
    "output_model3 = pd.DataFrame({'PassengerId': test_data['PassengerId'], 'Survived': y_pred_model3})\n",
    "output_model3.to_csv('submission_model3.csv', index=False)\n",
    "\n",
    "# Check contents of submission file\n",
    "submission_model3 = pd.read_csv('submission_model3.csv')\n",
    "submission_model3"
   ]
  },
  {
   "cell_type": "markdown",
   "id": "6ebe29f6",
   "metadata": {
    "papermill": {
     "duration": 0.087884,
     "end_time": "2024-04-17T08:34:30.344734",
     "exception": false,
     "start_time": "2024-04-17T08:34:30.256850",
     "status": "completed"
    },
    "tags": []
   },
   "source": [
    "According to Kaggle, the test set accuracy of this model is 0.75119."
   ]
  },
  {
   "cell_type": "markdown",
   "id": "a15f7f2c",
   "metadata": {
    "papermill": {
     "duration": 0.086878,
     "end_time": "2024-04-17T08:34:30.516308",
     "exception": false,
     "start_time": "2024-04-17T08:34:30.429430",
     "status": "completed"
    },
    "tags": []
   },
   "source": [
    "## Model 4 - Random Forest Classifier, 12 Features, No Cross-Validation, No Hyperparameter Tuning"
   ]
  },
  {
   "cell_type": "code",
   "execution_count": 89,
   "id": "fccf3981",
   "metadata": {
    "execution": {
     "iopub.execute_input": "2024-04-17T08:34:30.690243Z",
     "iopub.status.busy": "2024-04-17T08:34:30.689305Z",
     "iopub.status.idle": "2024-04-17T08:34:31.034774Z",
     "shell.execute_reply": "2024-04-17T08:34:31.033224Z"
    },
    "papermill": {
     "duration": 0.436335,
     "end_time": "2024-04-17T08:34:31.037480",
     "exception": false,
     "start_time": "2024-04-17T08:34:30.601145",
     "status": "completed"
    },
    "tags": []
   },
   "outputs": [
    {
     "name": "stdout",
     "output_type": "stream",
     "text": [
      "       Feature  Importance\n",
      "0        Title    0.207566\n",
      "1          Sex    0.150230\n",
      "2       Pclass    0.133227\n",
      "3         IsMr    0.099615\n",
      "4    FareGroup    0.095278\n",
      "5     AgeGroup    0.086592\n",
      "6   FamilySize    0.079024\n",
      "7     Embarked    0.052919\n",
      "8        SibSp    0.049255\n",
      "9        Parch    0.031240\n",
      "10     IsAlone    0.012319\n",
      "11   IsElderly    0.002735\n",
      "\n",
      "\n",
      "Training set accuracy: 0.8922558922558923\n"
     ]
    }
   ],
   "source": [
    "# Select features to be used\n",
    "features_model4 = ['Pclass', 'Sex', 'SibSp', 'Parch', 'Embarked', 'Title', 'IsMr',\n",
    "       'AgeGroup', 'IsElderly', 'FamilySize', 'IsAlone', 'FareGroup']\n",
    "\n",
    "# Define training and test sets\n",
    "X_train_model4 = X_train[features_model4]\n",
    "y_train_model4 = y_train\n",
    "X_test_model4 = X_test[features_model4]\n",
    "\n",
    "# Instantiate model\n",
    "model4 = RandomForestClassifier(random_state=42)\n",
    "\n",
    "# Train model\n",
    "model4.fit(X_train_model4, y_train_model4)\n",
    "\n",
    "# Get the feature importances of the model\n",
    "feature_importances_model4 = model4.feature_importances_\n",
    "\n",
    "# Create a DataFrame to store feature names and corresponding feature importances\n",
    "importance_df_model4 = pd.DataFrame({'Feature': X_train_model4.columns, 'Importance': feature_importances_model4})\n",
    "\n",
    "# Sort the feature importances to identify the most important features\n",
    "importance_df_model4 = importance_df_model4.sort_values(by='Importance', ascending=False).reset_index(drop=True)\n",
    "\n",
    "# Print feature importances\n",
    "print(importance_df_model4)\n",
    "print(\"\\n\")\n",
    "\n",
    "# Compute training set accuracy of model\n",
    "train_accuracy_model4 = model4.score(X_train_model4, y_train_model4)\n",
    "\n",
    "# Print training set accuracy of model\n",
    "print(\"Training set accuracy:\", train_accuracy_model4)\n",
    "\n",
    "# Predict on the test set using the model\n",
    "y_pred_model4 = model4.predict(X_test_model4)"
   ]
  },
  {
   "cell_type": "code",
   "execution_count": 90,
   "id": "f1456dd3",
   "metadata": {
    "execution": {
     "iopub.execute_input": "2024-04-17T08:34:31.216972Z",
     "iopub.status.busy": "2024-04-17T08:34:31.216281Z",
     "iopub.status.idle": "2024-04-17T08:34:31.236241Z",
     "shell.execute_reply": "2024-04-17T08:34:31.234978Z"
    },
    "papermill": {
     "duration": 0.117402,
     "end_time": "2024-04-17T08:34:31.240161",
     "exception": false,
     "start_time": "2024-04-17T08:34:31.122759",
     "status": "completed"
    },
    "tags": []
   },
   "outputs": [
    {
     "data": {
      "text/html": [
       "<div>\n",
       "<style scoped>\n",
       "    .dataframe tbody tr th:only-of-type {\n",
       "        vertical-align: middle;\n",
       "    }\n",
       "\n",
       "    .dataframe tbody tr th {\n",
       "        vertical-align: top;\n",
       "    }\n",
       "\n",
       "    .dataframe thead th {\n",
       "        text-align: right;\n",
       "    }\n",
       "</style>\n",
       "<table border=\"1\" class=\"dataframe\">\n",
       "  <thead>\n",
       "    <tr style=\"text-align: right;\">\n",
       "      <th></th>\n",
       "      <th>PassengerId</th>\n",
       "      <th>Survived</th>\n",
       "    </tr>\n",
       "  </thead>\n",
       "  <tbody>\n",
       "    <tr>\n",
       "      <th>0</th>\n",
       "      <td>892</td>\n",
       "      <td>0</td>\n",
       "    </tr>\n",
       "    <tr>\n",
       "      <th>1</th>\n",
       "      <td>893</td>\n",
       "      <td>0</td>\n",
       "    </tr>\n",
       "    <tr>\n",
       "      <th>2</th>\n",
       "      <td>894</td>\n",
       "      <td>0</td>\n",
       "    </tr>\n",
       "    <tr>\n",
       "      <th>3</th>\n",
       "      <td>895</td>\n",
       "      <td>0</td>\n",
       "    </tr>\n",
       "    <tr>\n",
       "      <th>4</th>\n",
       "      <td>896</td>\n",
       "      <td>0</td>\n",
       "    </tr>\n",
       "    <tr>\n",
       "      <th>...</th>\n",
       "      <td>...</td>\n",
       "      <td>...</td>\n",
       "    </tr>\n",
       "    <tr>\n",
       "      <th>413</th>\n",
       "      <td>1305</td>\n",
       "      <td>0</td>\n",
       "    </tr>\n",
       "    <tr>\n",
       "      <th>414</th>\n",
       "      <td>1306</td>\n",
       "      <td>1</td>\n",
       "    </tr>\n",
       "    <tr>\n",
       "      <th>415</th>\n",
       "      <td>1307</td>\n",
       "      <td>0</td>\n",
       "    </tr>\n",
       "    <tr>\n",
       "      <th>416</th>\n",
       "      <td>1308</td>\n",
       "      <td>0</td>\n",
       "    </tr>\n",
       "    <tr>\n",
       "      <th>417</th>\n",
       "      <td>1309</td>\n",
       "      <td>1</td>\n",
       "    </tr>\n",
       "  </tbody>\n",
       "</table>\n",
       "<p>418 rows × 2 columns</p>\n",
       "</div>"
      ],
      "text/plain": [
       "     PassengerId  Survived\n",
       "0            892         0\n",
       "1            893         0\n",
       "2            894         0\n",
       "3            895         0\n",
       "4            896         0\n",
       "..           ...       ...\n",
       "413         1305         0\n",
       "414         1306         1\n",
       "415         1307         0\n",
       "416         1308         0\n",
       "417         1309         1\n",
       "\n",
       "[418 rows x 2 columns]"
      ]
     },
     "execution_count": 90,
     "metadata": {},
     "output_type": "execute_result"
    }
   ],
   "source": [
    "# Create submission file\n",
    "output_model4 = pd.DataFrame({'PassengerId': test_data['PassengerId'], 'Survived': y_pred_model4})\n",
    "output_model4.to_csv('submission_model4.csv', index=False)\n",
    "\n",
    "# Check contents of submission file\n",
    "submission_model4 = pd.read_csv('submission_model4.csv')\n",
    "submission_model4"
   ]
  },
  {
   "cell_type": "markdown",
   "id": "fed521b6",
   "metadata": {
    "papermill": {
     "duration": 0.088449,
     "end_time": "2024-04-17T08:34:31.414452",
     "exception": false,
     "start_time": "2024-04-17T08:34:31.326003",
     "status": "completed"
    },
    "tags": []
   },
   "source": [
    "According to Kaggle, the test set accuracy of this model is 0.74880."
   ]
  },
  {
   "cell_type": "markdown",
   "id": "49bfeb4e",
   "metadata": {
    "papermill": {
     "duration": 0.090011,
     "end_time": "2024-04-17T08:34:31.593070",
     "exception": false,
     "start_time": "2024-04-17T08:34:31.503059",
     "status": "completed"
    },
    "tags": []
   },
   "source": [
    "## Model 5 - Gradient Boosting Classifier, 12 Features, No Cross-Validation, No Hyperparameter Tuning"
   ]
  },
  {
   "cell_type": "code",
   "execution_count": 91,
   "id": "db6445b3",
   "metadata": {
    "execution": {
     "iopub.execute_input": "2024-04-17T08:34:31.767376Z",
     "iopub.status.busy": "2024-04-17T08:34:31.766882Z",
     "iopub.status.idle": "2024-04-17T08:34:31.952168Z",
     "shell.execute_reply": "2024-04-17T08:34:31.950608Z"
    },
    "papermill": {
     "duration": 0.277106,
     "end_time": "2024-04-17T08:34:31.955384",
     "exception": false,
     "start_time": "2024-04-17T08:34:31.678278",
     "status": "completed"
    },
    "tags": []
   },
   "outputs": [
    {
     "name": "stdout",
     "output_type": "stream",
     "text": [
      "       Feature  Importance\n",
      "0        Title    0.565826\n",
      "1       Pclass    0.226558\n",
      "2   FamilySize    0.094034\n",
      "3    FareGroup    0.037379\n",
      "4     AgeGroup    0.021617\n",
      "5     Embarked    0.016640\n",
      "6        SibSp    0.015070\n",
      "7          Sex    0.013378\n",
      "8         IsMr    0.004591\n",
      "9        Parch    0.003388\n",
      "10   IsElderly    0.000934\n",
      "11     IsAlone    0.000587\n",
      "\n",
      "\n",
      "Training set accuracy: 0.8529741863075196\n"
     ]
    }
   ],
   "source": [
    "# Select features to be used\n",
    "features_model5 = ['Pclass', 'Sex', 'SibSp', 'Parch', 'Embarked', 'Title', 'IsMr',\n",
    "       'AgeGroup', 'IsElderly', 'FamilySize', 'IsAlone', 'FareGroup']\n",
    "\n",
    "# Define training and test sets\n",
    "X_train_model5 = X_train[features_model5]\n",
    "y_train_model5 = y_train\n",
    "X_test_model5 = X_test[features_model5]\n",
    "\n",
    "# Instantiate model\n",
    "model5 = GradientBoostingClassifier(random_state=42)\n",
    "\n",
    "# Train model\n",
    "model5.fit(X_train_model5, y_train_model5)\n",
    "\n",
    "# Get the feature importances of the model\n",
    "feature_importances_model5 = model5.feature_importances_\n",
    "\n",
    "# Create a DataFrame to store feature names and corresponding feature importances\n",
    "importance_df_model5 = pd.DataFrame({'Feature': X_train_model5.columns, 'Importance': feature_importances_model5})\n",
    "\n",
    "# Sort the feature importances to identify the most important features\n",
    "importance_df_model5 = importance_df_model5.sort_values(by='Importance', ascending=False).reset_index(drop=True)\n",
    "\n",
    "# Print feature importances\n",
    "print(importance_df_model5)\n",
    "print(\"\\n\")\n",
    "\n",
    "# Compute training set accuracy of model\n",
    "train_accuracy_model5 = model5.score(X_train_model5, y_train_model5)\n",
    "\n",
    "# Print training set accuracy of model\n",
    "print(\"Training set accuracy:\", train_accuracy_model5)\n",
    "\n",
    "# Predict on the test set using the model\n",
    "y_pred_model5 = model5.predict(X_test_model5)"
   ]
  },
  {
   "cell_type": "code",
   "execution_count": 92,
   "id": "533dc8ce",
   "metadata": {
    "execution": {
     "iopub.execute_input": "2024-04-17T08:34:32.130700Z",
     "iopub.status.busy": "2024-04-17T08:34:32.130185Z",
     "iopub.status.idle": "2024-04-17T08:34:32.150841Z",
     "shell.execute_reply": "2024-04-17T08:34:32.149452Z"
    },
    "papermill": {
     "duration": 0.11099,
     "end_time": "2024-04-17T08:34:32.153756",
     "exception": false,
     "start_time": "2024-04-17T08:34:32.042766",
     "status": "completed"
    },
    "tags": []
   },
   "outputs": [
    {
     "data": {
      "text/html": [
       "<div>\n",
       "<style scoped>\n",
       "    .dataframe tbody tr th:only-of-type {\n",
       "        vertical-align: middle;\n",
       "    }\n",
       "\n",
       "    .dataframe tbody tr th {\n",
       "        vertical-align: top;\n",
       "    }\n",
       "\n",
       "    .dataframe thead th {\n",
       "        text-align: right;\n",
       "    }\n",
       "</style>\n",
       "<table border=\"1\" class=\"dataframe\">\n",
       "  <thead>\n",
       "    <tr style=\"text-align: right;\">\n",
       "      <th></th>\n",
       "      <th>PassengerId</th>\n",
       "      <th>Survived</th>\n",
       "    </tr>\n",
       "  </thead>\n",
       "  <tbody>\n",
       "    <tr>\n",
       "      <th>0</th>\n",
       "      <td>892</td>\n",
       "      <td>0</td>\n",
       "    </tr>\n",
       "    <tr>\n",
       "      <th>1</th>\n",
       "      <td>893</td>\n",
       "      <td>0</td>\n",
       "    </tr>\n",
       "    <tr>\n",
       "      <th>2</th>\n",
       "      <td>894</td>\n",
       "      <td>0</td>\n",
       "    </tr>\n",
       "    <tr>\n",
       "      <th>3</th>\n",
       "      <td>895</td>\n",
       "      <td>0</td>\n",
       "    </tr>\n",
       "    <tr>\n",
       "      <th>4</th>\n",
       "      <td>896</td>\n",
       "      <td>0</td>\n",
       "    </tr>\n",
       "    <tr>\n",
       "      <th>...</th>\n",
       "      <td>...</td>\n",
       "      <td>...</td>\n",
       "    </tr>\n",
       "    <tr>\n",
       "      <th>413</th>\n",
       "      <td>1305</td>\n",
       "      <td>0</td>\n",
       "    </tr>\n",
       "    <tr>\n",
       "      <th>414</th>\n",
       "      <td>1306</td>\n",
       "      <td>1</td>\n",
       "    </tr>\n",
       "    <tr>\n",
       "      <th>415</th>\n",
       "      <td>1307</td>\n",
       "      <td>0</td>\n",
       "    </tr>\n",
       "    <tr>\n",
       "      <th>416</th>\n",
       "      <td>1308</td>\n",
       "      <td>0</td>\n",
       "    </tr>\n",
       "    <tr>\n",
       "      <th>417</th>\n",
       "      <td>1309</td>\n",
       "      <td>1</td>\n",
       "    </tr>\n",
       "  </tbody>\n",
       "</table>\n",
       "<p>418 rows × 2 columns</p>\n",
       "</div>"
      ],
      "text/plain": [
       "     PassengerId  Survived\n",
       "0            892         0\n",
       "1            893         0\n",
       "2            894         0\n",
       "3            895         0\n",
       "4            896         0\n",
       "..           ...       ...\n",
       "413         1305         0\n",
       "414         1306         1\n",
       "415         1307         0\n",
       "416         1308         0\n",
       "417         1309         1\n",
       "\n",
       "[418 rows x 2 columns]"
      ]
     },
     "execution_count": 92,
     "metadata": {},
     "output_type": "execute_result"
    }
   ],
   "source": [
    "# Create submission file\n",
    "output_model5 = pd.DataFrame({'PassengerId': test_data['PassengerId'], 'Survived': y_pred_model5})\n",
    "output_model5.to_csv('submission_model5.csv', index=False)\n",
    "\n",
    "# Check contents of submission file\n",
    "submission_model5 = pd.read_csv('submission_model5.csv')\n",
    "submission_model5"
   ]
  },
  {
   "cell_type": "markdown",
   "id": "5f6d24f9",
   "metadata": {
    "papermill": {
     "duration": 0.086694,
     "end_time": "2024-04-17T08:34:32.327063",
     "exception": false,
     "start_time": "2024-04-17T08:34:32.240369",
     "status": "completed"
    },
    "tags": []
   },
   "source": [
    "According to Kaggle, the test set accuracy of this model is 0.76794."
   ]
  },
  {
   "cell_type": "markdown",
   "id": "e0a37fdc",
   "metadata": {
    "papermill": {
     "duration": 0.085826,
     "end_time": "2024-04-17T08:34:32.500709",
     "exception": false,
     "start_time": "2024-04-17T08:34:32.414883",
     "status": "completed"
    },
    "tags": []
   },
   "source": [
    "## Model 6 - Logistic Regression, 12 Features, With Cross-Validation, No Hyperparameter Tuning"
   ]
  },
  {
   "cell_type": "code",
   "execution_count": 93,
   "id": "2659c648",
   "metadata": {
    "execution": {
     "iopub.execute_input": "2024-04-17T08:34:32.676704Z",
     "iopub.status.busy": "2024-04-17T08:34:32.675402Z",
     "iopub.status.idle": "2024-04-17T08:34:32.902497Z",
     "shell.execute_reply": "2024-04-17T08:34:32.900875Z"
    },
    "papermill": {
     "duration": 0.321303,
     "end_time": "2024-04-17T08:34:32.908958",
     "exception": false,
     "start_time": "2024-04-17T08:34:32.587655",
     "status": "completed"
    },
    "tags": []
   },
   "outputs": [
    {
     "name": "stdout",
     "output_type": "stream",
     "text": [
      "Cross-validation accuracies: [0.79888268 0.80337079 0.85955056 0.78089888 0.82022472]\n",
      "\n",
      "\n",
      "Mean cross-validation accuracy: 0.8125855250768941\n",
      "\n",
      "\n",
      "       Feature  Coefficient\n",
      "0       Pclass    -0.944040\n",
      "1        Title    -0.802429\n",
      "2         IsMr    -0.541504\n",
      "3     AgeGroup    -0.519382\n",
      "4      IsAlone    -0.364732\n",
      "5   FamilySize    -0.317381\n",
      "6        SibSp    -0.261600\n",
      "7     Embarked     0.240587\n",
      "8    FareGroup     0.208249\n",
      "9    IsElderly    -0.205648\n",
      "10         Sex    -0.194167\n",
      "11       Parch    -0.062707\n",
      "\n",
      "\n",
      "Training set accuracy: 0.8148148148148148\n"
     ]
    }
   ],
   "source": [
    "# Select features to be used\n",
    "features_model6 = ['Pclass', 'Sex', 'SibSp', 'Parch', 'Embarked', 'Title', 'IsMr',\n",
    "       'AgeGroup', 'IsElderly', 'FamilySize', 'IsAlone', 'FareGroup']\n",
    "\n",
    "# Define training and test sets\n",
    "X_train_model6 = X_train[features_model6]\n",
    "y_train_model6 = y_train\n",
    "X_test_model6 = X_test[features_model6]\n",
    "\n",
    "# Instantiate model\n",
    "model6 = LogisticRegression()\n",
    "\n",
    "# Initialize cross-validation splitter\n",
    "cv_model6 = KFold(n_splits=5, shuffle=True, random_state=42)\n",
    "\n",
    "# Perform cross-validation\n",
    "cv_score_model6 = cross_val_score(model6, X_train_model6, y_train_model6, cv=cv_model6, scoring='accuracy')\n",
    "print(\"Cross-validation accuracies:\", cv_score_model6)\n",
    "print(\"\\n\")\n",
    "\n",
    "cv_score_mean_model6 = cv_score_model6.mean()\n",
    "print(\"Mean cross-validation accuracy:\", cv_score_mean_model6)\n",
    "print(\"\\n\")\n",
    "\n",
    "# Train model on the entire training set\n",
    "model6.fit(X_train_model6, y_train_model6)\n",
    "\n",
    "# Get the coefficients of the model\n",
    "coefficients_model6 = model6.coef_[0]\n",
    "\n",
    "# Create a DataFrame to store feature names and corresponding coefficients\n",
    "coefficients_df_model6 = pd.DataFrame({'Feature': X_train_model6.columns, 'Coefficient': coefficients_model6})\n",
    "\n",
    "# Sort the coefficients to identify the most important features\n",
    "coefficients_df_model6 = coefficients_df_model6.reindex(coefficients_df_model6['Coefficient'].abs().sort_values(ascending=False).index).reset_index(drop=True)\n",
    "\n",
    "# Print coefficients\n",
    "print(coefficients_df_model6)\n",
    "print(\"\\n\")\n",
    "\n",
    "# Compute training set accuracy of model\n",
    "train_accuracy_model6 = model6.score(X_train_model6, y_train_model6)\n",
    "\n",
    "# Print training set accuracy of model\n",
    "print(\"Training set accuracy:\", train_accuracy_model6)\n",
    "\n",
    "# Predict on the test set using the model\n",
    "y_pred_model6 = model6.predict(X_test_model6)"
   ]
  },
  {
   "cell_type": "code",
   "execution_count": 94,
   "id": "77894078",
   "metadata": {
    "execution": {
     "iopub.execute_input": "2024-04-17T08:34:33.137302Z",
     "iopub.status.busy": "2024-04-17T08:34:33.136817Z",
     "iopub.status.idle": "2024-04-17T08:34:33.155712Z",
     "shell.execute_reply": "2024-04-17T08:34:33.154441Z"
    },
    "papermill": {
     "duration": 0.109695,
     "end_time": "2024-04-17T08:34:33.158614",
     "exception": false,
     "start_time": "2024-04-17T08:34:33.048919",
     "status": "completed"
    },
    "tags": []
   },
   "outputs": [
    {
     "data": {
      "text/html": [
       "<div>\n",
       "<style scoped>\n",
       "    .dataframe tbody tr th:only-of-type {\n",
       "        vertical-align: middle;\n",
       "    }\n",
       "\n",
       "    .dataframe tbody tr th {\n",
       "        vertical-align: top;\n",
       "    }\n",
       "\n",
       "    .dataframe thead th {\n",
       "        text-align: right;\n",
       "    }\n",
       "</style>\n",
       "<table border=\"1\" class=\"dataframe\">\n",
       "  <thead>\n",
       "    <tr style=\"text-align: right;\">\n",
       "      <th></th>\n",
       "      <th>PassengerId</th>\n",
       "      <th>Survived</th>\n",
       "    </tr>\n",
       "  </thead>\n",
       "  <tbody>\n",
       "    <tr>\n",
       "      <th>0</th>\n",
       "      <td>892</td>\n",
       "      <td>0</td>\n",
       "    </tr>\n",
       "    <tr>\n",
       "      <th>1</th>\n",
       "      <td>893</td>\n",
       "      <td>1</td>\n",
       "    </tr>\n",
       "    <tr>\n",
       "      <th>2</th>\n",
       "      <td>894</td>\n",
       "      <td>0</td>\n",
       "    </tr>\n",
       "    <tr>\n",
       "      <th>3</th>\n",
       "      <td>895</td>\n",
       "      <td>0</td>\n",
       "    </tr>\n",
       "    <tr>\n",
       "      <th>4</th>\n",
       "      <td>896</td>\n",
       "      <td>1</td>\n",
       "    </tr>\n",
       "    <tr>\n",
       "      <th>...</th>\n",
       "      <td>...</td>\n",
       "      <td>...</td>\n",
       "    </tr>\n",
       "    <tr>\n",
       "      <th>413</th>\n",
       "      <td>1305</td>\n",
       "      <td>0</td>\n",
       "    </tr>\n",
       "    <tr>\n",
       "      <th>414</th>\n",
       "      <td>1306</td>\n",
       "      <td>1</td>\n",
       "    </tr>\n",
       "    <tr>\n",
       "      <th>415</th>\n",
       "      <td>1307</td>\n",
       "      <td>0</td>\n",
       "    </tr>\n",
       "    <tr>\n",
       "      <th>416</th>\n",
       "      <td>1308</td>\n",
       "      <td>0</td>\n",
       "    </tr>\n",
       "    <tr>\n",
       "      <th>417</th>\n",
       "      <td>1309</td>\n",
       "      <td>0</td>\n",
       "    </tr>\n",
       "  </tbody>\n",
       "</table>\n",
       "<p>418 rows × 2 columns</p>\n",
       "</div>"
      ],
      "text/plain": [
       "     PassengerId  Survived\n",
       "0            892         0\n",
       "1            893         1\n",
       "2            894         0\n",
       "3            895         0\n",
       "4            896         1\n",
       "..           ...       ...\n",
       "413         1305         0\n",
       "414         1306         1\n",
       "415         1307         0\n",
       "416         1308         0\n",
       "417         1309         0\n",
       "\n",
       "[418 rows x 2 columns]"
      ]
     },
     "execution_count": 94,
     "metadata": {},
     "output_type": "execute_result"
    }
   ],
   "source": [
    "# Create submission file\n",
    "output_model6 = pd.DataFrame({'PassengerId': test_data['PassengerId'], 'Survived': y_pred_model6})\n",
    "output_model6.to_csv('submission_model6.csv', index=False)\n",
    "\n",
    "# Check contents of submission file\n",
    "submission_model6 = pd.read_csv('submission_model6.csv')\n",
    "submission_model6"
   ]
  },
  {
   "cell_type": "markdown",
   "id": "924358e9",
   "metadata": {
    "papermill": {
     "duration": 0.181042,
     "end_time": "2024-04-17T08:34:33.424985",
     "exception": false,
     "start_time": "2024-04-17T08:34:33.243943",
     "status": "completed"
    },
    "tags": []
   },
   "source": [
    "According to Kaggle, the test set accuracy of this model is 0.77990."
   ]
  },
  {
   "cell_type": "markdown",
   "id": "eabda06c",
   "metadata": {
    "papermill": {
     "duration": 0.089436,
     "end_time": "2024-04-17T08:34:33.600620",
     "exception": false,
     "start_time": "2024-04-17T08:34:33.511184",
     "status": "completed"
    },
    "tags": []
   },
   "source": [
    "## Model 7 - K-Nearest Neighbors Classifier, 12 Features, With Cross-Validation, No Hyperparameter Tuning"
   ]
  },
  {
   "cell_type": "code",
   "execution_count": 95,
   "id": "92a0a88c",
   "metadata": {
    "execution": {
     "iopub.execute_input": "2024-04-17T08:34:33.778379Z",
     "iopub.status.busy": "2024-04-17T08:34:33.777807Z",
     "iopub.status.idle": "2024-04-17T08:34:34.021167Z",
     "shell.execute_reply": "2024-04-17T08:34:34.019856Z"
    },
    "papermill": {
     "duration": 0.336389,
     "end_time": "2024-04-17T08:34:34.024286",
     "exception": false,
     "start_time": "2024-04-17T08:34:33.687897",
     "status": "completed"
    },
    "tags": []
   },
   "outputs": [
    {
     "name": "stdout",
     "output_type": "stream",
     "text": [
      "Cross-validation scores: [0.72067039 0.80337079 0.82022472 0.78651685 0.81460674]\n",
      "\n",
      "\n",
      "Mean cross-validation score: 0.7890778984370096\n",
      "\n",
      "\n",
      "Training set accuracy: 0.8540965207631874\n"
     ]
    }
   ],
   "source": [
    "# Select features to be used\n",
    "features_model7 = ['Pclass', 'Sex', 'SibSp', 'Parch', 'Embarked', 'Title', 'IsMr',\n",
    "       'AgeGroup', 'IsElderly', 'FamilySize', 'IsAlone', 'FareGroup']\n",
    "\n",
    "# Define training and test sets\n",
    "X_train_model7 = X_train[features_model7]\n",
    "y_train_model7 = y_train\n",
    "X_test_model7 = X_test[features_model7]\n",
    "\n",
    "# Instantiate model\n",
    "model7 = KNeighborsClassifier()\n",
    "\n",
    "# Initialize cross-validation splitter\n",
    "cv_model7 = KFold(n_splits=5, shuffle=True, random_state=42)\n",
    "\n",
    "# Perform cross-validation\n",
    "cv_score_model7 = cross_val_score(model7, X_train_model7, y_train_model7, cv=cv_model7, scoring='accuracy')\n",
    "print(\"Cross-validation scores:\", cv_score_model7)\n",
    "print(\"\\n\")\n",
    "\n",
    "cv_score_mean_model7 = cv_score_model7.mean()\n",
    "print(\"Mean cross-validation score:\", cv_score_mean_model7)\n",
    "print(\"\\n\")\n",
    "\n",
    "# Train model on the entire training set\n",
    "model7.fit(X_train_model7, y_train_model7)\n",
    "\n",
    "# Compute training set accuracy of model\n",
    "train_accuracy_model7 = model7.score(X_train_model7, y_train_model7)\n",
    "\n",
    "# Print training set accuracy of model\n",
    "print(\"Training set accuracy:\", train_accuracy_model7)\n",
    "\n",
    "# Predict on the test set using the model\n",
    "y_pred_model7 = model7.predict(X_test_model7)"
   ]
  },
  {
   "cell_type": "code",
   "execution_count": 96,
   "id": "3949923a",
   "metadata": {
    "execution": {
     "iopub.execute_input": "2024-04-17T08:34:34.199893Z",
     "iopub.status.busy": "2024-04-17T08:34:34.198518Z",
     "iopub.status.idle": "2024-04-17T08:34:34.217448Z",
     "shell.execute_reply": "2024-04-17T08:34:34.216225Z"
    },
    "papermill": {
     "duration": 0.10991,
     "end_time": "2024-04-17T08:34:34.220103",
     "exception": false,
     "start_time": "2024-04-17T08:34:34.110193",
     "status": "completed"
    },
    "tags": []
   },
   "outputs": [
    {
     "data": {
      "text/html": [
       "<div>\n",
       "<style scoped>\n",
       "    .dataframe tbody tr th:only-of-type {\n",
       "        vertical-align: middle;\n",
       "    }\n",
       "\n",
       "    .dataframe tbody tr th {\n",
       "        vertical-align: top;\n",
       "    }\n",
       "\n",
       "    .dataframe thead th {\n",
       "        text-align: right;\n",
       "    }\n",
       "</style>\n",
       "<table border=\"1\" class=\"dataframe\">\n",
       "  <thead>\n",
       "    <tr style=\"text-align: right;\">\n",
       "      <th></th>\n",
       "      <th>PassengerId</th>\n",
       "      <th>Survived</th>\n",
       "    </tr>\n",
       "  </thead>\n",
       "  <tbody>\n",
       "    <tr>\n",
       "      <th>0</th>\n",
       "      <td>892</td>\n",
       "      <td>0</td>\n",
       "    </tr>\n",
       "    <tr>\n",
       "      <th>1</th>\n",
       "      <td>893</td>\n",
       "      <td>0</td>\n",
       "    </tr>\n",
       "    <tr>\n",
       "      <th>2</th>\n",
       "      <td>894</td>\n",
       "      <td>0</td>\n",
       "    </tr>\n",
       "    <tr>\n",
       "      <th>3</th>\n",
       "      <td>895</td>\n",
       "      <td>0</td>\n",
       "    </tr>\n",
       "    <tr>\n",
       "      <th>4</th>\n",
       "      <td>896</td>\n",
       "      <td>0</td>\n",
       "    </tr>\n",
       "    <tr>\n",
       "      <th>...</th>\n",
       "      <td>...</td>\n",
       "      <td>...</td>\n",
       "    </tr>\n",
       "    <tr>\n",
       "      <th>413</th>\n",
       "      <td>1305</td>\n",
       "      <td>0</td>\n",
       "    </tr>\n",
       "    <tr>\n",
       "      <th>414</th>\n",
       "      <td>1306</td>\n",
       "      <td>1</td>\n",
       "    </tr>\n",
       "    <tr>\n",
       "      <th>415</th>\n",
       "      <td>1307</td>\n",
       "      <td>0</td>\n",
       "    </tr>\n",
       "    <tr>\n",
       "      <th>416</th>\n",
       "      <td>1308</td>\n",
       "      <td>0</td>\n",
       "    </tr>\n",
       "    <tr>\n",
       "      <th>417</th>\n",
       "      <td>1309</td>\n",
       "      <td>1</td>\n",
       "    </tr>\n",
       "  </tbody>\n",
       "</table>\n",
       "<p>418 rows × 2 columns</p>\n",
       "</div>"
      ],
      "text/plain": [
       "     PassengerId  Survived\n",
       "0            892         0\n",
       "1            893         0\n",
       "2            894         0\n",
       "3            895         0\n",
       "4            896         0\n",
       "..           ...       ...\n",
       "413         1305         0\n",
       "414         1306         1\n",
       "415         1307         0\n",
       "416         1308         0\n",
       "417         1309         1\n",
       "\n",
       "[418 rows x 2 columns]"
      ]
     },
     "execution_count": 96,
     "metadata": {},
     "output_type": "execute_result"
    }
   ],
   "source": [
    "# Create submission file\n",
    "output_model7 = pd.DataFrame({'PassengerId': test_data['PassengerId'], 'Survived': y_pred_model7})\n",
    "output_model7.to_csv('submission_model7.csv', index=False)\n",
    "\n",
    "# Check contents of submission file\n",
    "submission_model7 = pd.read_csv('submission_model7.csv')\n",
    "submission_model7"
   ]
  },
  {
   "cell_type": "markdown",
   "id": "ecc9e8a3",
   "metadata": {
    "papermill": {
     "duration": 0.086228,
     "end_time": "2024-04-17T08:34:34.393814",
     "exception": false,
     "start_time": "2024-04-17T08:34:34.307586",
     "status": "completed"
    },
    "tags": []
   },
   "source": [
    "According to Kaggle, the test set accuracy of this model is 0.74880."
   ]
  },
  {
   "cell_type": "markdown",
   "id": "f6459038",
   "metadata": {
    "papermill": {
     "duration": 0.086659,
     "end_time": "2024-04-17T08:34:34.567265",
     "exception": false,
     "start_time": "2024-04-17T08:34:34.480606",
     "status": "completed"
    },
    "tags": []
   },
   "source": [
    "## Model 8 - Decision Tree Classifier, 12 Features, With Cross-Validation, No Hyperparameter Tuning"
   ]
  },
  {
   "cell_type": "code",
   "execution_count": 97,
   "id": "4da08a1d",
   "metadata": {
    "execution": {
     "iopub.execute_input": "2024-04-17T08:34:34.746642Z",
     "iopub.status.busy": "2024-04-17T08:34:34.745212Z",
     "iopub.status.idle": "2024-04-17T08:34:34.837857Z",
     "shell.execute_reply": "2024-04-17T08:34:34.836408Z"
    },
    "papermill": {
     "duration": 0.185763,
     "end_time": "2024-04-17T08:34:34.840895",
     "exception": false,
     "start_time": "2024-04-17T08:34:34.655132",
     "status": "completed"
    },
    "tags": []
   },
   "outputs": [
    {
     "name": "stdout",
     "output_type": "stream",
     "text": [
      "Cross-validation accuracies: [0.83240223 0.75842697 0.83707865 0.7752809  0.83146067]\n",
      "\n",
      "\n",
      "Mean cross-validation accuracy: 0.8069298851296214\n",
      "\n",
      "\n",
      "       Feature  Importance  Cumulative_Importance\n",
      "0        Title    0.489012               0.489012\n",
      "1       Pclass    0.193708               0.682720\n",
      "2   FamilySize    0.089988               0.772708\n",
      "3    FareGroup    0.057209               0.829917\n",
      "4     AgeGroup    0.042759               0.872676\n",
      "5     Embarked    0.034263               0.906939\n",
      "6        SibSp    0.024542               0.931481\n",
      "7      IsAlone    0.024113               0.955593\n",
      "8        Parch    0.016593               0.972187\n",
      "9          Sex    0.012590               0.984777\n",
      "10        IsMr    0.009584               0.994361\n",
      "11   IsElderly    0.005639               1.000000\n",
      "\n",
      "\n",
      "Features accounting for 95% of model's predictive power:\n",
      "['Title', 'Pclass', 'FamilySize', 'FareGroup', 'AgeGroup', 'Embarked', 'SibSp', 'IsAlone']\n",
      "\n",
      "\n",
      "Training set accuracy: 0.8922558922558923\n"
     ]
    }
   ],
   "source": [
    "# Select features to be used\n",
    "features_model8 = ['Pclass', 'Sex', 'SibSp', 'Parch', 'Embarked', 'Title', 'IsMr',\n",
    "       'AgeGroup', 'IsElderly', 'FamilySize', 'IsAlone', 'FareGroup']\n",
    "\n",
    "# Define training and test sets\n",
    "X_train_model8 = X_train[features_model8]\n",
    "y_train_model8 = y_train\n",
    "X_test_model8 = X_test[features_model8]\n",
    "\n",
    "# Instantiate model\n",
    "model8 = DecisionTreeClassifier(random_state=42)\n",
    "\n",
    "# Initialize cross-validation splitter\n",
    "cv_model8 = KFold(n_splits=5, shuffle=True, random_state=42)\n",
    "\n",
    "# Perform cross-validation\n",
    "cv_score_model8 = cross_val_score(model8, X_train_model8, y_train_model8, cv=cv_model8, scoring='accuracy')\n",
    "print(\"Cross-validation accuracies:\", cv_score_model8)\n",
    "print(\"\\n\")\n",
    "\n",
    "cv_score_mean_model8 = cv_score_model8.mean()\n",
    "print(\"Mean cross-validation accuracy:\", cv_score_mean_model8)\n",
    "print(\"\\n\")\n",
    "\n",
    "# Train model on the entire training set\n",
    "model8.fit(X_train_model8, y_train_model8)\n",
    "\n",
    "# Get the feature importances of the model\n",
    "feature_importances_model8 = model8.feature_importances_\n",
    "\n",
    "# Create a DataFrame to store feature names and corresponding feature importances\n",
    "importance_df_model8 = pd.DataFrame({'Feature': X_train_model8.columns, 'Importance': feature_importances_model8})\n",
    "\n",
    "# Sort the feature importances to identify the most important features\n",
    "importance_df_model8 = importance_df_model8.sort_values(by='Importance', ascending=False).reset_index(drop=True)\n",
    "\n",
    "# Calculate cumulative sum of feature importances\n",
    "importance_df_model8['Cumulative_Importance'] = importance_df_model8['Importance'].cumsum()\n",
    "\n",
    "# Print feature importances\n",
    "print(importance_df_model8)\n",
    "print(\"\\n\")\n",
    "\n",
    "# Find features accounting for 95% of model's predictive power\n",
    "most_important_features_model8 = []\n",
    "\n",
    "for index, row in importance_df_model8.iterrows():\n",
    "    if row['Cumulative_Importance'] <= 0.95:\n",
    "        most_important_features_model8.append(row['Feature'])\n",
    "    elif index > 0 and importance_df_model8.iloc[index - 1]['Cumulative_Importance'] < 0.95:\n",
    "        most_important_features_model8.append(row['Feature'])\n",
    "    else:\n",
    "        break\n",
    "\n",
    "# List features accounting for 95% of model's predictive power\n",
    "print(\"Features accounting for 95% of model's predictive power:\")\n",
    "print(most_important_features_model8)\n",
    "print(\"\\n\")\n",
    "\n",
    "# Compute training set accuracy\n",
    "train_accuracy_model8 = model8.score(X_train_model8, y_train_model8)\n",
    "\n",
    "# Print training set accuracy\n",
    "print(\"Training set accuracy:\", train_accuracy_model8)\n",
    "\n",
    "# Predict on the test set using the model\n",
    "y_pred_model8 = model8.predict(X_test_model8)"
   ]
  },
  {
   "cell_type": "code",
   "execution_count": 98,
   "id": "abacdae5",
   "metadata": {
    "execution": {
     "iopub.execute_input": "2024-04-17T08:34:35.019879Z",
     "iopub.status.busy": "2024-04-17T08:34:35.019003Z",
     "iopub.status.idle": "2024-04-17T08:34:35.038354Z",
     "shell.execute_reply": "2024-04-17T08:34:35.036907Z"
    },
    "papermill": {
     "duration": 0.113836,
     "end_time": "2024-04-17T08:34:35.041185",
     "exception": false,
     "start_time": "2024-04-17T08:34:34.927349",
     "status": "completed"
    },
    "tags": []
   },
   "outputs": [
    {
     "data": {
      "text/html": [
       "<div>\n",
       "<style scoped>\n",
       "    .dataframe tbody tr th:only-of-type {\n",
       "        vertical-align: middle;\n",
       "    }\n",
       "\n",
       "    .dataframe tbody tr th {\n",
       "        vertical-align: top;\n",
       "    }\n",
       "\n",
       "    .dataframe thead th {\n",
       "        text-align: right;\n",
       "    }\n",
       "</style>\n",
       "<table border=\"1\" class=\"dataframe\">\n",
       "  <thead>\n",
       "    <tr style=\"text-align: right;\">\n",
       "      <th></th>\n",
       "      <th>PassengerId</th>\n",
       "      <th>Survived</th>\n",
       "    </tr>\n",
       "  </thead>\n",
       "  <tbody>\n",
       "    <tr>\n",
       "      <th>0</th>\n",
       "      <td>892</td>\n",
       "      <td>0</td>\n",
       "    </tr>\n",
       "    <tr>\n",
       "      <th>1</th>\n",
       "      <td>893</td>\n",
       "      <td>0</td>\n",
       "    </tr>\n",
       "    <tr>\n",
       "      <th>2</th>\n",
       "      <td>894</td>\n",
       "      <td>0</td>\n",
       "    </tr>\n",
       "    <tr>\n",
       "      <th>3</th>\n",
       "      <td>895</td>\n",
       "      <td>0</td>\n",
       "    </tr>\n",
       "    <tr>\n",
       "      <th>4</th>\n",
       "      <td>896</td>\n",
       "      <td>0</td>\n",
       "    </tr>\n",
       "    <tr>\n",
       "      <th>...</th>\n",
       "      <td>...</td>\n",
       "      <td>...</td>\n",
       "    </tr>\n",
       "    <tr>\n",
       "      <th>413</th>\n",
       "      <td>1305</td>\n",
       "      <td>0</td>\n",
       "    </tr>\n",
       "    <tr>\n",
       "      <th>414</th>\n",
       "      <td>1306</td>\n",
       "      <td>1</td>\n",
       "    </tr>\n",
       "    <tr>\n",
       "      <th>415</th>\n",
       "      <td>1307</td>\n",
       "      <td>0</td>\n",
       "    </tr>\n",
       "    <tr>\n",
       "      <th>416</th>\n",
       "      <td>1308</td>\n",
       "      <td>0</td>\n",
       "    </tr>\n",
       "    <tr>\n",
       "      <th>417</th>\n",
       "      <td>1309</td>\n",
       "      <td>1</td>\n",
       "    </tr>\n",
       "  </tbody>\n",
       "</table>\n",
       "<p>418 rows × 2 columns</p>\n",
       "</div>"
      ],
      "text/plain": [
       "     PassengerId  Survived\n",
       "0            892         0\n",
       "1            893         0\n",
       "2            894         0\n",
       "3            895         0\n",
       "4            896         0\n",
       "..           ...       ...\n",
       "413         1305         0\n",
       "414         1306         1\n",
       "415         1307         0\n",
       "416         1308         0\n",
       "417         1309         1\n",
       "\n",
       "[418 rows x 2 columns]"
      ]
     },
     "execution_count": 98,
     "metadata": {},
     "output_type": "execute_result"
    }
   ],
   "source": [
    "# Create submission file\n",
    "output_model8 = pd.DataFrame({'PassengerId': test_data['PassengerId'], 'Survived': y_pred_model8})\n",
    "output_model8.to_csv('submission_model8.csv', index=False)\n",
    "\n",
    "# Check contents of submission file\n",
    "submission_model8 = pd.read_csv('submission_model8.csv')\n",
    "submission_model8"
   ]
  },
  {
   "cell_type": "markdown",
   "id": "6502e110",
   "metadata": {
    "papermill": {
     "duration": 0.087837,
     "end_time": "2024-04-17T08:34:35.216960",
     "exception": false,
     "start_time": "2024-04-17T08:34:35.129123",
     "status": "completed"
    },
    "tags": []
   },
   "source": [
    "According to Kaggle, the test set accuracy of this model is 0.75119."
   ]
  },
  {
   "cell_type": "markdown",
   "id": "77b4d4ee",
   "metadata": {
    "papermill": {
     "duration": 0.088272,
     "end_time": "2024-04-17T08:34:35.393367",
     "exception": false,
     "start_time": "2024-04-17T08:34:35.305095",
     "status": "completed"
    },
    "tags": []
   },
   "source": [
    "## Model 9 - Random Forest Classifier, 12 Features, With Cross-Validation, No Hyperparameter Tuning"
   ]
  },
  {
   "cell_type": "code",
   "execution_count": 99,
   "id": "969cc89b",
   "metadata": {
    "execution": {
     "iopub.execute_input": "2024-04-17T08:34:35.574484Z",
     "iopub.status.busy": "2024-04-17T08:34:35.573459Z",
     "iopub.status.idle": "2024-04-17T08:34:37.361861Z",
     "shell.execute_reply": "2024-04-17T08:34:37.360608Z"
    },
    "papermill": {
     "duration": 1.882698,
     "end_time": "2024-04-17T08:34:37.364734",
     "exception": false,
     "start_time": "2024-04-17T08:34:35.482036",
     "status": "completed"
    },
    "tags": []
   },
   "outputs": [
    {
     "name": "stdout",
     "output_type": "stream",
     "text": [
      "Cross-validation accuracies: [0.83798883 0.79213483 0.8258427  0.78651685 0.83146067]\n",
      "\n",
      "\n",
      "Mean cross-validation accuracy: 0.8147887765990836\n",
      "\n",
      "\n",
      "       Feature  Importance  Cumulative_Importance\n",
      "0        Title    0.207566               0.207566\n",
      "1          Sex    0.150230               0.357795\n",
      "2       Pclass    0.133227               0.491022\n",
      "3         IsMr    0.099615               0.590638\n",
      "4    FareGroup    0.095278               0.685915\n",
      "5     AgeGroup    0.086592               0.772508\n",
      "6   FamilySize    0.079024               0.851531\n",
      "7     Embarked    0.052919               0.904451\n",
      "8        SibSp    0.049255               0.953706\n",
      "9        Parch    0.031240               0.984946\n",
      "10     IsAlone    0.012319               0.997265\n",
      "11   IsElderly    0.002735               1.000000\n",
      "\n",
      "\n",
      "Features accounting for 95% of model's predictive power:\n",
      "['Title', 'Sex', 'Pclass', 'IsMr', 'FareGroup', 'AgeGroup', 'FamilySize', 'Embarked', 'SibSp']\n",
      "\n",
      "\n",
      "Training set accuracy: 0.8922558922558923\n"
     ]
    }
   ],
   "source": [
    "# Select features to be used\n",
    "features_model9 = ['Pclass', 'Sex', 'SibSp', 'Parch', 'Embarked', 'Title', 'IsMr',\n",
    "       'AgeGroup', 'IsElderly', 'FamilySize', 'IsAlone', 'FareGroup']\n",
    "\n",
    "# Define training and test sets\n",
    "X_train_model9 = X_train[features_model9]\n",
    "y_train_model9 = y_train\n",
    "X_test_model9 = X_test[features_model9]\n",
    "\n",
    "# Instantiate model\n",
    "model9 = RandomForestClassifier(random_state=42)\n",
    "\n",
    "# Initialize cross-validation splitter\n",
    "cv_model9 = KFold(n_splits=5, shuffle=True, random_state=42)\n",
    "\n",
    "# Perform cross-validation\n",
    "cv_score_model9 = cross_val_score(model9, X_train_model9, y_train_model9, cv=cv_model9, scoring='accuracy')\n",
    "print(\"Cross-validation accuracies:\", cv_score_model9)\n",
    "print(\"\\n\")\n",
    "\n",
    "cv_score_mean_model9 = cv_score_model9.mean()\n",
    "print(\"Mean cross-validation accuracy:\", cv_score_mean_model9)\n",
    "print(\"\\n\")\n",
    "\n",
    "# Train model on the entire training set\n",
    "model9.fit(X_train_model9, y_train_model9)\n",
    "\n",
    "# Get the feature importances of the model\n",
    "feature_importances_model9 = model9.feature_importances_\n",
    "\n",
    "# Create a DataFrame to store feature names and corresponding feature importances\n",
    "importance_df_model9 = pd.DataFrame({'Feature': X_train_model9.columns, 'Importance': feature_importances_model9})\n",
    "\n",
    "# Sort the feature importances to identify the most important features\n",
    "importance_df_model9 = importance_df_model9.sort_values(by='Importance', ascending=False).reset_index(drop=True)\n",
    "\n",
    "# Calculate cumulative sum of feature importances\n",
    "importance_df_model9['Cumulative_Importance'] = importance_df_model9['Importance'].cumsum()\n",
    "\n",
    "# Print feature importances\n",
    "print(importance_df_model9)\n",
    "print(\"\\n\")\n",
    "\n",
    "# Find features accounting for 95% of model's predictive power\n",
    "most_important_features_model9 = []\n",
    "\n",
    "for index, row in importance_df_model9.iterrows():\n",
    "    if row['Cumulative_Importance'] <= 0.95:\n",
    "        most_important_features_model9.append(row['Feature'])\n",
    "    elif index > 0 and importance_df_model9.iloc[index - 1]['Cumulative_Importance'] < 0.95:\n",
    "        most_important_features_model9.append(row['Feature'])\n",
    "    else:\n",
    "        break\n",
    "\n",
    "# List features accounting for 95% of model's predictive power\n",
    "print(\"Features accounting for 95% of model's predictive power:\")\n",
    "print(most_important_features_model9)\n",
    "print(\"\\n\")\n",
    "\n",
    "# Compute training set accuracy\n",
    "train_accuracy_model9 = model9.score(X_train_model9, y_train_model9)\n",
    "\n",
    "# Print training set accuracy\n",
    "print(\"Training set accuracy:\", train_accuracy_model9)\n",
    "\n",
    "# Predict on the test set using the model\n",
    "y_pred_model9 = model9.predict(X_test_model9)"
   ]
  },
  {
   "cell_type": "code",
   "execution_count": 100,
   "id": "e6cc11cd",
   "metadata": {
    "execution": {
     "iopub.execute_input": "2024-04-17T08:34:37.545986Z",
     "iopub.status.busy": "2024-04-17T08:34:37.544858Z",
     "iopub.status.idle": "2024-04-17T08:34:37.564376Z",
     "shell.execute_reply": "2024-04-17T08:34:37.563318Z"
    },
    "papermill": {
     "duration": 0.111896,
     "end_time": "2024-04-17T08:34:37.566731",
     "exception": false,
     "start_time": "2024-04-17T08:34:37.454835",
     "status": "completed"
    },
    "tags": []
   },
   "outputs": [
    {
     "data": {
      "text/html": [
       "<div>\n",
       "<style scoped>\n",
       "    .dataframe tbody tr th:only-of-type {\n",
       "        vertical-align: middle;\n",
       "    }\n",
       "\n",
       "    .dataframe tbody tr th {\n",
       "        vertical-align: top;\n",
       "    }\n",
       "\n",
       "    .dataframe thead th {\n",
       "        text-align: right;\n",
       "    }\n",
       "</style>\n",
       "<table border=\"1\" class=\"dataframe\">\n",
       "  <thead>\n",
       "    <tr style=\"text-align: right;\">\n",
       "      <th></th>\n",
       "      <th>PassengerId</th>\n",
       "      <th>Survived</th>\n",
       "    </tr>\n",
       "  </thead>\n",
       "  <tbody>\n",
       "    <tr>\n",
       "      <th>0</th>\n",
       "      <td>892</td>\n",
       "      <td>0</td>\n",
       "    </tr>\n",
       "    <tr>\n",
       "      <th>1</th>\n",
       "      <td>893</td>\n",
       "      <td>0</td>\n",
       "    </tr>\n",
       "    <tr>\n",
       "      <th>2</th>\n",
       "      <td>894</td>\n",
       "      <td>0</td>\n",
       "    </tr>\n",
       "    <tr>\n",
       "      <th>3</th>\n",
       "      <td>895</td>\n",
       "      <td>0</td>\n",
       "    </tr>\n",
       "    <tr>\n",
       "      <th>4</th>\n",
       "      <td>896</td>\n",
       "      <td>0</td>\n",
       "    </tr>\n",
       "    <tr>\n",
       "      <th>...</th>\n",
       "      <td>...</td>\n",
       "      <td>...</td>\n",
       "    </tr>\n",
       "    <tr>\n",
       "      <th>413</th>\n",
       "      <td>1305</td>\n",
       "      <td>0</td>\n",
       "    </tr>\n",
       "    <tr>\n",
       "      <th>414</th>\n",
       "      <td>1306</td>\n",
       "      <td>1</td>\n",
       "    </tr>\n",
       "    <tr>\n",
       "      <th>415</th>\n",
       "      <td>1307</td>\n",
       "      <td>0</td>\n",
       "    </tr>\n",
       "    <tr>\n",
       "      <th>416</th>\n",
       "      <td>1308</td>\n",
       "      <td>0</td>\n",
       "    </tr>\n",
       "    <tr>\n",
       "      <th>417</th>\n",
       "      <td>1309</td>\n",
       "      <td>1</td>\n",
       "    </tr>\n",
       "  </tbody>\n",
       "</table>\n",
       "<p>418 rows × 2 columns</p>\n",
       "</div>"
      ],
      "text/plain": [
       "     PassengerId  Survived\n",
       "0            892         0\n",
       "1            893         0\n",
       "2            894         0\n",
       "3            895         0\n",
       "4            896         0\n",
       "..           ...       ...\n",
       "413         1305         0\n",
       "414         1306         1\n",
       "415         1307         0\n",
       "416         1308         0\n",
       "417         1309         1\n",
       "\n",
       "[418 rows x 2 columns]"
      ]
     },
     "execution_count": 100,
     "metadata": {},
     "output_type": "execute_result"
    }
   ],
   "source": [
    "# Create submission file\n",
    "output_model9 = pd.DataFrame({'PassengerId': test_data['PassengerId'], 'Survived': y_pred_model9})\n",
    "output_model9.to_csv('submission_model9.csv', index=False)\n",
    "\n",
    "# Check contents of submission file\n",
    "submission_model9 = pd.read_csv('submission_model9.csv')\n",
    "submission_model9"
   ]
  },
  {
   "cell_type": "markdown",
   "id": "efe55777",
   "metadata": {
    "papermill": {
     "duration": 0.087218,
     "end_time": "2024-04-17T08:34:37.744360",
     "exception": false,
     "start_time": "2024-04-17T08:34:37.657142",
     "status": "completed"
    },
    "tags": []
   },
   "source": [
    "According to Kaggle, the test set accuracy of this model is 0.74880."
   ]
  },
  {
   "cell_type": "markdown",
   "id": "2e7ae617",
   "metadata": {
    "papermill": {
     "duration": 0.090333,
     "end_time": "2024-04-17T08:34:37.924123",
     "exception": false,
     "start_time": "2024-04-17T08:34:37.833790",
     "status": "completed"
    },
    "tags": []
   },
   "source": [
    "## Model 10 - Gradient Boosting Classifier, 12 Features, With Cross-Validation, No Hyperparameter Tuning"
   ]
  },
  {
   "cell_type": "code",
   "execution_count": 101,
   "id": "88209728",
   "metadata": {
    "execution": {
     "iopub.execute_input": "2024-04-17T08:34:38.105820Z",
     "iopub.status.busy": "2024-04-17T08:34:38.104897Z",
     "iopub.status.idle": "2024-04-17T08:34:39.041506Z",
     "shell.execute_reply": "2024-04-17T08:34:39.039878Z"
    },
    "papermill": {
     "duration": 1.033053,
     "end_time": "2024-04-17T08:34:39.044845",
     "exception": false,
     "start_time": "2024-04-17T08:34:38.011792",
     "status": "completed"
    },
    "tags": []
   },
   "outputs": [
    {
     "name": "stdout",
     "output_type": "stream",
     "text": [
      "Cross-validation accuracies: [0.83240223 0.81460674 0.85393258 0.80337079 0.84831461]\n",
      "\n",
      "\n",
      "Mean cross-validation accuracy: 0.830525390747599\n",
      "\n",
      "\n",
      "       Feature  Importance  Cumulative_Importance\n",
      "0        Title    0.565826               0.565826\n",
      "1       Pclass    0.226558               0.792383\n",
      "2   FamilySize    0.094034               0.886417\n",
      "3    FareGroup    0.037379               0.923796\n",
      "4     AgeGroup    0.021617               0.945413\n",
      "5     Embarked    0.016640               0.962053\n",
      "6        SibSp    0.015070               0.977123\n",
      "7          Sex    0.013378               0.990502\n",
      "8         IsMr    0.004591               0.995092\n",
      "9        Parch    0.003388               0.998480\n",
      "10   IsElderly    0.000934               0.999413\n",
      "11     IsAlone    0.000587               1.000000\n",
      "\n",
      "\n",
      "Features accounting for 95% of model's predictive power:\n",
      "['Title', 'Pclass', 'FamilySize', 'FareGroup', 'AgeGroup', 'Embarked']\n",
      "\n",
      "\n",
      "Training set accuracy: 0.8529741863075196\n"
     ]
    }
   ],
   "source": [
    "# Select features to be used\n",
    "features_model10 = ['Pclass', 'Sex', 'SibSp', 'Parch', 'Embarked', 'Title', 'IsMr',\n",
    "       'AgeGroup', 'IsElderly', 'FamilySize', 'IsAlone', 'FareGroup']\n",
    "\n",
    "# Define training and test sets\n",
    "X_train_model10 = X_train[features_model10]\n",
    "y_train_model10 = y_train\n",
    "X_test_model10 = X_test[features_model10]\n",
    "\n",
    "# Instantiate model\n",
    "model10 = GradientBoostingClassifier(random_state=42)\n",
    "\n",
    "# Initialize cross-validation splitter\n",
    "cv_model10 = KFold(n_splits=5, shuffle=True, random_state=42)\n",
    "\n",
    "# Perform cross-validation\n",
    "cv_score_model10 = cross_val_score(model10, X_train_model10, y_train_model10, cv=cv_model10, scoring='accuracy')\n",
    "print(\"Cross-validation accuracies:\", cv_score_model10)\n",
    "print(\"\\n\")\n",
    "\n",
    "cv_score_mean_model10 = cv_score_model10.mean()\n",
    "print(\"Mean cross-validation accuracy:\", cv_score_mean_model10)\n",
    "print(\"\\n\")\n",
    "\n",
    "# Train model on the entire training set\n",
    "model10.fit(X_train_model10, y_train_model10)\n",
    "\n",
    "# Get the feature importances of the model\n",
    "feature_importances_model10 = model10.feature_importances_\n",
    "\n",
    "# Create a DataFrame to store feature names and corresponding feature importances\n",
    "importance_df_model10 = pd.DataFrame({'Feature': X_train_model10.columns, 'Importance': feature_importances_model10})\n",
    "\n",
    "# Sort the feature importances to identify the most important features\n",
    "importance_df_model10 = importance_df_model10.sort_values(by='Importance', ascending=False).reset_index(drop=True)\n",
    "\n",
    "# Calculate cumulative sum of feature importances\n",
    "importance_df_model10['Cumulative_Importance'] = importance_df_model10['Importance'].cumsum()\n",
    "\n",
    "# Print feature importances\n",
    "print(importance_df_model10)\n",
    "print(\"\\n\")\n",
    "\n",
    "# Find features accounting for 95% of model's predictive power\n",
    "most_important_features_model10 = []\n",
    "\n",
    "for index, row in importance_df_model10.iterrows():\n",
    "    if row['Cumulative_Importance'] <= 0.95:\n",
    "        most_important_features_model10.append(row['Feature'])\n",
    "    elif index > 0 and importance_df_model10.iloc[index - 1]['Cumulative_Importance'] < 0.95:\n",
    "        most_important_features_model10.append(row['Feature'])\n",
    "    else:\n",
    "        break\n",
    "\n",
    "# List features accounting for 95% of model's predictive power\n",
    "print(\"Features accounting for 95% of model's predictive power:\")\n",
    "print(most_important_features_model10)\n",
    "print(\"\\n\")\n",
    "\n",
    "# Compute training set accuracy\n",
    "train_accuracy_model10 = model10.score(X_train_model10, y_train_model10)\n",
    "\n",
    "# Print training set accuracy\n",
    "print(\"Training set accuracy:\", train_accuracy_model10)\n",
    "\n",
    "# Predict on the test set using the model\n",
    "y_pred_model10 = model10.predict(X_test_model10)"
   ]
  },
  {
   "cell_type": "code",
   "execution_count": 102,
   "id": "32519b7d",
   "metadata": {
    "execution": {
     "iopub.execute_input": "2024-04-17T08:34:39.230201Z",
     "iopub.status.busy": "2024-04-17T08:34:39.229195Z",
     "iopub.status.idle": "2024-04-17T08:34:39.247868Z",
     "shell.execute_reply": "2024-04-17T08:34:39.246299Z"
    },
    "papermill": {
     "duration": 0.115169,
     "end_time": "2024-04-17T08:34:39.250458",
     "exception": false,
     "start_time": "2024-04-17T08:34:39.135289",
     "status": "completed"
    },
    "tags": []
   },
   "outputs": [
    {
     "data": {
      "text/html": [
       "<div>\n",
       "<style scoped>\n",
       "    .dataframe tbody tr th:only-of-type {\n",
       "        vertical-align: middle;\n",
       "    }\n",
       "\n",
       "    .dataframe tbody tr th {\n",
       "        vertical-align: top;\n",
       "    }\n",
       "\n",
       "    .dataframe thead th {\n",
       "        text-align: right;\n",
       "    }\n",
       "</style>\n",
       "<table border=\"1\" class=\"dataframe\">\n",
       "  <thead>\n",
       "    <tr style=\"text-align: right;\">\n",
       "      <th></th>\n",
       "      <th>PassengerId</th>\n",
       "      <th>Survived</th>\n",
       "    </tr>\n",
       "  </thead>\n",
       "  <tbody>\n",
       "    <tr>\n",
       "      <th>0</th>\n",
       "      <td>892</td>\n",
       "      <td>0</td>\n",
       "    </tr>\n",
       "    <tr>\n",
       "      <th>1</th>\n",
       "      <td>893</td>\n",
       "      <td>0</td>\n",
       "    </tr>\n",
       "    <tr>\n",
       "      <th>2</th>\n",
       "      <td>894</td>\n",
       "      <td>0</td>\n",
       "    </tr>\n",
       "    <tr>\n",
       "      <th>3</th>\n",
       "      <td>895</td>\n",
       "      <td>0</td>\n",
       "    </tr>\n",
       "    <tr>\n",
       "      <th>4</th>\n",
       "      <td>896</td>\n",
       "      <td>0</td>\n",
       "    </tr>\n",
       "    <tr>\n",
       "      <th>...</th>\n",
       "      <td>...</td>\n",
       "      <td>...</td>\n",
       "    </tr>\n",
       "    <tr>\n",
       "      <th>413</th>\n",
       "      <td>1305</td>\n",
       "      <td>0</td>\n",
       "    </tr>\n",
       "    <tr>\n",
       "      <th>414</th>\n",
       "      <td>1306</td>\n",
       "      <td>1</td>\n",
       "    </tr>\n",
       "    <tr>\n",
       "      <th>415</th>\n",
       "      <td>1307</td>\n",
       "      <td>0</td>\n",
       "    </tr>\n",
       "    <tr>\n",
       "      <th>416</th>\n",
       "      <td>1308</td>\n",
       "      <td>0</td>\n",
       "    </tr>\n",
       "    <tr>\n",
       "      <th>417</th>\n",
       "      <td>1309</td>\n",
       "      <td>1</td>\n",
       "    </tr>\n",
       "  </tbody>\n",
       "</table>\n",
       "<p>418 rows × 2 columns</p>\n",
       "</div>"
      ],
      "text/plain": [
       "     PassengerId  Survived\n",
       "0            892         0\n",
       "1            893         0\n",
       "2            894         0\n",
       "3            895         0\n",
       "4            896         0\n",
       "..           ...       ...\n",
       "413         1305         0\n",
       "414         1306         1\n",
       "415         1307         0\n",
       "416         1308         0\n",
       "417         1309         1\n",
       "\n",
       "[418 rows x 2 columns]"
      ]
     },
     "execution_count": 102,
     "metadata": {},
     "output_type": "execute_result"
    }
   ],
   "source": [
    "# Create submission file\n",
    "output_model10 = pd.DataFrame({'PassengerId': test_data['PassengerId'], 'Survived': y_pred_model10})\n",
    "output_model10.to_csv('submission_model10.csv', index=False)\n",
    "\n",
    "# Check contents of submission file\n",
    "submission_model10 = pd.read_csv('submission_model10.csv')\n",
    "submission_model10"
   ]
  },
  {
   "cell_type": "markdown",
   "id": "c811b4b1",
   "metadata": {
    "papermill": {
     "duration": 0.088195,
     "end_time": "2024-04-17T08:34:39.429719",
     "exception": false,
     "start_time": "2024-04-17T08:34:39.341524",
     "status": "completed"
    },
    "tags": []
   },
   "source": [
    "According to Kaggle, the test set accuracy of this model is 0.76794."
   ]
  },
  {
   "cell_type": "markdown",
   "id": "a94600dc",
   "metadata": {
    "papermill": {
     "duration": 0.088545,
     "end_time": "2024-04-17T08:34:39.606547",
     "exception": false,
     "start_time": "2024-04-17T08:34:39.518002",
     "status": "completed"
    },
    "tags": []
   },
   "source": [
    "## Model 11 - Logistic Regression, 12 Features, With Cross-Validation, With Hyperparameter Tuning"
   ]
  },
  {
   "cell_type": "code",
   "execution_count": 103,
   "id": "a1211d0d",
   "metadata": {
    "execution": {
     "iopub.execute_input": "2024-04-17T08:34:39.786684Z",
     "iopub.status.busy": "2024-04-17T08:34:39.786126Z",
     "iopub.status.idle": "2024-04-17T08:34:44.986106Z",
     "shell.execute_reply": "2024-04-17T08:34:44.979977Z"
    },
    "papermill": {
     "duration": 5.295931,
     "end_time": "2024-04-17T08:34:44.990833",
     "exception": false,
     "start_time": "2024-04-17T08:34:39.694902",
     "status": "completed"
    },
    "tags": []
   },
   "outputs": [
    {
     "name": "stdout",
     "output_type": "stream",
     "text": [
      "Best Parameters: {'solver': 'saga', 'max_iter': 300, 'C': 0.1}\n",
      "\n",
      "\n",
      "Cross-validation accuracies: [0.79329609 0.81460674 0.85955056 0.78089888 0.83146067]\n",
      "\n",
      "\n",
      "Mean cross-validation accuracy: 0.8159625886636117\n",
      "\n",
      "\n",
      "       Feature  Coefficient\n",
      "0       Pclass    -0.767835\n",
      "1        Title    -0.737206\n",
      "2     AgeGroup    -0.420876\n",
      "3         IsMr    -0.364651\n",
      "4   FamilySize    -0.279447\n",
      "5    FareGroup     0.271668\n",
      "6        SibSp    -0.227039\n",
      "7      IsAlone    -0.212837\n",
      "8     Embarked     0.210870\n",
      "9          Sex     0.073087\n",
      "10       Parch    -0.062609\n",
      "11   IsElderly    -0.054936\n",
      "\n",
      "\n",
      "Training set accuracy: 0.8181818181818182\n"
     ]
    }
   ],
   "source": [
    "# Select features to be used\n",
    "features_model11 = ['Pclass', 'Sex', 'SibSp', 'Parch', 'Embarked', 'Title', 'IsMr',\n",
    "       'AgeGroup', 'IsElderly', 'FamilySize', 'IsAlone', 'FareGroup']\n",
    "\n",
    "# Define training and test sets\n",
    "X_train_model11 = X_train[features_model11]\n",
    "y_train_model11 = y_train\n",
    "X_test_model11 = X_test[features_model11]\n",
    "\n",
    "# Define the hyperparameter grid\n",
    "param_grid_model11 = {\n",
    "    'C': [0.001, 0.01, 0.1, 1, 10, 100], \n",
    "    'solver': ['liblinear', 'saga'], \n",
    "    'max_iter': [100, 200, 300]\n",
    "}\n",
    "\n",
    "# Instantiate model\n",
    "model11 = LogisticRegression(random_state=42)\n",
    "\n",
    "# Initialize cross-validation splitter\n",
    "cv_model11 = KFold(n_splits=5, shuffle=True, random_state=42)\n",
    "\n",
    "# Perform randomized search with cross-validation\n",
    "random_search_model11 = RandomizedSearchCV(estimator=model11, param_distributions=param_grid_model11,\n",
    "                                          n_iter=50, cv=cv_model11, scoring='accuracy', random_state=42)\n",
    "random_search_model11.fit(X_train_model11, y_train_model11)\n",
    "\n",
    "# Get the best model from randomized search\n",
    "best_model11 = random_search_model11.best_estimator_\n",
    "\n",
    "# Print the parameters of the best model\n",
    "print(\"Best Parameters:\", random_search_model11.best_params_)\n",
    "print(\"\\n\")\n",
    "\n",
    "# Compute cross-validation score\n",
    "cv_score_model11 = cross_val_score(best_model11, X_train_model11, y_train_model11, cv=cv_model11, scoring='accuracy')\n",
    "print(\"Cross-validation accuracies:\", cv_score_model11)\n",
    "print(\"\\n\")\n",
    "\n",
    "cv_score_mean_model11 = cv_score_model11.mean()\n",
    "print(\"Mean cross-validation accuracy:\", cv_score_mean_model11)\n",
    "print(\"\\n\")\n",
    "\n",
    "# Get the coefficients of the best model\n",
    "coefficients_model11 = best_model11.coef_[0]\n",
    "\n",
    "# Create a DataFrame to store feature names and corresponding coefficients\n",
    "coefficients_df_model11 = pd.DataFrame({'Feature': X_train_model11.columns, 'Coefficient': coefficients_model11})\n",
    "\n",
    "# Sort the coefficients to identify the most important features\n",
    "coefficients_df_model11 = coefficients_df_model11.reindex(coefficients_df_model11['Coefficient'].abs().sort_values(ascending=False).index).reset_index(drop=True)\n",
    "\n",
    "# Print coefficients\n",
    "print(coefficients_df_model11)\n",
    "print(\"\\n\")\n",
    "\n",
    "# Compute training set accuracy\n",
    "train_accuracy_model11 = best_model11.score(X_train_model11, y_train_model11)\n",
    "\n",
    "# Print training set accuracy\n",
    "print(\"Training set accuracy:\", train_accuracy_model11)\n",
    "\n",
    "# Predict on the test set using the best model\n",
    "y_pred_model11 = best_model11.predict(X_test_model11)"
   ]
  },
  {
   "cell_type": "code",
   "execution_count": 104,
   "id": "ef55cb73",
   "metadata": {
    "execution": {
     "iopub.execute_input": "2024-04-17T08:34:45.227250Z",
     "iopub.status.busy": "2024-04-17T08:34:45.226751Z",
     "iopub.status.idle": "2024-04-17T08:34:45.247139Z",
     "shell.execute_reply": "2024-04-17T08:34:45.245925Z"
    },
    "papermill": {
     "duration": 0.115422,
     "end_time": "2024-04-17T08:34:45.250442",
     "exception": false,
     "start_time": "2024-04-17T08:34:45.135020",
     "status": "completed"
    },
    "tags": []
   },
   "outputs": [
    {
     "data": {
      "text/html": [
       "<div>\n",
       "<style scoped>\n",
       "    .dataframe tbody tr th:only-of-type {\n",
       "        vertical-align: middle;\n",
       "    }\n",
       "\n",
       "    .dataframe tbody tr th {\n",
       "        vertical-align: top;\n",
       "    }\n",
       "\n",
       "    .dataframe thead th {\n",
       "        text-align: right;\n",
       "    }\n",
       "</style>\n",
       "<table border=\"1\" class=\"dataframe\">\n",
       "  <thead>\n",
       "    <tr style=\"text-align: right;\">\n",
       "      <th></th>\n",
       "      <th>PassengerId</th>\n",
       "      <th>Survived</th>\n",
       "    </tr>\n",
       "  </thead>\n",
       "  <tbody>\n",
       "    <tr>\n",
       "      <th>0</th>\n",
       "      <td>892</td>\n",
       "      <td>0</td>\n",
       "    </tr>\n",
       "    <tr>\n",
       "      <th>1</th>\n",
       "      <td>893</td>\n",
       "      <td>1</td>\n",
       "    </tr>\n",
       "    <tr>\n",
       "      <th>2</th>\n",
       "      <td>894</td>\n",
       "      <td>0</td>\n",
       "    </tr>\n",
       "    <tr>\n",
       "      <th>3</th>\n",
       "      <td>895</td>\n",
       "      <td>0</td>\n",
       "    </tr>\n",
       "    <tr>\n",
       "      <th>4</th>\n",
       "      <td>896</td>\n",
       "      <td>1</td>\n",
       "    </tr>\n",
       "    <tr>\n",
       "      <th>...</th>\n",
       "      <td>...</td>\n",
       "      <td>...</td>\n",
       "    </tr>\n",
       "    <tr>\n",
       "      <th>413</th>\n",
       "      <td>1305</td>\n",
       "      <td>0</td>\n",
       "    </tr>\n",
       "    <tr>\n",
       "      <th>414</th>\n",
       "      <td>1306</td>\n",
       "      <td>1</td>\n",
       "    </tr>\n",
       "    <tr>\n",
       "      <th>415</th>\n",
       "      <td>1307</td>\n",
       "      <td>0</td>\n",
       "    </tr>\n",
       "    <tr>\n",
       "      <th>416</th>\n",
       "      <td>1308</td>\n",
       "      <td>0</td>\n",
       "    </tr>\n",
       "    <tr>\n",
       "      <th>417</th>\n",
       "      <td>1309</td>\n",
       "      <td>0</td>\n",
       "    </tr>\n",
       "  </tbody>\n",
       "</table>\n",
       "<p>418 rows × 2 columns</p>\n",
       "</div>"
      ],
      "text/plain": [
       "     PassengerId  Survived\n",
       "0            892         0\n",
       "1            893         1\n",
       "2            894         0\n",
       "3            895         0\n",
       "4            896         1\n",
       "..           ...       ...\n",
       "413         1305         0\n",
       "414         1306         1\n",
       "415         1307         0\n",
       "416         1308         0\n",
       "417         1309         0\n",
       "\n",
       "[418 rows x 2 columns]"
      ]
     },
     "execution_count": 104,
     "metadata": {},
     "output_type": "execute_result"
    }
   ],
   "source": [
    "# Create submission file\n",
    "output_model11 = pd.DataFrame({'PassengerId': test_data['PassengerId'], 'Survived': y_pred_model11})\n",
    "output_model11.to_csv('submission_model11.csv', index=False)\n",
    "\n",
    "# Check contents of submission file\n",
    "submission_model11 = pd.read_csv('submission_model11.csv')\n",
    "submission_model11"
   ]
  },
  {
   "cell_type": "markdown",
   "id": "dd7d62e6",
   "metadata": {
    "papermill": {
     "duration": 0.09025,
     "end_time": "2024-04-17T08:34:45.431834",
     "exception": false,
     "start_time": "2024-04-17T08:34:45.341584",
     "status": "completed"
    },
    "tags": []
   },
   "source": [
    "According to Kaggle, the test set accuracy of this model is 0.78947."
   ]
  },
  {
   "cell_type": "markdown",
   "id": "e8fb2497",
   "metadata": {
    "papermill": {
     "duration": 0.08973,
     "end_time": "2024-04-17T08:34:45.610350",
     "exception": false,
     "start_time": "2024-04-17T08:34:45.520620",
     "status": "completed"
    },
    "tags": []
   },
   "source": [
    "## Model 12 - K-Nearest Neighbors Classifier, 12 Features, With Cross-Validation, With Hyperparameter Tuning"
   ]
  },
  {
   "cell_type": "code",
   "execution_count": 105,
   "id": "c920a56c",
   "metadata": {
    "execution": {
     "iopub.execute_input": "2024-04-17T08:34:45.791917Z",
     "iopub.status.busy": "2024-04-17T08:34:45.790962Z",
     "iopub.status.idle": "2024-04-17T08:34:48.364809Z",
     "shell.execute_reply": "2024-04-17T08:34:48.363474Z"
    },
    "papermill": {
     "duration": 2.667652,
     "end_time": "2024-04-17T08:34:48.367647",
     "exception": false,
     "start_time": "2024-04-17T08:34:45.699995",
     "status": "completed"
    },
    "tags": []
   },
   "outputs": [
    {
     "name": "stdout",
     "output_type": "stream",
     "text": [
      "Best Parameters: {'weights': 'uniform', 'n_neighbors': 10, 'algorithm': 'ball_tree'}\n",
      "\n",
      "\n",
      "Cross-validation accuracies: [0.82122905 0.80337079 0.87078652 0.79213483 0.84831461]\n",
      "\n",
      "\n",
      "Mean cross-validation accuracy: 0.8271671583704727\n",
      "\n",
      "\n",
      "Training set accuracy: 0.8383838383838383\n"
     ]
    }
   ],
   "source": [
    "# Select features to be used\n",
    "features_model12 = ['Pclass', 'Sex', 'SibSp', 'Parch', 'Embarked', 'Title', 'IsMr',\n",
    "       'AgeGroup', 'IsElderly', 'FamilySize', 'IsAlone', 'FareGroup']\n",
    "\n",
    "# Define training and test sets\n",
    "X_train_model12 = X_train[features_model12]\n",
    "y_train_model12 = y_train\n",
    "X_test_model12 = X_test[features_model12]\n",
    "\n",
    "# Define the hyperparameter grid\n",
    "param_grid_model12 = {\n",
    "    'n_neighbors': [5, 10, 15],\n",
    "    'weights': ['uniform', 'distance'],\n",
    "    'algorithm': ['auto', 'ball_tree', 'kd_tree', 'brute']\n",
    "}\n",
    "\n",
    "# Instantiate model\n",
    "model12 = KNeighborsClassifier()\n",
    "\n",
    "# Initialize cross-validation splitter\n",
    "cv_model12 = KFold(n_splits=5, shuffle=True, random_state=42)\n",
    "\n",
    "# Perform randomized search with cross-validation\n",
    "random_search_model12 = RandomizedSearchCV(estimator=model12, param_distributions=param_grid_model12,\n",
    "                                          n_iter=50, cv=cv_model12, scoring='accuracy', random_state=42)\n",
    "random_search_model12.fit(X_train_model12, y_train_model12)\n",
    "\n",
    "# Get the best model from randomized search\n",
    "best_model12 = random_search_model12.best_estimator_\n",
    "\n",
    "# Print the parameters of the best model\n",
    "print(\"Best Parameters:\", random_search_model12.best_params_)\n",
    "print(\"\\n\")\n",
    "\n",
    "# Compute cross-validation score\n",
    "cv_score_model12 = cross_val_score(best_model12, X_train_model12, y_train_model12, cv=cv_model12, scoring='accuracy')\n",
    "print(\"Cross-validation accuracies:\", cv_score_model12)\n",
    "print(\"\\n\")\n",
    "\n",
    "cv_score_mean_model12 = cv_score_model12.mean()\n",
    "print(\"Mean cross-validation accuracy:\", cv_score_mean_model12)\n",
    "print(\"\\n\")\n",
    "\n",
    "# Compute training set accuracy\n",
    "train_accuracy_model12 = best_model12.score(X_train_model12, y_train_model12)\n",
    "\n",
    "# Print training set accuracy\n",
    "print(\"Training set accuracy:\", train_accuracy_model12)\n",
    "\n",
    "# Predict on the test set using the best model\n",
    "y_pred_model12 = best_model12.predict(X_test_model12)"
   ]
  },
  {
   "cell_type": "code",
   "execution_count": 106,
   "id": "36b93d61",
   "metadata": {
    "execution": {
     "iopub.execute_input": "2024-04-17T08:34:48.549317Z",
     "iopub.status.busy": "2024-04-17T08:34:48.548404Z",
     "iopub.status.idle": "2024-04-17T08:34:48.568118Z",
     "shell.execute_reply": "2024-04-17T08:34:48.566699Z"
    },
    "papermill": {
     "duration": 0.114057,
     "end_time": "2024-04-17T08:34:48.570783",
     "exception": false,
     "start_time": "2024-04-17T08:34:48.456726",
     "status": "completed"
    },
    "tags": []
   },
   "outputs": [
    {
     "data": {
      "text/html": [
       "<div>\n",
       "<style scoped>\n",
       "    .dataframe tbody tr th:only-of-type {\n",
       "        vertical-align: middle;\n",
       "    }\n",
       "\n",
       "    .dataframe tbody tr th {\n",
       "        vertical-align: top;\n",
       "    }\n",
       "\n",
       "    .dataframe thead th {\n",
       "        text-align: right;\n",
       "    }\n",
       "</style>\n",
       "<table border=\"1\" class=\"dataframe\">\n",
       "  <thead>\n",
       "    <tr style=\"text-align: right;\">\n",
       "      <th></th>\n",
       "      <th>PassengerId</th>\n",
       "      <th>Survived</th>\n",
       "    </tr>\n",
       "  </thead>\n",
       "  <tbody>\n",
       "    <tr>\n",
       "      <th>0</th>\n",
       "      <td>892</td>\n",
       "      <td>0</td>\n",
       "    </tr>\n",
       "    <tr>\n",
       "      <th>1</th>\n",
       "      <td>893</td>\n",
       "      <td>0</td>\n",
       "    </tr>\n",
       "    <tr>\n",
       "      <th>2</th>\n",
       "      <td>894</td>\n",
       "      <td>0</td>\n",
       "    </tr>\n",
       "    <tr>\n",
       "      <th>3</th>\n",
       "      <td>895</td>\n",
       "      <td>0</td>\n",
       "    </tr>\n",
       "    <tr>\n",
       "      <th>4</th>\n",
       "      <td>896</td>\n",
       "      <td>1</td>\n",
       "    </tr>\n",
       "    <tr>\n",
       "      <th>...</th>\n",
       "      <td>...</td>\n",
       "      <td>...</td>\n",
       "    </tr>\n",
       "    <tr>\n",
       "      <th>413</th>\n",
       "      <td>1305</td>\n",
       "      <td>0</td>\n",
       "    </tr>\n",
       "    <tr>\n",
       "      <th>414</th>\n",
       "      <td>1306</td>\n",
       "      <td>1</td>\n",
       "    </tr>\n",
       "    <tr>\n",
       "      <th>415</th>\n",
       "      <td>1307</td>\n",
       "      <td>0</td>\n",
       "    </tr>\n",
       "    <tr>\n",
       "      <th>416</th>\n",
       "      <td>1308</td>\n",
       "      <td>0</td>\n",
       "    </tr>\n",
       "    <tr>\n",
       "      <th>417</th>\n",
       "      <td>1309</td>\n",
       "      <td>1</td>\n",
       "    </tr>\n",
       "  </tbody>\n",
       "</table>\n",
       "<p>418 rows × 2 columns</p>\n",
       "</div>"
      ],
      "text/plain": [
       "     PassengerId  Survived\n",
       "0            892         0\n",
       "1            893         0\n",
       "2            894         0\n",
       "3            895         0\n",
       "4            896         1\n",
       "..           ...       ...\n",
       "413         1305         0\n",
       "414         1306         1\n",
       "415         1307         0\n",
       "416         1308         0\n",
       "417         1309         1\n",
       "\n",
       "[418 rows x 2 columns]"
      ]
     },
     "execution_count": 106,
     "metadata": {},
     "output_type": "execute_result"
    }
   ],
   "source": [
    "# Create submission file\n",
    "output_model12 = pd.DataFrame({'PassengerId': test_data['PassengerId'], 'Survived': y_pred_model12})\n",
    "output_model12.to_csv('submission_model12.csv', index=False)\n",
    "\n",
    "# Check contents of submission file\n",
    "submission_model12 = pd.read_csv('submission_model12.csv')\n",
    "submission_model12"
   ]
  },
  {
   "cell_type": "markdown",
   "id": "cd5d2929",
   "metadata": {
    "papermill": {
     "duration": 0.090502,
     "end_time": "2024-04-17T08:34:48.752271",
     "exception": false,
     "start_time": "2024-04-17T08:34:48.661769",
     "status": "completed"
    },
    "tags": []
   },
   "source": [
    "According to Kaggle, the test set accuracy of this model is 0.75119."
   ]
  },
  {
   "cell_type": "markdown",
   "id": "be597dbd",
   "metadata": {
    "papermill": {
     "duration": 0.088901,
     "end_time": "2024-04-17T08:34:48.930332",
     "exception": false,
     "start_time": "2024-04-17T08:34:48.841431",
     "status": "completed"
    },
    "tags": []
   },
   "source": [
    "## Model 13 - Decision Tree Classifier, 12 Features, With Cross-Validation, With Hyperparameter Tuning"
   ]
  },
  {
   "cell_type": "code",
   "execution_count": 107,
   "id": "2c93929c",
   "metadata": {
    "execution": {
     "iopub.execute_input": "2024-04-17T08:34:49.111180Z",
     "iopub.status.busy": "2024-04-17T08:34:49.109943Z",
     "iopub.status.idle": "2024-04-17T08:34:51.465715Z",
     "shell.execute_reply": "2024-04-17T08:34:51.464415Z"
    },
    "papermill": {
     "duration": 2.450012,
     "end_time": "2024-04-17T08:34:51.468949",
     "exception": false,
     "start_time": "2024-04-17T08:34:49.018937",
     "status": "completed"
    },
    "tags": []
   },
   "outputs": [
    {
     "name": "stdout",
     "output_type": "stream",
     "text": [
      "Best Parameters: {'min_samples_split': 5, 'min_samples_leaf': 2, 'max_features': None, 'max_depth': 3}\n",
      "\n",
      "\n",
      "Cross-validation accuracies: [0.82681564 0.8258427  0.85393258 0.7752809  0.83146067]\n",
      "\n",
      "\n",
      "Mean cross-validation accuracy: 0.822666499278137\n",
      "\n",
      "\n",
      "       Feature  Importance  Cumulative_Importance\n",
      "0        Title    0.640626               0.640626\n",
      "1       Pclass    0.250419               0.891045\n",
      "2   FamilySize    0.092015               0.983060\n",
      "3          Sex    0.011936               0.994996\n",
      "4     AgeGroup    0.003052               0.998048\n",
      "5    FareGroup    0.001952               1.000000\n",
      "6        SibSp    0.000000               1.000000\n",
      "7        Parch    0.000000               1.000000\n",
      "8     Embarked    0.000000               1.000000\n",
      "9         IsMr    0.000000               1.000000\n",
      "10   IsElderly    0.000000               1.000000\n",
      "11     IsAlone    0.000000               1.000000\n",
      "\n",
      "\n",
      "Features accounting for 95% of model's predictive power:\n",
      "['Title', 'Pclass', 'FamilySize']\n",
      "\n",
      "\n",
      "Training set accuracy: 0.835016835016835\n"
     ]
    }
   ],
   "source": [
    "# Select features to be used\n",
    "features_model13 = ['Pclass', 'Sex', 'SibSp', 'Parch', 'Embarked', 'Title', 'IsMr',\n",
    "       'AgeGroup', 'IsElderly', 'FamilySize', 'IsAlone', 'FareGroup']\n",
    "\n",
    "# Define training and test sets\n",
    "X_train_model13 = X_train[features_model13]\n",
    "y_train_model13 = y_train\n",
    "X_test_model13 = X_test[features_model13]\n",
    "\n",
    "# Define the hyperparameter grid\n",
    "param_grid_model13 = {\n",
    "    'max_depth': [3, 5, 10],\n",
    "    'min_samples_split': [2, 5, 10],\n",
    "    'min_samples_leaf': [1, 2, 4],\n",
    "    'max_features': ['sqrt', 'log2', None]\n",
    "}\n",
    "\n",
    "# Instantiate model\n",
    "model13 = DecisionTreeClassifier(random_state=42)\n",
    "\n",
    "# Initialize cross-validation splitter\n",
    "cv_model13 = KFold(n_splits=5, shuffle=True, random_state=42)\n",
    "\n",
    "# Perform randomized search with cross-validation\n",
    "random_search_model13 = RandomizedSearchCV(estimator=model13, param_distributions=param_grid_model13,\n",
    "                                          n_iter=50, cv=cv_model13, scoring='accuracy', random_state=42)\n",
    "random_search_model13.fit(X_train_model13, y_train_model13)\n",
    "\n",
    "# Get the best model from randomized search\n",
    "best_model13 = random_search_model13.best_estimator_\n",
    "\n",
    "# Print the parameters of the best model\n",
    "print(\"Best Parameters:\", random_search_model13.best_params_)\n",
    "print(\"\\n\")\n",
    "\n",
    "# Compute cross-validation score\n",
    "cv_score_model13 = cross_val_score(best_model13, X_train_model13, y_train_model13, cv=cv_model13, scoring='accuracy')\n",
    "print(\"Cross-validation accuracies:\", cv_score_model13)\n",
    "print(\"\\n\")\n",
    "\n",
    "cv_score_mean_model13 = cv_score_model13.mean()\n",
    "print(\"Mean cross-validation accuracy:\", cv_score_mean_model13)\n",
    "print(\"\\n\")\n",
    "\n",
    "# Get the feature importances of the best model\n",
    "feature_importances_model13 = best_model13.feature_importances_\n",
    "\n",
    "# Create a DataFrame to store feature names and corresponding feature importances\n",
    "importance_df_model13 = pd.DataFrame({'Feature': X_train_model13.columns, 'Importance': feature_importances_model13})\n",
    "\n",
    "# Sort the feature importances to identify the most important features\n",
    "importance_df_model13 = importance_df_model13.sort_values(by='Importance', ascending=False).reset_index(drop=True)\n",
    "\n",
    "# Calculate cumulative sum of feature importances\n",
    "importance_df_model13['Cumulative_Importance'] = importance_df_model13['Importance'].cumsum()\n",
    "\n",
    "# Print feature importances\n",
    "print(importance_df_model13)\n",
    "print(\"\\n\")\n",
    "\n",
    "# Find features accounting for 95% of model's predictive power\n",
    "most_important_features_model13 = []\n",
    "\n",
    "for index, row in importance_df_model13.iterrows():\n",
    "    if row['Cumulative_Importance'] <= 0.95:\n",
    "        most_important_features_model13.append(row['Feature'])\n",
    "    elif index > 0 and importance_df_model13.iloc[index - 1]['Cumulative_Importance'] < 0.95:\n",
    "        most_important_features_model13.append(row['Feature'])\n",
    "    else:\n",
    "        break\n",
    "\n",
    "# List features accounting for 95% of model's predictive power\n",
    "print(\"Features accounting for 95% of model's predictive power:\")\n",
    "print(most_important_features_model13)\n",
    "print(\"\\n\")\n",
    "\n",
    "# Compute training set accuracy\n",
    "train_accuracy_model13 = best_model13.score(X_train_model13, y_train_model13)\n",
    "\n",
    "# Print training set accuracy\n",
    "print(\"Training set accuracy:\", train_accuracy_model13)\n",
    "\n",
    "# Predict on the test set using the best model\n",
    "y_pred_model13 = best_model13.predict(X_test_model13)"
   ]
  },
  {
   "cell_type": "code",
   "execution_count": 108,
   "id": "479f0d7a",
   "metadata": {
    "execution": {
     "iopub.execute_input": "2024-04-17T08:34:51.654646Z",
     "iopub.status.busy": "2024-04-17T08:34:51.653388Z",
     "iopub.status.idle": "2024-04-17T08:34:51.671283Z",
     "shell.execute_reply": "2024-04-17T08:34:51.670001Z"
    },
    "papermill": {
     "duration": 0.114458,
     "end_time": "2024-04-17T08:34:51.674237",
     "exception": false,
     "start_time": "2024-04-17T08:34:51.559779",
     "status": "completed"
    },
    "tags": []
   },
   "outputs": [
    {
     "data": {
      "text/html": [
       "<div>\n",
       "<style scoped>\n",
       "    .dataframe tbody tr th:only-of-type {\n",
       "        vertical-align: middle;\n",
       "    }\n",
       "\n",
       "    .dataframe tbody tr th {\n",
       "        vertical-align: top;\n",
       "    }\n",
       "\n",
       "    .dataframe thead th {\n",
       "        text-align: right;\n",
       "    }\n",
       "</style>\n",
       "<table border=\"1\" class=\"dataframe\">\n",
       "  <thead>\n",
       "    <tr style=\"text-align: right;\">\n",
       "      <th></th>\n",
       "      <th>PassengerId</th>\n",
       "      <th>Survived</th>\n",
       "    </tr>\n",
       "  </thead>\n",
       "  <tbody>\n",
       "    <tr>\n",
       "      <th>0</th>\n",
       "      <td>892</td>\n",
       "      <td>0</td>\n",
       "    </tr>\n",
       "    <tr>\n",
       "      <th>1</th>\n",
       "      <td>893</td>\n",
       "      <td>1</td>\n",
       "    </tr>\n",
       "    <tr>\n",
       "      <th>2</th>\n",
       "      <td>894</td>\n",
       "      <td>0</td>\n",
       "    </tr>\n",
       "    <tr>\n",
       "      <th>3</th>\n",
       "      <td>895</td>\n",
       "      <td>0</td>\n",
       "    </tr>\n",
       "    <tr>\n",
       "      <th>4</th>\n",
       "      <td>896</td>\n",
       "      <td>1</td>\n",
       "    </tr>\n",
       "    <tr>\n",
       "      <th>...</th>\n",
       "      <td>...</td>\n",
       "      <td>...</td>\n",
       "    </tr>\n",
       "    <tr>\n",
       "      <th>413</th>\n",
       "      <td>1305</td>\n",
       "      <td>0</td>\n",
       "    </tr>\n",
       "    <tr>\n",
       "      <th>414</th>\n",
       "      <td>1306</td>\n",
       "      <td>1</td>\n",
       "    </tr>\n",
       "    <tr>\n",
       "      <th>415</th>\n",
       "      <td>1307</td>\n",
       "      <td>0</td>\n",
       "    </tr>\n",
       "    <tr>\n",
       "      <th>416</th>\n",
       "      <td>1308</td>\n",
       "      <td>0</td>\n",
       "    </tr>\n",
       "    <tr>\n",
       "      <th>417</th>\n",
       "      <td>1309</td>\n",
       "      <td>1</td>\n",
       "    </tr>\n",
       "  </tbody>\n",
       "</table>\n",
       "<p>418 rows × 2 columns</p>\n",
       "</div>"
      ],
      "text/plain": [
       "     PassengerId  Survived\n",
       "0            892         0\n",
       "1            893         1\n",
       "2            894         0\n",
       "3            895         0\n",
       "4            896         1\n",
       "..           ...       ...\n",
       "413         1305         0\n",
       "414         1306         1\n",
       "415         1307         0\n",
       "416         1308         0\n",
       "417         1309         1\n",
       "\n",
       "[418 rows x 2 columns]"
      ]
     },
     "execution_count": 108,
     "metadata": {},
     "output_type": "execute_result"
    }
   ],
   "source": [
    "# Create submission file\n",
    "output_model13 = pd.DataFrame({'PassengerId': test_data['PassengerId'], 'Survived': y_pred_model13})\n",
    "output_model13.to_csv('submission_model13.csv', index=False)\n",
    "\n",
    "# Check contents of submission file\n",
    "submission_model13 = pd.read_csv('submission_model13.csv')\n",
    "submission_model13"
   ]
  },
  {
   "cell_type": "markdown",
   "id": "2acef23a",
   "metadata": {
    "papermill": {
     "duration": 0.08929,
     "end_time": "2024-04-17T08:34:51.855270",
     "exception": false,
     "start_time": "2024-04-17T08:34:51.765980",
     "status": "completed"
    },
    "tags": []
   },
   "source": [
    "According to Kaggle, the test set accuracy of this model is 0.77751."
   ]
  },
  {
   "cell_type": "markdown",
   "id": "f4d28288",
   "metadata": {
    "papermill": {
     "duration": 0.088614,
     "end_time": "2024-04-17T08:34:52.032503",
     "exception": false,
     "start_time": "2024-04-17T08:34:51.943889",
     "status": "completed"
    },
    "tags": []
   },
   "source": [
    "## Model 14 - Random Forest Classifier, 12 Features, With Cross-Validation, With Hyperparameter Tuning"
   ]
  },
  {
   "cell_type": "code",
   "execution_count": 109,
   "id": "ddab919f",
   "metadata": {
    "execution": {
     "iopub.execute_input": "2024-04-17T08:34:52.213544Z",
     "iopub.status.busy": "2024-04-17T08:34:52.212494Z",
     "iopub.status.idle": "2024-04-17T08:36:09.054366Z",
     "shell.execute_reply": "2024-04-17T08:36:09.052717Z"
    },
    "papermill": {
     "duration": 76.936176,
     "end_time": "2024-04-17T08:36:09.057406",
     "exception": false,
     "start_time": "2024-04-17T08:34:52.121230",
     "status": "completed"
    },
    "tags": []
   },
   "outputs": [
    {
     "name": "stdout",
     "output_type": "stream",
     "text": [
      "Best Parameters: {'n_estimators': 200, 'min_samples_split': 10, 'min_samples_leaf': 1, 'max_features': 'log2', 'max_depth': 10}\n",
      "\n",
      "\n",
      "Cross-validation accuracies: [0.82681564 0.82022472 0.84831461 0.80898876 0.84831461]\n",
      "\n",
      "\n",
      "Mean cross-validation accuracy: 0.8305316678174627\n",
      "\n",
      "\n",
      "       Feature  Importance  Cumulative_Importance\n",
      "0        Title    0.239557               0.239557\n",
      "1          Sex    0.159160               0.398717\n",
      "2         IsMr    0.147647               0.546364\n",
      "3       Pclass    0.143801               0.690165\n",
      "4    FareGroup    0.075443               0.765608\n",
      "5   FamilySize    0.071962               0.837569\n",
      "6     AgeGroup    0.050837               0.888406\n",
      "7        SibSp    0.043014               0.931420\n",
      "8     Embarked    0.032211               0.963631\n",
      "9        Parch    0.021628               0.985259\n",
      "10     IsAlone    0.012359               0.997618\n",
      "11   IsElderly    0.002382               1.000000\n",
      "\n",
      "\n",
      "Features accounting for 95% of model's predictive power:\n",
      "['Title', 'Sex', 'IsMr', 'Pclass', 'FareGroup', 'FamilySize', 'AgeGroup', 'SibSp', 'Embarked']\n",
      "\n",
      "\n",
      "Training set accuracy: 0.8686868686868687\n"
     ]
    }
   ],
   "source": [
    "# Select features to be used\n",
    "features_model14 = ['Pclass', 'Sex', 'SibSp', 'Parch', 'Embarked', 'Title', 'IsMr',\n",
    "       'AgeGroup', 'IsElderly', 'FamilySize', 'IsAlone', 'FareGroup']\n",
    "\n",
    "# Define training and test sets\n",
    "X_train_model14 = X_train[features_model14]\n",
    "y_train_model14 = y_train\n",
    "X_test_model14 = X_test[features_model14]\n",
    "\n",
    "# Define the hyperparameter grid\n",
    "param_grid_model14 = {\n",
    "    'n_estimators': [50, 100, 200], \n",
    "    'max_depth': [None, 10, 20, 30],\n",
    "    'min_samples_split': [2, 5, 10],\n",
    "    'min_samples_leaf': [1, 2, 4],\n",
    "    'max_features': ['sqrt', 'log2', None]\n",
    "}\n",
    "\n",
    "# Instantiate model\n",
    "model14 = RandomForestClassifier(random_state=42)\n",
    "\n",
    "# Initialize cross-validation splitter\n",
    "cv_model14 = KFold(n_splits=5, shuffle=True, random_state=42)\n",
    "\n",
    "# Perform randomized search with cross-validation\n",
    "random_search_model14 = RandomizedSearchCV(estimator=model14, param_distributions=param_grid_model14,\n",
    "                                          n_iter=50, cv=cv_model14, scoring='accuracy', random_state=42)\n",
    "random_search_model14.fit(X_train_model14, y_train_model14)\n",
    "\n",
    "# Get the best model from randomized search\n",
    "best_model14 = random_search_model14.best_estimator_\n",
    "\n",
    "# Print the parameters of the best model\n",
    "print(\"Best Parameters:\", random_search_model14.best_params_)\n",
    "print(\"\\n\")\n",
    "\n",
    "# Compute cross-validation score\n",
    "cv_score_model14 = cross_val_score(best_model14, X_train_model14, y_train_model14, cv=cv_model14, scoring='accuracy')\n",
    "print(\"Cross-validation accuracies:\", cv_score_model14)\n",
    "print(\"\\n\")\n",
    "\n",
    "cv_score_mean_model14 = cv_score_model14.mean()\n",
    "print(\"Mean cross-validation accuracy:\", cv_score_mean_model14)\n",
    "print(\"\\n\")\n",
    "\n",
    "# Get the feature importances of the best model\n",
    "feature_importances_model14 = best_model14.feature_importances_\n",
    "\n",
    "# Create a DataFrame to store feature names and corresponding feature importances\n",
    "importance_df_model14 = pd.DataFrame({'Feature': X_train_model14.columns, 'Importance': feature_importances_model14})\n",
    "\n",
    "# Sort the feature importances to identify the most important features\n",
    "importance_df_model14 = importance_df_model14.sort_values(by='Importance', ascending=False).reset_index(drop=True)\n",
    "\n",
    "# Calculate cumulative sum of feature importances\n",
    "importance_df_model14['Cumulative_Importance'] = importance_df_model14['Importance'].cumsum()\n",
    "\n",
    "# Print feature importances\n",
    "print(importance_df_model14)\n",
    "print(\"\\n\")\n",
    "\n",
    "# Find features accounting for 95% of model's predictive power\n",
    "most_important_features_model14 = []\n",
    "\n",
    "for index, row in importance_df_model14.iterrows():\n",
    "    if row['Cumulative_Importance'] <= 0.95:\n",
    "        most_important_features_model14.append(row['Feature'])\n",
    "    elif index > 0 and importance_df_model14.iloc[index - 1]['Cumulative_Importance'] < 0.95:\n",
    "        most_important_features_model14.append(row['Feature'])\n",
    "    else:\n",
    "        break\n",
    "\n",
    "# List features accounting for 95% of model's predictive power\n",
    "print(\"Features accounting for 95% of model's predictive power:\")\n",
    "print(most_important_features_model14)\n",
    "print(\"\\n\")\n",
    "\n",
    "# Compute training set accuracy\n",
    "train_accuracy_model14 = best_model14.score(X_train_model14, y_train_model14)\n",
    "\n",
    "# Print training set accuracy\n",
    "print(\"Training set accuracy:\", train_accuracy_model14)\n",
    "\n",
    "# Predict on the test set using the best model\n",
    "y_pred_model14 = best_model14.predict(X_test_model14)"
   ]
  },
  {
   "cell_type": "code",
   "execution_count": 110,
   "id": "8eb5e8bf",
   "metadata": {
    "execution": {
     "iopub.execute_input": "2024-04-17T08:36:09.245634Z",
     "iopub.status.busy": "2024-04-17T08:36:09.245098Z",
     "iopub.status.idle": "2024-04-17T08:36:09.263781Z",
     "shell.execute_reply": "2024-04-17T08:36:09.262585Z"
    },
    "papermill": {
     "duration": 0.116071,
     "end_time": "2024-04-17T08:36:09.266403",
     "exception": false,
     "start_time": "2024-04-17T08:36:09.150332",
     "status": "completed"
    },
    "tags": []
   },
   "outputs": [
    {
     "data": {
      "text/html": [
       "<div>\n",
       "<style scoped>\n",
       "    .dataframe tbody tr th:only-of-type {\n",
       "        vertical-align: middle;\n",
       "    }\n",
       "\n",
       "    .dataframe tbody tr th {\n",
       "        vertical-align: top;\n",
       "    }\n",
       "\n",
       "    .dataframe thead th {\n",
       "        text-align: right;\n",
       "    }\n",
       "</style>\n",
       "<table border=\"1\" class=\"dataframe\">\n",
       "  <thead>\n",
       "    <tr style=\"text-align: right;\">\n",
       "      <th></th>\n",
       "      <th>PassengerId</th>\n",
       "      <th>Survived</th>\n",
       "    </tr>\n",
       "  </thead>\n",
       "  <tbody>\n",
       "    <tr>\n",
       "      <th>0</th>\n",
       "      <td>892</td>\n",
       "      <td>0</td>\n",
       "    </tr>\n",
       "    <tr>\n",
       "      <th>1</th>\n",
       "      <td>893</td>\n",
       "      <td>0</td>\n",
       "    </tr>\n",
       "    <tr>\n",
       "      <th>2</th>\n",
       "      <td>894</td>\n",
       "      <td>0</td>\n",
       "    </tr>\n",
       "    <tr>\n",
       "      <th>3</th>\n",
       "      <td>895</td>\n",
       "      <td>0</td>\n",
       "    </tr>\n",
       "    <tr>\n",
       "      <th>4</th>\n",
       "      <td>896</td>\n",
       "      <td>0</td>\n",
       "    </tr>\n",
       "    <tr>\n",
       "      <th>...</th>\n",
       "      <td>...</td>\n",
       "      <td>...</td>\n",
       "    </tr>\n",
       "    <tr>\n",
       "      <th>413</th>\n",
       "      <td>1305</td>\n",
       "      <td>0</td>\n",
       "    </tr>\n",
       "    <tr>\n",
       "      <th>414</th>\n",
       "      <td>1306</td>\n",
       "      <td>1</td>\n",
       "    </tr>\n",
       "    <tr>\n",
       "      <th>415</th>\n",
       "      <td>1307</td>\n",
       "      <td>0</td>\n",
       "    </tr>\n",
       "    <tr>\n",
       "      <th>416</th>\n",
       "      <td>1308</td>\n",
       "      <td>0</td>\n",
       "    </tr>\n",
       "    <tr>\n",
       "      <th>417</th>\n",
       "      <td>1309</td>\n",
       "      <td>1</td>\n",
       "    </tr>\n",
       "  </tbody>\n",
       "</table>\n",
       "<p>418 rows × 2 columns</p>\n",
       "</div>"
      ],
      "text/plain": [
       "     PassengerId  Survived\n",
       "0            892         0\n",
       "1            893         0\n",
       "2            894         0\n",
       "3            895         0\n",
       "4            896         0\n",
       "..           ...       ...\n",
       "413         1305         0\n",
       "414         1306         1\n",
       "415         1307         0\n",
       "416         1308         0\n",
       "417         1309         1\n",
       "\n",
       "[418 rows x 2 columns]"
      ]
     },
     "execution_count": 110,
     "metadata": {},
     "output_type": "execute_result"
    }
   ],
   "source": [
    "# Create submission file\n",
    "output_model14 = pd.DataFrame({'PassengerId': test_data['PassengerId'], 'Survived': y_pred_model14})\n",
    "output_model14.to_csv('submission_model14.csv', index=False)\n",
    "\n",
    "# Check contents of submission file\n",
    "submission_model14 = pd.read_csv('submission_model14.csv')\n",
    "submission_model14"
   ]
  },
  {
   "cell_type": "markdown",
   "id": "44829f3d",
   "metadata": {
    "papermill": {
     "duration": 0.090263,
     "end_time": "2024-04-17T08:36:09.447172",
     "exception": false,
     "start_time": "2024-04-17T08:36:09.356909",
     "status": "completed"
    },
    "tags": []
   },
   "source": [
    "According to Kaggle, the test set accuracy of this model is 0.75837."
   ]
  },
  {
   "cell_type": "markdown",
   "id": "7ae4a954",
   "metadata": {
    "papermill": {
     "duration": 0.091255,
     "end_time": "2024-04-17T08:36:09.630631",
     "exception": false,
     "start_time": "2024-04-17T08:36:09.539376",
     "status": "completed"
    },
    "tags": []
   },
   "source": [
    "## Model 15 - Gradient Boosting Classifier, 12 Features, With Cross-Validation, With Hyperparameter Tuning"
   ]
  },
  {
   "cell_type": "code",
   "execution_count": 111,
   "id": "7372bbf4",
   "metadata": {
    "execution": {
     "iopub.execute_input": "2024-04-17T08:36:09.820428Z",
     "iopub.status.busy": "2024-04-17T08:36:09.819661Z",
     "iopub.status.idle": "2024-04-17T08:37:26.586977Z",
     "shell.execute_reply": "2024-04-17T08:37:26.585480Z"
    },
    "papermill": {
     "duration": 76.867457,
     "end_time": "2024-04-17T08:37:26.589880",
     "exception": false,
     "start_time": "2024-04-17T08:36:09.722423",
     "status": "completed"
    },
    "tags": []
   },
   "outputs": [
    {
     "name": "stdout",
     "output_type": "stream",
     "text": [
      "Best Parameters: {'n_estimators': 200, 'min_samples_split': 2, 'min_samples_leaf': 2, 'max_features': None, 'max_depth': 3, 'learning_rate': 0.01}\n",
      "\n",
      "\n",
      "Cross-validation accuracies: [0.82681564 0.8258427  0.86516854 0.80337079 0.83707865]\n",
      "\n",
      "\n",
      "Mean cross-validation accuracy: 0.8316552633230808\n",
      "\n",
      "\n",
      "       Feature  Importance  Cumulative_Importance\n",
      "0        Title    0.622659               0.622659\n",
      "1       Pclass    0.243540               0.866199\n",
      "2   FamilySize    0.085936               0.952135\n",
      "3    FareGroup    0.012977               0.965113\n",
      "4     Embarked    0.010513               0.975625\n",
      "5          Sex    0.010098               0.985724\n",
      "6     AgeGroup    0.008598               0.994321\n",
      "7         IsMr    0.003674               0.997995\n",
      "8        Parch    0.001206               0.999201\n",
      "9      IsAlone    0.000547               0.999748\n",
      "10       SibSp    0.000252               1.000000\n",
      "11   IsElderly    0.000000               1.000000\n",
      "\n",
      "\n",
      "Features accounting for 95% of model's predictive power:\n",
      "['Title', 'Pclass', 'FamilySize']\n",
      "\n",
      "\n",
      "Training set accuracy: 0.835016835016835\n"
     ]
    }
   ],
   "source": [
    "# Select features to be used\n",
    "features_model15 = ['Pclass', 'Sex', 'SibSp', 'Parch', 'Embarked', 'Title', 'IsMr',\n",
    "       'AgeGroup', 'IsElderly', 'FamilySize', 'IsAlone', 'FareGroup']\n",
    "\n",
    "# Define training and test sets\n",
    "X_train_model15 = X_train[features_model15]\n",
    "y_train_model15 = y_train\n",
    "X_test_model15 = X_test[features_model15]\n",
    "\n",
    "# Define the hyperparameter grid\n",
    "param_grid_model15 = {\n",
    "    'n_estimators': [50, 100, 200], \n",
    "    'learning_rate': [0.01, 0.1, 0.2],\n",
    "    'max_depth': [3, 5, 10],\n",
    "    'min_samples_split': [2, 5, 10],\n",
    "    'min_samples_leaf': [1, 2, 4],\n",
    "    'max_features': ['sqrt', 'log2', None]\n",
    "}\n",
    "\n",
    "# Instantiate model\n",
    "model15 = GradientBoostingClassifier(random_state=42)\n",
    "\n",
    "# Initialize cross-validation splitter\n",
    "cv_model15 = KFold(n_splits=5, shuffle=True, random_state=42)\n",
    "\n",
    "# Perform randomized search with cross-validation\n",
    "random_search_model15 = RandomizedSearchCV(estimator=model15, param_distributions=param_grid_model15,\n",
    "                                          n_iter=50, cv=cv_model15, scoring='accuracy', random_state=42)\n",
    "random_search_model15.fit(X_train_model15, y_train_model15)\n",
    "\n",
    "# Get the best model from randomized search\n",
    "best_model15 = random_search_model15.best_estimator_\n",
    "\n",
    "# Print the parameters of the best model\n",
    "print(\"Best Parameters:\", random_search_model15.best_params_)\n",
    "print(\"\\n\")\n",
    "\n",
    "# Compute cross-validation score\n",
    "cv_score_model15 = cross_val_score(best_model15, X_train_model15, y_train_model15, cv=cv_model15, scoring='accuracy')\n",
    "print(\"Cross-validation accuracies:\", cv_score_model15)\n",
    "print(\"\\n\")\n",
    "\n",
    "cv_score_mean_model15 = cv_score_model15.mean()\n",
    "print(\"Mean cross-validation accuracy:\", cv_score_mean_model15)\n",
    "print(\"\\n\")\n",
    "\n",
    "# Get the feature importances of the best model\n",
    "feature_importances_model15 = best_model15.feature_importances_\n",
    "\n",
    "# Create a DataFrame to store feature names and corresponding feature importances\n",
    "importance_df_model15 = pd.DataFrame({'Feature': X_train_model15.columns, 'Importance': feature_importances_model15})\n",
    "\n",
    "# Sort the feature importances to identify the most important features\n",
    "importance_df_model15 = importance_df_model15.sort_values(by='Importance', ascending=False).reset_index(drop=True)\n",
    "\n",
    "# Calculate cumulative sum of feature importances\n",
    "importance_df_model15['Cumulative_Importance'] = importance_df_model15['Importance'].cumsum()\n",
    "\n",
    "# Print feature importances\n",
    "print(importance_df_model15)\n",
    "print(\"\\n\")\n",
    "\n",
    "# Find features accounting for 95% of model's predictive power\n",
    "most_important_features_model15 = []\n",
    "\n",
    "for index, row in importance_df_model15.iterrows():\n",
    "    if row['Cumulative_Importance'] <= 0.95:\n",
    "        most_important_features_model15.append(row['Feature'])\n",
    "    elif index > 0 and importance_df_model15.iloc[index - 1]['Cumulative_Importance'] < 0.95:\n",
    "        most_important_features_model15.append(row['Feature'])\n",
    "    else:\n",
    "        break\n",
    "\n",
    "# List features accounting for 95% of model's predictive power\n",
    "print(\"Features accounting for 95% of model's predictive power:\")\n",
    "print(most_important_features_model15)\n",
    "print(\"\\n\")\n",
    "\n",
    "# Compute training set accuracy\n",
    "train_accuracy_model15 = best_model15.score(X_train_model15, y_train_model15)\n",
    "\n",
    "# Print training set accuracy\n",
    "print(\"Training set accuracy:\", train_accuracy_model15)\n",
    "\n",
    "# Predict on the test set using the best model\n",
    "y_pred_model15 = best_model15.predict(X_test_model15)"
   ]
  },
  {
   "cell_type": "code",
   "execution_count": 112,
   "id": "5682a822",
   "metadata": {
    "execution": {
     "iopub.execute_input": "2024-04-17T08:37:26.777088Z",
     "iopub.status.busy": "2024-04-17T08:37:26.776270Z",
     "iopub.status.idle": "2024-04-17T08:37:26.795409Z",
     "shell.execute_reply": "2024-04-17T08:37:26.794174Z"
    },
    "papermill": {
     "duration": 0.115612,
     "end_time": "2024-04-17T08:37:26.797989",
     "exception": false,
     "start_time": "2024-04-17T08:37:26.682377",
     "status": "completed"
    },
    "tags": []
   },
   "outputs": [
    {
     "data": {
      "text/html": [
       "<div>\n",
       "<style scoped>\n",
       "    .dataframe tbody tr th:only-of-type {\n",
       "        vertical-align: middle;\n",
       "    }\n",
       "\n",
       "    .dataframe tbody tr th {\n",
       "        vertical-align: top;\n",
       "    }\n",
       "\n",
       "    .dataframe thead th {\n",
       "        text-align: right;\n",
       "    }\n",
       "</style>\n",
       "<table border=\"1\" class=\"dataframe\">\n",
       "  <thead>\n",
       "    <tr style=\"text-align: right;\">\n",
       "      <th></th>\n",
       "      <th>PassengerId</th>\n",
       "      <th>Survived</th>\n",
       "    </tr>\n",
       "  </thead>\n",
       "  <tbody>\n",
       "    <tr>\n",
       "      <th>0</th>\n",
       "      <td>892</td>\n",
       "      <td>0</td>\n",
       "    </tr>\n",
       "    <tr>\n",
       "      <th>1</th>\n",
       "      <td>893</td>\n",
       "      <td>1</td>\n",
       "    </tr>\n",
       "    <tr>\n",
       "      <th>2</th>\n",
       "      <td>894</td>\n",
       "      <td>0</td>\n",
       "    </tr>\n",
       "    <tr>\n",
       "      <th>3</th>\n",
       "      <td>895</td>\n",
       "      <td>0</td>\n",
       "    </tr>\n",
       "    <tr>\n",
       "      <th>4</th>\n",
       "      <td>896</td>\n",
       "      <td>1</td>\n",
       "    </tr>\n",
       "    <tr>\n",
       "      <th>...</th>\n",
       "      <td>...</td>\n",
       "      <td>...</td>\n",
       "    </tr>\n",
       "    <tr>\n",
       "      <th>413</th>\n",
       "      <td>1305</td>\n",
       "      <td>0</td>\n",
       "    </tr>\n",
       "    <tr>\n",
       "      <th>414</th>\n",
       "      <td>1306</td>\n",
       "      <td>1</td>\n",
       "    </tr>\n",
       "    <tr>\n",
       "      <th>415</th>\n",
       "      <td>1307</td>\n",
       "      <td>0</td>\n",
       "    </tr>\n",
       "    <tr>\n",
       "      <th>416</th>\n",
       "      <td>1308</td>\n",
       "      <td>0</td>\n",
       "    </tr>\n",
       "    <tr>\n",
       "      <th>417</th>\n",
       "      <td>1309</td>\n",
       "      <td>1</td>\n",
       "    </tr>\n",
       "  </tbody>\n",
       "</table>\n",
       "<p>418 rows × 2 columns</p>\n",
       "</div>"
      ],
      "text/plain": [
       "     PassengerId  Survived\n",
       "0            892         0\n",
       "1            893         1\n",
       "2            894         0\n",
       "3            895         0\n",
       "4            896         1\n",
       "..           ...       ...\n",
       "413         1305         0\n",
       "414         1306         1\n",
       "415         1307         0\n",
       "416         1308         0\n",
       "417         1309         1\n",
       "\n",
       "[418 rows x 2 columns]"
      ]
     },
     "execution_count": 112,
     "metadata": {},
     "output_type": "execute_result"
    }
   ],
   "source": [
    "# Create submission file\n",
    "output_model15 = pd.DataFrame({'PassengerId': test_data['PassengerId'], 'Survived': y_pred_model15})\n",
    "output_model15.to_csv('submission_model15.csv', index=False)\n",
    "\n",
    "# Check contents of submission file\n",
    "submission_model15 = pd.read_csv('submission_model15.csv')\n",
    "submission_model15"
   ]
  },
  {
   "cell_type": "markdown",
   "id": "0aba7661",
   "metadata": {
    "papermill": {
     "duration": 0.08929,
     "end_time": "2024-04-17T08:37:26.979434",
     "exception": false,
     "start_time": "2024-04-17T08:37:26.890144",
     "status": "completed"
    },
    "tags": []
   },
   "source": [
    "According to Kaggle, the test set accuracy of this model is 0.77751."
   ]
  },
  {
   "cell_type": "markdown",
   "id": "3c5aa077",
   "metadata": {
    "papermill": {
     "duration": 0.092536,
     "end_time": "2024-04-17T08:37:27.162364",
     "exception": false,
     "start_time": "2024-04-17T08:37:27.069828",
     "status": "completed"
    },
    "tags": []
   },
   "source": [
    "## Model 16 - Logistic Regression, 5 Features, With Cross-Validation, With Hyperparameter Tuning"
   ]
  },
  {
   "cell_type": "markdown",
   "id": "60dc7083",
   "metadata": {
    "papermill": {
     "duration": 0.091397,
     "end_time": "2024-04-17T08:37:27.344115",
     "exception": false,
     "start_time": "2024-04-17T08:37:27.252718",
     "status": "completed"
    },
    "tags": []
   },
   "source": [
    "According to Model 11, a Logistic Regression model with 12 features and cross-validation, the 12 features in order of decreasing absolute coefficient value were as follows: 'Pclass', 'Title', 'AgeGroup', 'IsMr', 'FamilySize', 'FareGroup', 'SibSp', 'IsAlone', 'Embarked', 'Sex', 'Parch', 'IsElderly'. \n",
    "\n",
    "Features were dropped one by one from this list starting from the feature with the lowest absolute coefficient value.\n",
    "\n",
    "features_model16 was the feature set that yielded the highest mean cross-validation accuracy."
   ]
  },
  {
   "cell_type": "code",
   "execution_count": 113,
   "id": "b8cc3073",
   "metadata": {
    "execution": {
     "iopub.execute_input": "2024-04-17T08:37:27.529101Z",
     "iopub.status.busy": "2024-04-17T08:37:27.528239Z",
     "iopub.status.idle": "2024-04-17T08:37:30.417577Z",
     "shell.execute_reply": "2024-04-17T08:37:30.416207Z"
    },
    "papermill": {
     "duration": 2.985903,
     "end_time": "2024-04-17T08:37:30.420805",
     "exception": false,
     "start_time": "2024-04-17T08:37:27.434902",
     "status": "completed"
    },
    "tags": []
   },
   "outputs": [
    {
     "name": "stdout",
     "output_type": "stream",
     "text": [
      "Best Parameters: {'solver': 'saga', 'max_iter': 100, 'C': 0.1}\n",
      "\n",
      "\n",
      "Cross-validation accuracies: [0.79888268 0.81460674 0.87078652 0.79213483 0.83707865]\n",
      "\n",
      "\n",
      "Mean cross-validation accuracy: 0.8226978846274561\n",
      "\n",
      "\n",
      "      Feature  Coefficient\n",
      "0      Pclass    -0.973497\n",
      "1       Title    -0.793911\n",
      "2    AgeGroup    -0.415178\n",
      "3        IsMr    -0.348230\n",
      "4  FamilySize    -0.296584\n",
      "\n",
      "\n",
      "Training set accuracy: 0.819304152637486\n"
     ]
    }
   ],
   "source": [
    "# Select features to be used\n",
    "features_model16 = ['Pclass', 'Title', 'AgeGroup', 'IsMr', 'FamilySize']\n",
    "\n",
    "# Define training and test sets\n",
    "X_train_model16 = X_train[features_model16]\n",
    "y_train_model16 = y_train\n",
    "X_test_model16 = X_test[features_model16]\n",
    "\n",
    "# Define the hyperparameter grid\n",
    "param_grid_model16 = {\n",
    "    'C': [0.001, 0.01, 0.1, 1, 10, 100], \n",
    "    'solver': ['liblinear', 'saga'], \n",
    "    'max_iter': [100, 200, 300]\n",
    "}\n",
    "\n",
    "# Instantiate model\n",
    "model16 = LogisticRegression(random_state=42)\n",
    "\n",
    "# Initialize cross-validation splitter\n",
    "cv_model16 = KFold(n_splits=5, shuffle=True, random_state=42)\n",
    "\n",
    "# Perform randomized search with cross-validation\n",
    "random_search_model16 = RandomizedSearchCV(estimator=model16, param_distributions=param_grid_model16,\n",
    "                                          n_iter=50, cv=cv_model16, scoring='accuracy', random_state=42)\n",
    "random_search_model16.fit(X_train_model16, y_train_model16)\n",
    "\n",
    "# Get the best model from randomized search\n",
    "best_model16 = random_search_model16.best_estimator_\n",
    "\n",
    "# Print the parameters of the best model\n",
    "print(\"Best Parameters:\", random_search_model16.best_params_)\n",
    "print(\"\\n\")\n",
    "\n",
    "# Compute cross-validation score\n",
    "cv_score_model16 = cross_val_score(best_model16, X_train_model16, y_train_model16, cv=cv_model16, scoring='accuracy')\n",
    "print(\"Cross-validation accuracies:\", cv_score_model16)\n",
    "print(\"\\n\")\n",
    "\n",
    "cv_score_mean_model16 = cv_score_model16.mean()\n",
    "print(\"Mean cross-validation accuracy:\", cv_score_mean_model16)\n",
    "print(\"\\n\")\n",
    "\n",
    "# Get the coefficients of the best model\n",
    "coefficients_model16 = best_model16.coef_[0]\n",
    "\n",
    "# Create a DataFrame to store feature names and corresponding coefficients\n",
    "coefficients_df_model16 = pd.DataFrame({'Feature': X_train_model16.columns, 'Coefficient': coefficients_model16})\n",
    "\n",
    "# Sort the coefficients to identify the most important features\n",
    "coefficients_df_model16 = coefficients_df_model16.reindex(coefficients_df_model16['Coefficient'].abs().sort_values(ascending=False).index).reset_index(drop=True)\n",
    "\n",
    "# Print coefficients\n",
    "print(coefficients_df_model16)\n",
    "print(\"\\n\")\n",
    "\n",
    "# Compute training set accuracy\n",
    "train_accuracy_model16 = best_model16.score(X_train_model16, y_train_model16)\n",
    "\n",
    "# Print training set accuracy\n",
    "print(\"Training set accuracy:\", train_accuracy_model16)\n",
    "\n",
    "# Predict on the test set using the best model\n",
    "y_pred_model16 = best_model16.predict(X_test_model16)"
   ]
  },
  {
   "cell_type": "code",
   "execution_count": 114,
   "id": "acf3f7bc",
   "metadata": {
    "execution": {
     "iopub.execute_input": "2024-04-17T08:37:30.607419Z",
     "iopub.status.busy": "2024-04-17T08:37:30.606904Z",
     "iopub.status.idle": "2024-04-17T08:37:30.624678Z",
     "shell.execute_reply": "2024-04-17T08:37:30.623619Z"
    },
    "papermill": {
     "duration": 0.113965,
     "end_time": "2024-04-17T08:37:30.627188",
     "exception": false,
     "start_time": "2024-04-17T08:37:30.513223",
     "status": "completed"
    },
    "tags": []
   },
   "outputs": [
    {
     "data": {
      "text/html": [
       "<div>\n",
       "<style scoped>\n",
       "    .dataframe tbody tr th:only-of-type {\n",
       "        vertical-align: middle;\n",
       "    }\n",
       "\n",
       "    .dataframe tbody tr th {\n",
       "        vertical-align: top;\n",
       "    }\n",
       "\n",
       "    .dataframe thead th {\n",
       "        text-align: right;\n",
       "    }\n",
       "</style>\n",
       "<table border=\"1\" class=\"dataframe\">\n",
       "  <thead>\n",
       "    <tr style=\"text-align: right;\">\n",
       "      <th></th>\n",
       "      <th>PassengerId</th>\n",
       "      <th>Survived</th>\n",
       "    </tr>\n",
       "  </thead>\n",
       "  <tbody>\n",
       "    <tr>\n",
       "      <th>0</th>\n",
       "      <td>892</td>\n",
       "      <td>0</td>\n",
       "    </tr>\n",
       "    <tr>\n",
       "      <th>1</th>\n",
       "      <td>893</td>\n",
       "      <td>1</td>\n",
       "    </tr>\n",
       "    <tr>\n",
       "      <th>2</th>\n",
       "      <td>894</td>\n",
       "      <td>0</td>\n",
       "    </tr>\n",
       "    <tr>\n",
       "      <th>3</th>\n",
       "      <td>895</td>\n",
       "      <td>0</td>\n",
       "    </tr>\n",
       "    <tr>\n",
       "      <th>4</th>\n",
       "      <td>896</td>\n",
       "      <td>1</td>\n",
       "    </tr>\n",
       "    <tr>\n",
       "      <th>...</th>\n",
       "      <td>...</td>\n",
       "      <td>...</td>\n",
       "    </tr>\n",
       "    <tr>\n",
       "      <th>413</th>\n",
       "      <td>1305</td>\n",
       "      <td>0</td>\n",
       "    </tr>\n",
       "    <tr>\n",
       "      <th>414</th>\n",
       "      <td>1306</td>\n",
       "      <td>1</td>\n",
       "    </tr>\n",
       "    <tr>\n",
       "      <th>415</th>\n",
       "      <td>1307</td>\n",
       "      <td>0</td>\n",
       "    </tr>\n",
       "    <tr>\n",
       "      <th>416</th>\n",
       "      <td>1308</td>\n",
       "      <td>0</td>\n",
       "    </tr>\n",
       "    <tr>\n",
       "      <th>417</th>\n",
       "      <td>1309</td>\n",
       "      <td>0</td>\n",
       "    </tr>\n",
       "  </tbody>\n",
       "</table>\n",
       "<p>418 rows × 2 columns</p>\n",
       "</div>"
      ],
      "text/plain": [
       "     PassengerId  Survived\n",
       "0            892         0\n",
       "1            893         1\n",
       "2            894         0\n",
       "3            895         0\n",
       "4            896         1\n",
       "..           ...       ...\n",
       "413         1305         0\n",
       "414         1306         1\n",
       "415         1307         0\n",
       "416         1308         0\n",
       "417         1309         0\n",
       "\n",
       "[418 rows x 2 columns]"
      ]
     },
     "execution_count": 114,
     "metadata": {},
     "output_type": "execute_result"
    }
   ],
   "source": [
    "# Create submission file\n",
    "output_model16 = pd.DataFrame({'PassengerId': test_data['PassengerId'], 'Survived': y_pred_model16})\n",
    "output_model16.to_csv('submission_model16.csv', index=False)\n",
    "\n",
    "# Check contents of submission file\n",
    "submission_model16 = pd.read_csv('submission_model16.csv')\n",
    "submission_model16"
   ]
  },
  {
   "cell_type": "markdown",
   "id": "ba446e1f",
   "metadata": {
    "papermill": {
     "duration": 0.092789,
     "end_time": "2024-04-17T08:37:30.813814",
     "exception": false,
     "start_time": "2024-04-17T08:37:30.721025",
     "status": "completed"
    },
    "tags": []
   },
   "source": [
    "According to Kaggle, the test set accuracy of this model is 0.78468."
   ]
  },
  {
   "cell_type": "markdown",
   "id": "770a7ea6",
   "metadata": {
    "papermill": {
     "duration": 0.090733,
     "end_time": "2024-04-17T08:37:30.997674",
     "exception": false,
     "start_time": "2024-04-17T08:37:30.906941",
     "status": "completed"
    },
    "tags": []
   },
   "source": [
    "## Model 17 - K-Nearest Neighbors Classifier, 6 Features, With Cross-Validation, With Hyperparameter Tuning"
   ]
  },
  {
   "cell_type": "markdown",
   "id": "cef6eb54",
   "metadata": {
    "papermill": {
     "duration": 0.095302,
     "end_time": "2024-04-17T08:37:31.187784",
     "exception": false,
     "start_time": "2024-04-17T08:37:31.092482",
     "status": "completed"
    },
    "tags": []
   },
   "source": [
    "Unlike regression algorithms, which produce feature coefficients, and tree-based algorithms, which produce feature importances, K-Nearest Neighbors Classifier does not produce anything similar. It is for this reason that the ranking of features produced by Model 15 (the model that produced the highest mean cross-validation accuracy so far) was used as a starting list here. \n",
    "\n",
    "According to Model 15, a Gradient Boosting Classifier, the 12 features in order of decreasing feature importance were as follows: 'Title', 'Pclass', 'FamilySize', 'FareGroup', 'Embarked', 'Sex', 'AgeGroup', 'IsMr', 'Parch', 'IsAlone', 'SibSp', 'IsElderly'.acy."
   ]
  },
  {
   "cell_type": "markdown",
   "id": "6b88cd09",
   "metadata": {
    "papermill": {
     "duration": 0.092435,
     "end_time": "2024-04-17T08:37:31.371485",
     "exception": false,
     "start_time": "2024-04-17T08:37:31.279050",
     "status": "completed"
    },
    "tags": []
   },
   "source": [
    "Features were dropped one by one from this list starting from the feature with the lowest feature importance.\n",
    "\n",
    "features_model17 was the feature set that yielded the highest mean cross-validation accuracy."
   ]
  },
  {
   "cell_type": "code",
   "execution_count": 115,
   "id": "b632e44d",
   "metadata": {
    "execution": {
     "iopub.execute_input": "2024-04-17T08:37:31.558916Z",
     "iopub.status.busy": "2024-04-17T08:37:31.557874Z",
     "iopub.status.idle": "2024-04-17T08:37:33.689237Z",
     "shell.execute_reply": "2024-04-17T08:37:33.687721Z"
    },
    "papermill": {
     "duration": 2.230131,
     "end_time": "2024-04-17T08:37:33.692614",
     "exception": false,
     "start_time": "2024-04-17T08:37:31.462483",
     "status": "completed"
    },
    "tags": []
   },
   "outputs": [
    {
     "name": "stdout",
     "output_type": "stream",
     "text": [
      "Best Parameters: {'weights': 'uniform', 'n_neighbors': 5, 'algorithm': 'brute'}\n",
      "\n",
      "\n",
      "Cross-validation accuracies: [0.83798883 0.8258427  0.85955056 0.79213483 0.8258427 ]\n",
      "\n",
      "\n",
      "Mean cross-validation accuracy: 0.8282719226664993\n",
      "\n",
      "\n",
      "Training set accuracy: 0.8417508417508418\n"
     ]
    }
   ],
   "source": [
    "# Select features to be used\n",
    "features_model17 = ['Title', 'Pclass', 'FamilySize', 'FareGroup', 'Embarked', 'Sex']\n",
    "\n",
    "# Define training and test sets\n",
    "X_train_model17 = X_train[features_model17]\n",
    "y_train_model17 = y_train\n",
    "X_test_model17 = X_test[features_model17]\n",
    "\n",
    "# Define the hyperparameter grid\n",
    "param_grid_model17 = {\n",
    "    'n_neighbors': [5, 10, 15],\n",
    "    'weights': ['uniform', 'distance'],\n",
    "    'algorithm': ['auto', 'ball_tree', 'kd_tree', 'brute']\n",
    "}\n",
    "\n",
    "# Instantiate model\n",
    "model17 = KNeighborsClassifier()\n",
    "\n",
    "# Initialize cross-validation splitter\n",
    "cv_model17 = KFold(n_splits=5, shuffle=True, random_state=42)\n",
    "\n",
    "# Perform randomized search with cross-validation\n",
    "random_search_model17 = RandomizedSearchCV(estimator=model17, param_distributions=param_grid_model17,\n",
    "                                          n_iter=50, cv=cv_model17, scoring='accuracy', random_state=42)\n",
    "random_search_model17.fit(X_train_model17, y_train_model17)\n",
    "\n",
    "# Get the best model from randomized search\n",
    "best_model17 = random_search_model17.best_estimator_\n",
    "\n",
    "# Print the parameters of the best model\n",
    "print(\"Best Parameters:\", random_search_model17.best_params_)\n",
    "print(\"\\n\")\n",
    "\n",
    "# Compute cross-validation score\n",
    "cv_score_model17 = cross_val_score(best_model17, X_train_model17, y_train_model17, cv=cv_model17, scoring='accuracy')\n",
    "print(\"Cross-validation accuracies:\", cv_score_model17)\n",
    "print(\"\\n\")\n",
    "\n",
    "cv_score_mean_model17 = cv_score_model17.mean()\n",
    "print(\"Mean cross-validation accuracy:\", cv_score_mean_model17)\n",
    "print(\"\\n\")\n",
    "\n",
    "# Compute training set accuracy\n",
    "train_accuracy_model17 = best_model17.score(X_train_model17, y_train_model17)\n",
    "\n",
    "# Print training set accuracy\n",
    "print(\"Training set accuracy:\", train_accuracy_model17)\n",
    "\n",
    "# Predict on the test set using the best model\n",
    "y_pred_model17 = best_model17.predict(X_test_model17)"
   ]
  },
  {
   "cell_type": "code",
   "execution_count": 116,
   "id": "6142e6b7",
   "metadata": {
    "execution": {
     "iopub.execute_input": "2024-04-17T08:37:33.878995Z",
     "iopub.status.busy": "2024-04-17T08:37:33.878453Z",
     "iopub.status.idle": "2024-04-17T08:37:33.899659Z",
     "shell.execute_reply": "2024-04-17T08:37:33.897978Z"
    },
    "papermill": {
     "duration": 0.11833,
     "end_time": "2024-04-17T08:37:33.902428",
     "exception": false,
     "start_time": "2024-04-17T08:37:33.784098",
     "status": "completed"
    },
    "tags": []
   },
   "outputs": [
    {
     "data": {
      "text/html": [
       "<div>\n",
       "<style scoped>\n",
       "    .dataframe tbody tr th:only-of-type {\n",
       "        vertical-align: middle;\n",
       "    }\n",
       "\n",
       "    .dataframe tbody tr th {\n",
       "        vertical-align: top;\n",
       "    }\n",
       "\n",
       "    .dataframe thead th {\n",
       "        text-align: right;\n",
       "    }\n",
       "</style>\n",
       "<table border=\"1\" class=\"dataframe\">\n",
       "  <thead>\n",
       "    <tr style=\"text-align: right;\">\n",
       "      <th></th>\n",
       "      <th>PassengerId</th>\n",
       "      <th>Survived</th>\n",
       "    </tr>\n",
       "  </thead>\n",
       "  <tbody>\n",
       "    <tr>\n",
       "      <th>0</th>\n",
       "      <td>892</td>\n",
       "      <td>0</td>\n",
       "    </tr>\n",
       "    <tr>\n",
       "      <th>1</th>\n",
       "      <td>893</td>\n",
       "      <td>1</td>\n",
       "    </tr>\n",
       "    <tr>\n",
       "      <th>2</th>\n",
       "      <td>894</td>\n",
       "      <td>0</td>\n",
       "    </tr>\n",
       "    <tr>\n",
       "      <th>3</th>\n",
       "      <td>895</td>\n",
       "      <td>0</td>\n",
       "    </tr>\n",
       "    <tr>\n",
       "      <th>4</th>\n",
       "      <td>896</td>\n",
       "      <td>0</td>\n",
       "    </tr>\n",
       "    <tr>\n",
       "      <th>...</th>\n",
       "      <td>...</td>\n",
       "      <td>...</td>\n",
       "    </tr>\n",
       "    <tr>\n",
       "      <th>413</th>\n",
       "      <td>1305</td>\n",
       "      <td>0</td>\n",
       "    </tr>\n",
       "    <tr>\n",
       "      <th>414</th>\n",
       "      <td>1306</td>\n",
       "      <td>1</td>\n",
       "    </tr>\n",
       "    <tr>\n",
       "      <th>415</th>\n",
       "      <td>1307</td>\n",
       "      <td>0</td>\n",
       "    </tr>\n",
       "    <tr>\n",
       "      <th>416</th>\n",
       "      <td>1308</td>\n",
       "      <td>0</td>\n",
       "    </tr>\n",
       "    <tr>\n",
       "      <th>417</th>\n",
       "      <td>1309</td>\n",
       "      <td>1</td>\n",
       "    </tr>\n",
       "  </tbody>\n",
       "</table>\n",
       "<p>418 rows × 2 columns</p>\n",
       "</div>"
      ],
      "text/plain": [
       "     PassengerId  Survived\n",
       "0            892         0\n",
       "1            893         1\n",
       "2            894         0\n",
       "3            895         0\n",
       "4            896         0\n",
       "..           ...       ...\n",
       "413         1305         0\n",
       "414         1306         1\n",
       "415         1307         0\n",
       "416         1308         0\n",
       "417         1309         1\n",
       "\n",
       "[418 rows x 2 columns]"
      ]
     },
     "execution_count": 116,
     "metadata": {},
     "output_type": "execute_result"
    }
   ],
   "source": [
    "# Create submission file\n",
    "output_model17 = pd.DataFrame({'PassengerId': test_data['PassengerId'], 'Survived': y_pred_model17})\n",
    "output_model17.to_csv('submission_model17.csv', index=False)\n",
    "\n",
    "# Check contents of submission file\n",
    "submission_model17 = pd.read_csv('submission_model17.csv')\n",
    "submission_model17"
   ]
  },
  {
   "cell_type": "markdown",
   "id": "90ab0683",
   "metadata": {
    "papermill": {
     "duration": 0.095277,
     "end_time": "2024-04-17T08:37:34.090243",
     "exception": false,
     "start_time": "2024-04-17T08:37:33.994966",
     "status": "completed"
    },
    "tags": []
   },
   "source": [
    "According to Kaggle, the test set accuracy of this model is 0.78229."
   ]
  },
  {
   "cell_type": "markdown",
   "id": "83e1cfcd",
   "metadata": {
    "papermill": {
     "duration": 0.090855,
     "end_time": "2024-04-17T08:37:34.274765",
     "exception": false,
     "start_time": "2024-04-17T08:37:34.183910",
     "status": "completed"
    },
    "tags": []
   },
   "source": [
    "## Model 18 - Decision Tree Classifier, 4 Features, With Cross-Validation, With Hyperparameter Tuning"
   ]
  },
  {
   "cell_type": "markdown",
   "id": "de5e9647",
   "metadata": {
    "papermill": {
     "duration": 0.091179,
     "end_time": "2024-04-17T08:37:34.457858",
     "exception": false,
     "start_time": "2024-04-17T08:37:34.366679",
     "status": "completed"
    },
    "tags": []
   },
   "source": [
    "According to Model 13, a Decision Tree Classifier model with 12 features and cross-validation, the 12 features in order of decreasing feature importance were as follows: 'Title', 'Pclass', 'FamilySize', 'Sex', 'AgeGroup', 'FareGroup', 'SibSp', 'Parch', 'Embarked', 'IsMr', 'IsElderly', 'IsAlone'.\n",
    "\n",
    "Features were dropped one by one from this list starting from the feature with the lowest feature importance.\n",
    "\n",
    "features_model18 was the feature set that yielded the highest mean cross-validation accuracy."
   ]
  },
  {
   "cell_type": "code",
   "execution_count": 117,
   "id": "bd24af8a",
   "metadata": {
    "execution": {
     "iopub.execute_input": "2024-04-17T08:37:34.744611Z",
     "iopub.status.busy": "2024-04-17T08:37:34.743092Z",
     "iopub.status.idle": "2024-04-17T08:37:36.376095Z",
     "shell.execute_reply": "2024-04-17T08:37:36.374424Z"
    },
    "papermill": {
     "duration": 1.732137,
     "end_time": "2024-04-17T08:37:36.379222",
     "exception": false,
     "start_time": "2024-04-17T08:37:34.647085",
     "status": "completed"
    },
    "tags": []
   },
   "outputs": [
    {
     "name": "stdout",
     "output_type": "stream",
     "text": [
      "Best Parameters: {'min_samples_split': 5, 'min_samples_leaf': 2, 'max_features': None, 'max_depth': 5}\n",
      "\n",
      "\n",
      "Cross-validation accuracies: [0.82681564 0.8258427  0.86516854 0.80337079 0.83707865]\n",
      "\n",
      "\n",
      "Mean cross-validation accuracy: 0.8316552633230808\n",
      "\n",
      "\n",
      "      Feature  Importance  Cumulative_Importance\n",
      "0       Title    0.631727               0.631727\n",
      "1      Pclass    0.241858               0.873584\n",
      "2  FamilySize    0.114940               0.988524\n",
      "3         Sex    0.011476               1.000000\n",
      "\n",
      "\n",
      "Features accounting for 95% of model's predictive power:\n",
      "['Title', 'Pclass', 'FamilySize']\n",
      "\n",
      "\n",
      "Training set accuracy: 0.835016835016835\n"
     ]
    }
   ],
   "source": [
    "# Select features to be used\n",
    "features_model18 = ['Title', 'Pclass', 'FamilySize', 'Sex']\n",
    "\n",
    "# Define training and test sets\n",
    "X_train_model18 = X_train[features_model18]\n",
    "y_train_model18 = y_train\n",
    "X_test_model18 = X_test[features_model18]\n",
    "\n",
    "# Define the hyperparameter grid\n",
    "param_grid_model18 = {\n",
    "    'max_depth': [3, 5, 10],\n",
    "    'min_samples_split': [2, 5, 10],\n",
    "    'min_samples_leaf': [1, 2, 4],\n",
    "    'max_features': ['sqrt', 'log2', None]\n",
    "}\n",
    "\n",
    "# Instantiate model\n",
    "model18 = DecisionTreeClassifier(random_state=42)\n",
    "\n",
    "# Initialize cross-validation splitter\n",
    "cv_model18 = KFold(n_splits=5, shuffle=True, random_state=42)\n",
    "\n",
    "# Perform randomized search with cross-validation\n",
    "random_search_model18 = RandomizedSearchCV(estimator=model18, param_distributions=param_grid_model18,\n",
    "                                          n_iter=50, cv=cv_model18, scoring='accuracy', random_state=42)\n",
    "random_search_model18.fit(X_train_model18, y_train_model18)\n",
    "\n",
    "# Get the best model from randomized search\n",
    "best_model18 = random_search_model18.best_estimator_\n",
    "\n",
    "# Print the parameters of the best model\n",
    "print(\"Best Parameters:\", random_search_model18.best_params_)\n",
    "print(\"\\n\")\n",
    "\n",
    "# Compute cross-validation score\n",
    "cv_score_model18 = cross_val_score(best_model18, X_train_model18, y_train_model18, cv=cv_model18, scoring='accuracy')\n",
    "print(\"Cross-validation accuracies:\", cv_score_model18)\n",
    "print(\"\\n\")\n",
    "\n",
    "cv_score_mean_model18 = cv_score_model18.mean()\n",
    "print(\"Mean cross-validation accuracy:\", cv_score_mean_model18)\n",
    "print(\"\\n\")\n",
    "\n",
    "# Get the feature importances of the best model\n",
    "feature_importances_model18 = best_model18.feature_importances_\n",
    "\n",
    "# Create a DataFrame to store feature names and corresponding feature importances\n",
    "importance_df_model18 = pd.DataFrame({'Feature': X_train_model18.columns, 'Importance': feature_importances_model18})\n",
    "\n",
    "# Sort the feature importances to identify the most important features\n",
    "importance_df_model18 = importance_df_model18.sort_values(by='Importance', ascending=False).reset_index(drop=True)\n",
    "\n",
    "# Calculate cumulative sum of feature importances\n",
    "importance_df_model18['Cumulative_Importance'] = importance_df_model18['Importance'].cumsum()\n",
    "\n",
    "# Print feature importances\n",
    "print(importance_df_model18)\n",
    "print(\"\\n\")\n",
    "\n",
    "# Find features accounting for 95% of model's predictive power\n",
    "most_important_features_model18 = []\n",
    "\n",
    "for index, row in importance_df_model18.iterrows():\n",
    "    if row['Cumulative_Importance'] <= 0.95:\n",
    "        most_important_features_model18.append(row['Feature'])\n",
    "    elif index > 0 and importance_df_model18.iloc[index - 1]['Cumulative_Importance'] < 0.95:\n",
    "        most_important_features_model18.append(row['Feature'])\n",
    "    else:\n",
    "        break\n",
    "\n",
    "# List features accounting for 95% of model's predictive power\n",
    "print(\"Features accounting for 95% of model's predictive power:\")\n",
    "print(most_important_features_model18)\n",
    "print(\"\\n\")\n",
    "\n",
    "# Compute training set accuracy\n",
    "train_accuracy_model18 = best_model18.score(X_train_model18, y_train_model18)\n",
    "\n",
    "# Print training set accuracy\n",
    "print(\"Training set accuracy:\", train_accuracy_model18)\n",
    "\n",
    "# Predict on the test set using the best model\n",
    "y_pred_model18 = best_model18.predict(X_test_model18)"
   ]
  },
  {
   "cell_type": "code",
   "execution_count": 118,
   "id": "28f5b72c",
   "metadata": {
    "execution": {
     "iopub.execute_input": "2024-04-17T08:37:36.578280Z",
     "iopub.status.busy": "2024-04-17T08:37:36.576800Z",
     "iopub.status.idle": "2024-04-17T08:37:36.596718Z",
     "shell.execute_reply": "2024-04-17T08:37:36.595420Z"
    },
    "papermill": {
     "duration": 0.126167,
     "end_time": "2024-04-17T08:37:36.599605",
     "exception": false,
     "start_time": "2024-04-17T08:37:36.473438",
     "status": "completed"
    },
    "tags": []
   },
   "outputs": [
    {
     "data": {
      "text/html": [
       "<div>\n",
       "<style scoped>\n",
       "    .dataframe tbody tr th:only-of-type {\n",
       "        vertical-align: middle;\n",
       "    }\n",
       "\n",
       "    .dataframe tbody tr th {\n",
       "        vertical-align: top;\n",
       "    }\n",
       "\n",
       "    .dataframe thead th {\n",
       "        text-align: right;\n",
       "    }\n",
       "</style>\n",
       "<table border=\"1\" class=\"dataframe\">\n",
       "  <thead>\n",
       "    <tr style=\"text-align: right;\">\n",
       "      <th></th>\n",
       "      <th>PassengerId</th>\n",
       "      <th>Survived</th>\n",
       "    </tr>\n",
       "  </thead>\n",
       "  <tbody>\n",
       "    <tr>\n",
       "      <th>0</th>\n",
       "      <td>892</td>\n",
       "      <td>0</td>\n",
       "    </tr>\n",
       "    <tr>\n",
       "      <th>1</th>\n",
       "      <td>893</td>\n",
       "      <td>1</td>\n",
       "    </tr>\n",
       "    <tr>\n",
       "      <th>2</th>\n",
       "      <td>894</td>\n",
       "      <td>0</td>\n",
       "    </tr>\n",
       "    <tr>\n",
       "      <th>3</th>\n",
       "      <td>895</td>\n",
       "      <td>0</td>\n",
       "    </tr>\n",
       "    <tr>\n",
       "      <th>4</th>\n",
       "      <td>896</td>\n",
       "      <td>1</td>\n",
       "    </tr>\n",
       "    <tr>\n",
       "      <th>...</th>\n",
       "      <td>...</td>\n",
       "      <td>...</td>\n",
       "    </tr>\n",
       "    <tr>\n",
       "      <th>413</th>\n",
       "      <td>1305</td>\n",
       "      <td>0</td>\n",
       "    </tr>\n",
       "    <tr>\n",
       "      <th>414</th>\n",
       "      <td>1306</td>\n",
       "      <td>1</td>\n",
       "    </tr>\n",
       "    <tr>\n",
       "      <th>415</th>\n",
       "      <td>1307</td>\n",
       "      <td>0</td>\n",
       "    </tr>\n",
       "    <tr>\n",
       "      <th>416</th>\n",
       "      <td>1308</td>\n",
       "      <td>0</td>\n",
       "    </tr>\n",
       "    <tr>\n",
       "      <th>417</th>\n",
       "      <td>1309</td>\n",
       "      <td>1</td>\n",
       "    </tr>\n",
       "  </tbody>\n",
       "</table>\n",
       "<p>418 rows × 2 columns</p>\n",
       "</div>"
      ],
      "text/plain": [
       "     PassengerId  Survived\n",
       "0            892         0\n",
       "1            893         1\n",
       "2            894         0\n",
       "3            895         0\n",
       "4            896         1\n",
       "..           ...       ...\n",
       "413         1305         0\n",
       "414         1306         1\n",
       "415         1307         0\n",
       "416         1308         0\n",
       "417         1309         1\n",
       "\n",
       "[418 rows x 2 columns]"
      ]
     },
     "execution_count": 118,
     "metadata": {},
     "output_type": "execute_result"
    }
   ],
   "source": [
    "# Create submission file\n",
    "output_model18 = pd.DataFrame({'PassengerId': test_data['PassengerId'], 'Survived': y_pred_model18})\n",
    "output_model18.to_csv('submission_model18.csv', index=False)\n",
    "\n",
    "# Check contents of submission file\n",
    "submission_model18 = pd.read_csv('submission_model18.csv')\n",
    "submission_model18"
   ]
  },
  {
   "cell_type": "markdown",
   "id": "42c95796",
   "metadata": {
    "papermill": {
     "duration": 0.103686,
     "end_time": "2024-04-17T08:37:36.798944",
     "exception": false,
     "start_time": "2024-04-17T08:37:36.695258",
     "status": "completed"
    },
    "tags": []
   },
   "source": [
    "According to Kaggle, the test set accuracy of this model is 0.77751."
   ]
  },
  {
   "cell_type": "markdown",
   "id": "b2637e40",
   "metadata": {
    "papermill": {
     "duration": 0.092482,
     "end_time": "2024-04-17T08:37:36.986651",
     "exception": false,
     "start_time": "2024-04-17T08:37:36.894169",
     "status": "completed"
    },
    "tags": []
   },
   "source": [
    "## Model 19 - Random Forest Classifier, 12 Features, With Cross-Validation, With Hyperparameter Tuning"
   ]
  },
  {
   "cell_type": "markdown",
   "id": "68e67a83",
   "metadata": {
    "papermill": {
     "duration": 0.094465,
     "end_time": "2024-04-17T08:37:37.173916",
     "exception": false,
     "start_time": "2024-04-17T08:37:37.079451",
     "status": "completed"
    },
    "tags": []
   },
   "source": [
    "According to Model 14, a Random Forest Classifier model with 12 features and cross-validation, the 12 features in order of decreasing feature importance were as follows: 'Title', 'Sex', 'IsMr', 'Pclass', 'FareGroup', 'FamilySize', 'AgeGroup', 'SibSp', 'Embarked', 'Parch', 'IsAlone', 'IsElderly'.\n",
    "\n",
    "Features were dropped one by one from this list starting from the feature with the lowest feature importance.\n",
    "\n",
    "features_model19 was the feature set that yielded the highest mean cross-validation accuracy."
   ]
  },
  {
   "cell_type": "code",
   "execution_count": 119,
   "id": "dfa4e706",
   "metadata": {
    "execution": {
     "iopub.execute_input": "2024-04-17T08:37:37.361253Z",
     "iopub.status.busy": "2024-04-17T08:37:37.360771Z",
     "iopub.status.idle": "2024-04-17T08:38:54.192411Z",
     "shell.execute_reply": "2024-04-17T08:38:54.191103Z"
    },
    "papermill": {
     "duration": 76.928569,
     "end_time": "2024-04-17T08:38:54.195281",
     "exception": false,
     "start_time": "2024-04-17T08:37:37.266712",
     "status": "completed"
    },
    "tags": []
   },
   "outputs": [
    {
     "name": "stdout",
     "output_type": "stream",
     "text": [
      "Best Parameters: {'n_estimators': 200, 'min_samples_split': 2, 'min_samples_leaf': 2, 'max_features': 'sqrt', 'max_depth': 20}\n",
      "\n",
      "\n",
      "Cross-validation accuracies: [0.84916201 0.81460674 0.85393258 0.79775281 0.87078652]\n",
      "\n",
      "\n",
      "Mean cross-validation accuracy: 0.8372481325717155\n",
      "\n",
      "\n",
      "       Feature  Importance  Cumulative_Importance\n",
      "0        Title    0.231702               0.231702\n",
      "1          Sex    0.157255               0.388957\n",
      "2         IsMr    0.143613               0.532570\n",
      "3       Pclass    0.132674               0.665244\n",
      "4    FareGroup    0.085095               0.750340\n",
      "5   FamilySize    0.076326               0.826666\n",
      "6     AgeGroup    0.051074               0.877739\n",
      "7        SibSp    0.046781               0.924520\n",
      "8     Embarked    0.037469               0.961989\n",
      "9        Parch    0.025318               0.987307\n",
      "10     IsAlone    0.011520               0.998827\n",
      "11   IsElderly    0.001173               1.000000\n",
      "\n",
      "\n",
      "Features accounting for 95% of model's predictive power:\n",
      "['Title', 'Sex', 'IsMr', 'Pclass', 'FareGroup', 'FamilySize', 'AgeGroup', 'SibSp', 'Embarked']\n",
      "\n",
      "\n",
      "Training set accuracy: 0.8686868686868687\n"
     ]
    }
   ],
   "source": [
    "# Select features to be used\n",
    "features_model19 = ['Title', 'Sex', 'IsMr', 'Pclass', 'FareGroup', 'FamilySize', 'AgeGroup', 'SibSp', 'Embarked', 'Parch', 'IsAlone', 'IsElderly']\n",
    "\n",
    "# Define training and test sets\n",
    "X_train_model19 = X_train[features_model19]\n",
    "y_train_model19 = y_train\n",
    "X_test_model19 = X_test[features_model19]\n",
    "\n",
    "# Define the hyperparameter grid\n",
    "param_grid_model19 = {\n",
    "    'n_estimators': [50, 100, 200], \n",
    "    'max_depth': [None, 10, 20, 30],\n",
    "    'min_samples_split': [2, 5, 10],\n",
    "    'min_samples_leaf': [1, 2, 4],\n",
    "    'max_features': ['sqrt', 'log2', None]\n",
    "}\n",
    "\n",
    "# Instantiate model\n",
    "model19 = RandomForestClassifier(random_state=42)\n",
    "\n",
    "# Initialize cross-validation splitter\n",
    "cv_model19 = KFold(n_splits=5, shuffle=True, random_state=42)\n",
    "\n",
    "# Perform randomized search with cross-validation\n",
    "random_search_model19 = RandomizedSearchCV(estimator=model19, param_distributions=param_grid_model19,\n",
    "                                          n_iter=50, cv=cv_model19, scoring='accuracy', random_state=42)\n",
    "random_search_model19.fit(X_train_model19, y_train_model19)\n",
    "\n",
    "# Get the best model from randomized search\n",
    "best_model19 = random_search_model19.best_estimator_\n",
    "\n",
    "# Print the parameters of the best model\n",
    "print(\"Best Parameters:\", random_search_model19.best_params_)\n",
    "print(\"\\n\")\n",
    "\n",
    "# Compute cross-validation score\n",
    "cv_score_model19 = cross_val_score(best_model19, X_train_model19, y_train_model19, cv=cv_model19, scoring='accuracy')\n",
    "print(\"Cross-validation accuracies:\", cv_score_model19)\n",
    "print(\"\\n\")\n",
    "\n",
    "cv_score_mean_model19 = cv_score_model19.mean()\n",
    "print(\"Mean cross-validation accuracy:\", cv_score_mean_model19)\n",
    "print(\"\\n\")\n",
    "\n",
    "# Get the feature importances of the best model\n",
    "feature_importances_model19 = best_model19.feature_importances_\n",
    "\n",
    "# Create a DataFrame to store feature names and corresponding feature importances\n",
    "importance_df_model19 = pd.DataFrame({'Feature': X_train_model19.columns, 'Importance': feature_importances_model19})\n",
    "\n",
    "# Sort the feature importances to identify the most important features\n",
    "importance_df_model19 = importance_df_model19.sort_values(by='Importance', ascending=False).reset_index(drop=True)\n",
    "\n",
    "# Calculate cumulative sum of feature importances\n",
    "importance_df_model19['Cumulative_Importance'] = importance_df_model19['Importance'].cumsum()\n",
    "\n",
    "# Print feature importances\n",
    "print(importance_df_model19)\n",
    "print(\"\\n\")\n",
    "\n",
    "# Find features accounting for 95% of model's predictive power\n",
    "most_important_features_model19 = []\n",
    "\n",
    "for index, row in importance_df_model19.iterrows():\n",
    "    if row['Cumulative_Importance'] <= 0.95:\n",
    "        most_important_features_model19.append(row['Feature'])\n",
    "    elif index > 0 and importance_df_model19.iloc[index - 1]['Cumulative_Importance'] < 0.95:\n",
    "        most_important_features_model19.append(row['Feature'])\n",
    "    else:\n",
    "        break\n",
    "\n",
    "# List features accounting for 95% of model's predictive power\n",
    "print(\"Features accounting for 95% of model's predictive power:\")\n",
    "print(most_important_features_model19)\n",
    "print(\"\\n\")\n",
    "\n",
    "# Compute training set accuracy\n",
    "train_accuracy_model19 = best_model19.score(X_train_model19, y_train_model19)\n",
    "\n",
    "# Print training set accuracy\n",
    "print(\"Training set accuracy:\", train_accuracy_model19)\n",
    "\n",
    "# Predict on the test set using the best model\n",
    "y_pred_model19 = best_model19.predict(X_test_model19)"
   ]
  },
  {
   "cell_type": "code",
   "execution_count": 120,
   "id": "22beba6e",
   "metadata": {
    "execution": {
     "iopub.execute_input": "2024-04-17T08:38:54.391490Z",
     "iopub.status.busy": "2024-04-17T08:38:54.390432Z",
     "iopub.status.idle": "2024-04-17T08:38:54.410244Z",
     "shell.execute_reply": "2024-04-17T08:38:54.409018Z"
    },
    "papermill": {
     "duration": 0.121211,
     "end_time": "2024-04-17T08:38:54.413133",
     "exception": false,
     "start_time": "2024-04-17T08:38:54.291922",
     "status": "completed"
    },
    "tags": []
   },
   "outputs": [
    {
     "data": {
      "text/html": [
       "<div>\n",
       "<style scoped>\n",
       "    .dataframe tbody tr th:only-of-type {\n",
       "        vertical-align: middle;\n",
       "    }\n",
       "\n",
       "    .dataframe tbody tr th {\n",
       "        vertical-align: top;\n",
       "    }\n",
       "\n",
       "    .dataframe thead th {\n",
       "        text-align: right;\n",
       "    }\n",
       "</style>\n",
       "<table border=\"1\" class=\"dataframe\">\n",
       "  <thead>\n",
       "    <tr style=\"text-align: right;\">\n",
       "      <th></th>\n",
       "      <th>PassengerId</th>\n",
       "      <th>Survived</th>\n",
       "    </tr>\n",
       "  </thead>\n",
       "  <tbody>\n",
       "    <tr>\n",
       "      <th>0</th>\n",
       "      <td>892</td>\n",
       "      <td>0</td>\n",
       "    </tr>\n",
       "    <tr>\n",
       "      <th>1</th>\n",
       "      <td>893</td>\n",
       "      <td>0</td>\n",
       "    </tr>\n",
       "    <tr>\n",
       "      <th>2</th>\n",
       "      <td>894</td>\n",
       "      <td>0</td>\n",
       "    </tr>\n",
       "    <tr>\n",
       "      <th>3</th>\n",
       "      <td>895</td>\n",
       "      <td>0</td>\n",
       "    </tr>\n",
       "    <tr>\n",
       "      <th>4</th>\n",
       "      <td>896</td>\n",
       "      <td>0</td>\n",
       "    </tr>\n",
       "    <tr>\n",
       "      <th>...</th>\n",
       "      <td>...</td>\n",
       "      <td>...</td>\n",
       "    </tr>\n",
       "    <tr>\n",
       "      <th>413</th>\n",
       "      <td>1305</td>\n",
       "      <td>0</td>\n",
       "    </tr>\n",
       "    <tr>\n",
       "      <th>414</th>\n",
       "      <td>1306</td>\n",
       "      <td>1</td>\n",
       "    </tr>\n",
       "    <tr>\n",
       "      <th>415</th>\n",
       "      <td>1307</td>\n",
       "      <td>0</td>\n",
       "    </tr>\n",
       "    <tr>\n",
       "      <th>416</th>\n",
       "      <td>1308</td>\n",
       "      <td>0</td>\n",
       "    </tr>\n",
       "    <tr>\n",
       "      <th>417</th>\n",
       "      <td>1309</td>\n",
       "      <td>1</td>\n",
       "    </tr>\n",
       "  </tbody>\n",
       "</table>\n",
       "<p>418 rows × 2 columns</p>\n",
       "</div>"
      ],
      "text/plain": [
       "     PassengerId  Survived\n",
       "0            892         0\n",
       "1            893         0\n",
       "2            894         0\n",
       "3            895         0\n",
       "4            896         0\n",
       "..           ...       ...\n",
       "413         1305         0\n",
       "414         1306         1\n",
       "415         1307         0\n",
       "416         1308         0\n",
       "417         1309         1\n",
       "\n",
       "[418 rows x 2 columns]"
      ]
     },
     "execution_count": 120,
     "metadata": {},
     "output_type": "execute_result"
    }
   ],
   "source": [
    "# Create submission file\n",
    "output_model19 = pd.DataFrame({'PassengerId': test_data['PassengerId'], 'Survived': y_pred_model19})\n",
    "output_model19.to_csv('submission_model19.csv', index=False)\n",
    "\n",
    "# Check contents of submission file\n",
    "submission_model19 = pd.read_csv('submission_model19.csv')\n",
    "submission_model19"
   ]
  },
  {
   "cell_type": "markdown",
   "id": "4942e437",
   "metadata": {
    "papermill": {
     "duration": 0.093783,
     "end_time": "2024-04-17T08:38:54.599880",
     "exception": false,
     "start_time": "2024-04-17T08:38:54.506097",
     "status": "completed"
    },
    "tags": []
   },
   "source": [
    "According to Kaggle, the test set accuracy of this model is 0.76076."
   ]
  },
  {
   "cell_type": "markdown",
   "id": "a6b8b412",
   "metadata": {
    "papermill": {
     "duration": 0.094047,
     "end_time": "2024-04-17T08:38:54.787132",
     "exception": false,
     "start_time": "2024-04-17T08:38:54.693085",
     "status": "completed"
    },
    "tags": []
   },
   "source": [
    "## Model 20 - Gradient Boosting Classifier, 8 Features, With Cross-Validation, With Hyperparameter Tuning"
   ]
  },
  {
   "cell_type": "markdown",
   "id": "d3d11e04",
   "metadata": {
    "papermill": {
     "duration": 0.092998,
     "end_time": "2024-04-17T08:38:54.974416",
     "exception": false,
     "start_time": "2024-04-17T08:38:54.881418",
     "status": "completed"
    },
    "tags": []
   },
   "source": [
    "According to Model 15, a Gradient Boosting Classifier model with 12 features and cross-validation, the 12 features in order of decreasing feature importance were as follows: 'Title', 'Pclass', 'FamilySize', 'FareGroup', 'Embarked', 'Sex', 'AgeGroup', 'IsMr', 'Parch', 'IsAlone', 'SibSp', 'IsElderly'.\n",
    "\n",
    "Features were dropped one by one from this list starting from the feature with the lowest feature importance.\n",
    "\n",
    "features_model20 was the feature set that yielded the highest mean cross-validation accuracy."
   ]
  },
  {
   "cell_type": "code",
   "execution_count": 121,
   "id": "e7bed3ac",
   "metadata": {
    "execution": {
     "iopub.execute_input": "2024-04-17T08:38:55.162772Z",
     "iopub.status.busy": "2024-04-17T08:38:55.162240Z",
     "iopub.status.idle": "2024-04-17T08:40:10.128518Z",
     "shell.execute_reply": "2024-04-17T08:40:10.127049Z"
    },
    "papermill": {
     "duration": 75.064487,
     "end_time": "2024-04-17T08:40:10.132348",
     "exception": false,
     "start_time": "2024-04-17T08:38:55.067861",
     "status": "completed"
    },
    "tags": []
   },
   "outputs": [
    {
     "name": "stdout",
     "output_type": "stream",
     "text": [
      "Best Parameters: {'n_estimators': 100, 'min_samples_split': 5, 'min_samples_leaf': 2, 'max_features': None, 'max_depth': 5, 'learning_rate': 0.01}\n",
      "\n",
      "\n",
      "Cross-validation accuracies: [0.82681564 0.82022472 0.86516854 0.80337079 0.84831461]\n",
      "\n",
      "\n",
      "Mean cross-validation accuracy: 0.8327788588286987\n",
      "\n",
      "\n",
      "      Feature  Importance  Cumulative_Importance\n",
      "0       Title    0.590071               0.590071\n",
      "1      Pclass    0.230390               0.820461\n",
      "2  FamilySize    0.109101               0.929562\n",
      "3   FareGroup    0.024384               0.953946\n",
      "4    AgeGroup    0.021238               0.975185\n",
      "5         Sex    0.014370               0.989555\n",
      "6    Embarked    0.010445               1.000000\n",
      "\n",
      "\n",
      "Features accounting for 95% of model's predictive power:\n",
      "['Title', 'Pclass', 'FamilySize', 'FareGroup']\n",
      "\n",
      "\n",
      "Training set accuracy: 0.8417508417508418\n"
     ]
    }
   ],
   "source": [
    "# Select features to be used\n",
    "features_model20 = ['Title', 'Pclass', 'FamilySize', 'FareGroup', 'Embarked', 'Sex', 'AgeGroup']\n",
    "\n",
    "# Define training and test sets\n",
    "X_train_model20 = X_train[features_model20]\n",
    "y_train_model20 = y_train\n",
    "X_test_model20 = X_test[features_model20]\n",
    "\n",
    "# Define the hyperparameter grid\n",
    "param_grid_model20 = {\n",
    "    'n_estimators': [50, 100, 200], \n",
    "    'learning_rate': [0.01, 0.1, 0.2],\n",
    "    'max_depth': [3, 5, 10],\n",
    "    'min_samples_split': [2, 5, 10],\n",
    "    'min_samples_leaf': [1, 2, 4],\n",
    "    'max_features': ['sqrt', 'log2', None]\n",
    "}\n",
    "\n",
    "# Instantiate model\n",
    "model20 = GradientBoostingClassifier(random_state=42)\n",
    "\n",
    "# Initialize cross-validation splitter\n",
    "cv_model20 = KFold(n_splits=5, shuffle=True, random_state=42)\n",
    "\n",
    "# Perform randomized search with cross-validation\n",
    "random_search_model20 = RandomizedSearchCV(estimator=model20, param_distributions=param_grid_model20,\n",
    "                                          n_iter=50, cv=cv_model20, scoring='accuracy', random_state=42)\n",
    "random_search_model20.fit(X_train_model20, y_train_model20)\n",
    "\n",
    "# Get the best model from randomized search\n",
    "best_model20 = random_search_model20.best_estimator_\n",
    "\n",
    "# Print the parameters of the best model\n",
    "print(\"Best Parameters:\", random_search_model20.best_params_)\n",
    "print(\"\\n\")\n",
    "\n",
    "# Compute cross-validation score\n",
    "cv_score_model20 = cross_val_score(best_model20, X_train_model20, y_train_model20, cv=cv_model20, scoring='accuracy')\n",
    "print(\"Cross-validation accuracies:\", cv_score_model20)\n",
    "print(\"\\n\")\n",
    "\n",
    "cv_score_mean_model20 = cv_score_model20.mean()\n",
    "print(\"Mean cross-validation accuracy:\", cv_score_mean_model20)\n",
    "print(\"\\n\")\n",
    "\n",
    "# Get the feature importances of the best model\n",
    "feature_importances_model20 = best_model20.feature_importances_\n",
    "\n",
    "# Create a DataFrame to store feature names and corresponding feature importances\n",
    "importance_df_model20 = pd.DataFrame({'Feature': X_train_model20.columns, 'Importance': feature_importances_model20})\n",
    "\n",
    "# Sort the feature importances to identify the most important features\n",
    "importance_df_model20 = importance_df_model20.sort_values(by='Importance', ascending=False).reset_index(drop=True)\n",
    "\n",
    "# Calculate cumulative sum of feature importances\n",
    "importance_df_model20['Cumulative_Importance'] = importance_df_model20['Importance'].cumsum()\n",
    "\n",
    "# Print feature importances\n",
    "print(importance_df_model20)\n",
    "print(\"\\n\")\n",
    "\n",
    "# Find features accounting for 95% of model's predictive power\n",
    "most_important_features_model20 = []\n",
    "\n",
    "for index, row in importance_df_model20.iterrows():\n",
    "    if row['Cumulative_Importance'] <= 0.95:\n",
    "        most_important_features_model20.append(row['Feature'])\n",
    "    elif index > 0 and importance_df_model20.iloc[index - 1]['Cumulative_Importance'] < 0.95:\n",
    "        most_important_features_model20.append(row['Feature'])\n",
    "    else:\n",
    "        break\n",
    "\n",
    "# List features accounting for 95% of model's predictive power\n",
    "print(\"Features accounting for 95% of model's predictive power:\")\n",
    "print(most_important_features_model20)\n",
    "print(\"\\n\")\n",
    "\n",
    "# Compute training set accuracy\n",
    "train_accuracy_model20 = best_model20.score(X_train_model20, y_train_model20)\n",
    "\n",
    "# Print training set accuracy\n",
    "print(\"Training set accuracy:\", train_accuracy_model20)\n",
    "\n",
    "# Predict on the test set using the best model\n",
    "y_pred_model20 = best_model20.predict(X_test_model20)"
   ]
  },
  {
   "cell_type": "code",
   "execution_count": 122,
   "id": "48928466",
   "metadata": {
    "execution": {
     "iopub.execute_input": "2024-04-17T08:40:10.322403Z",
     "iopub.status.busy": "2024-04-17T08:40:10.321781Z",
     "iopub.status.idle": "2024-04-17T08:40:10.343104Z",
     "shell.execute_reply": "2024-04-17T08:40:10.342025Z"
    },
    "papermill": {
     "duration": 0.11921,
     "end_time": "2024-04-17T08:40:10.346063",
     "exception": false,
     "start_time": "2024-04-17T08:40:10.226853",
     "status": "completed"
    },
    "tags": []
   },
   "outputs": [
    {
     "data": {
      "text/html": [
       "<div>\n",
       "<style scoped>\n",
       "    .dataframe tbody tr th:only-of-type {\n",
       "        vertical-align: middle;\n",
       "    }\n",
       "\n",
       "    .dataframe tbody tr th {\n",
       "        vertical-align: top;\n",
       "    }\n",
       "\n",
       "    .dataframe thead th {\n",
       "        text-align: right;\n",
       "    }\n",
       "</style>\n",
       "<table border=\"1\" class=\"dataframe\">\n",
       "  <thead>\n",
       "    <tr style=\"text-align: right;\">\n",
       "      <th></th>\n",
       "      <th>PassengerId</th>\n",
       "      <th>Survived</th>\n",
       "    </tr>\n",
       "  </thead>\n",
       "  <tbody>\n",
       "    <tr>\n",
       "      <th>0</th>\n",
       "      <td>892</td>\n",
       "      <td>0</td>\n",
       "    </tr>\n",
       "    <tr>\n",
       "      <th>1</th>\n",
       "      <td>893</td>\n",
       "      <td>0</td>\n",
       "    </tr>\n",
       "    <tr>\n",
       "      <th>2</th>\n",
       "      <td>894</td>\n",
       "      <td>0</td>\n",
       "    </tr>\n",
       "    <tr>\n",
       "      <th>3</th>\n",
       "      <td>895</td>\n",
       "      <td>0</td>\n",
       "    </tr>\n",
       "    <tr>\n",
       "      <th>4</th>\n",
       "      <td>896</td>\n",
       "      <td>0</td>\n",
       "    </tr>\n",
       "    <tr>\n",
       "      <th>...</th>\n",
       "      <td>...</td>\n",
       "      <td>...</td>\n",
       "    </tr>\n",
       "    <tr>\n",
       "      <th>413</th>\n",
       "      <td>1305</td>\n",
       "      <td>0</td>\n",
       "    </tr>\n",
       "    <tr>\n",
       "      <th>414</th>\n",
       "      <td>1306</td>\n",
       "      <td>1</td>\n",
       "    </tr>\n",
       "    <tr>\n",
       "      <th>415</th>\n",
       "      <td>1307</td>\n",
       "      <td>0</td>\n",
       "    </tr>\n",
       "    <tr>\n",
       "      <th>416</th>\n",
       "      <td>1308</td>\n",
       "      <td>0</td>\n",
       "    </tr>\n",
       "    <tr>\n",
       "      <th>417</th>\n",
       "      <td>1309</td>\n",
       "      <td>1</td>\n",
       "    </tr>\n",
       "  </tbody>\n",
       "</table>\n",
       "<p>418 rows × 2 columns</p>\n",
       "</div>"
      ],
      "text/plain": [
       "     PassengerId  Survived\n",
       "0            892         0\n",
       "1            893         0\n",
       "2            894         0\n",
       "3            895         0\n",
       "4            896         0\n",
       "..           ...       ...\n",
       "413         1305         0\n",
       "414         1306         1\n",
       "415         1307         0\n",
       "416         1308         0\n",
       "417         1309         1\n",
       "\n",
       "[418 rows x 2 columns]"
      ]
     },
     "execution_count": 122,
     "metadata": {},
     "output_type": "execute_result"
    }
   ],
   "source": [
    "# Create submission file\n",
    "output_model20 = pd.DataFrame({'PassengerId': test_data['PassengerId'], 'Survived': y_pred_model20})\n",
    "output_model20.to_csv('submission_model20.csv', index=False)\n",
    "\n",
    "# Check contents of submission file\n",
    "submission_model20 = pd.read_csv('submission_model20.csv')\n",
    "submission_model20"
   ]
  },
  {
   "cell_type": "markdown",
   "id": "ead0f9aa",
   "metadata": {
    "papermill": {
     "duration": 0.091893,
     "end_time": "2024-04-17T08:40:10.534786",
     "exception": false,
     "start_time": "2024-04-17T08:40:10.442893",
     "status": "completed"
    },
    "tags": []
   },
   "source": [
    "According to Kaggle, the test set accuracy of this model is 0.77511."
   ]
  },
  {
   "cell_type": "markdown",
   "id": "5c6873d4",
   "metadata": {
    "papermill": {
     "duration": 0.100159,
     "end_time": "2024-04-17T08:40:10.729886",
     "exception": false,
     "start_time": "2024-04-17T08:40:10.629727",
     "status": "completed"
    },
    "tags": []
   },
   "source": [
    "# Results and Findings"
   ]
  },
  {
   "cell_type": "code",
   "execution_count": 123,
   "id": "dc1a3b2c",
   "metadata": {
    "execution": {
     "iopub.execute_input": "2024-04-17T08:40:10.921426Z",
     "iopub.status.busy": "2024-04-17T08:40:10.920640Z",
     "iopub.status.idle": "2024-04-17T08:40:10.956456Z",
     "shell.execute_reply": "2024-04-17T08:40:10.955207Z"
    },
    "papermill": {
     "duration": 0.13529,
     "end_time": "2024-04-17T08:40:10.959856",
     "exception": false,
     "start_time": "2024-04-17T08:40:10.824566",
     "status": "completed"
    },
    "tags": []
   },
   "outputs": [
    {
     "data": {
      "text/html": [
       "<div>\n",
       "<style scoped>\n",
       "    .dataframe tbody tr th:only-of-type {\n",
       "        vertical-align: middle;\n",
       "    }\n",
       "\n",
       "    .dataframe tbody tr th {\n",
       "        vertical-align: top;\n",
       "    }\n",
       "\n",
       "    .dataframe thead th {\n",
       "        text-align: right;\n",
       "    }\n",
       "</style>\n",
       "<table border=\"1\" class=\"dataframe\">\n",
       "  <thead>\n",
       "    <tr style=\"text-align: right;\">\n",
       "      <th></th>\n",
       "      <th>Model Number</th>\n",
       "      <th>Classifier</th>\n",
       "      <th>Number of Features</th>\n",
       "      <th>With Cross-Validation?</th>\n",
       "      <th>With Hyperparameter Tuning?</th>\n",
       "      <th>Mean Cross-Validation Accuracy</th>\n",
       "      <th>Training Set Accuracy</th>\n",
       "      <th>Test Set Accuracy (according to Kaggle)</th>\n",
       "    </tr>\n",
       "  </thead>\n",
       "  <tbody>\n",
       "    <tr>\n",
       "      <th>0</th>\n",
       "      <td>1</td>\n",
       "      <td>Logistic Regression</td>\n",
       "      <td>12</td>\n",
       "      <td>No</td>\n",
       "      <td>No</td>\n",
       "      <td>Not applicable</td>\n",
       "      <td>0.814815</td>\n",
       "      <td>0.77990</td>\n",
       "    </tr>\n",
       "    <tr>\n",
       "      <th>1</th>\n",
       "      <td>2</td>\n",
       "      <td>K-Nearest Neighbors Classifier</td>\n",
       "      <td>12</td>\n",
       "      <td>No</td>\n",
       "      <td>No</td>\n",
       "      <td>Not applicable</td>\n",
       "      <td>0.854097</td>\n",
       "      <td>0.74880</td>\n",
       "    </tr>\n",
       "    <tr>\n",
       "      <th>2</th>\n",
       "      <td>3</td>\n",
       "      <td>Decision Tree Classifier</td>\n",
       "      <td>12</td>\n",
       "      <td>No</td>\n",
       "      <td>No</td>\n",
       "      <td>Not applicable</td>\n",
       "      <td>0.892256</td>\n",
       "      <td>0.75119</td>\n",
       "    </tr>\n",
       "    <tr>\n",
       "      <th>3</th>\n",
       "      <td>4</td>\n",
       "      <td>Random Forest Classifier</td>\n",
       "      <td>12</td>\n",
       "      <td>No</td>\n",
       "      <td>No</td>\n",
       "      <td>Not applicable</td>\n",
       "      <td>0.892256</td>\n",
       "      <td>0.74880</td>\n",
       "    </tr>\n",
       "    <tr>\n",
       "      <th>4</th>\n",
       "      <td>5</td>\n",
       "      <td>Gradient Boosting Classifier</td>\n",
       "      <td>12</td>\n",
       "      <td>No</td>\n",
       "      <td>No</td>\n",
       "      <td>Not applicable</td>\n",
       "      <td>0.852974</td>\n",
       "      <td>0.76794</td>\n",
       "    </tr>\n",
       "    <tr>\n",
       "      <th>5</th>\n",
       "      <td>6</td>\n",
       "      <td>Logistic Regression</td>\n",
       "      <td>12</td>\n",
       "      <td>Yes</td>\n",
       "      <td>No</td>\n",
       "      <td>0.812586</td>\n",
       "      <td>0.814815</td>\n",
       "      <td>0.77990</td>\n",
       "    </tr>\n",
       "    <tr>\n",
       "      <th>6</th>\n",
       "      <td>7</td>\n",
       "      <td>K-Nearest Neighbors Classifier</td>\n",
       "      <td>12</td>\n",
       "      <td>Yes</td>\n",
       "      <td>No</td>\n",
       "      <td>0.789078</td>\n",
       "      <td>0.854097</td>\n",
       "      <td>0.74880</td>\n",
       "    </tr>\n",
       "    <tr>\n",
       "      <th>7</th>\n",
       "      <td>8</td>\n",
       "      <td>Decision Tree Classifier</td>\n",
       "      <td>12</td>\n",
       "      <td>Yes</td>\n",
       "      <td>No</td>\n",
       "      <td>0.80693</td>\n",
       "      <td>0.892256</td>\n",
       "      <td>0.75119</td>\n",
       "    </tr>\n",
       "    <tr>\n",
       "      <th>8</th>\n",
       "      <td>9</td>\n",
       "      <td>Random Forest Classifier</td>\n",
       "      <td>12</td>\n",
       "      <td>Yes</td>\n",
       "      <td>No</td>\n",
       "      <td>0.814789</td>\n",
       "      <td>0.892256</td>\n",
       "      <td>0.74880</td>\n",
       "    </tr>\n",
       "    <tr>\n",
       "      <th>9</th>\n",
       "      <td>10</td>\n",
       "      <td>Gradient Boosting Classifier</td>\n",
       "      <td>12</td>\n",
       "      <td>Yes</td>\n",
       "      <td>No</td>\n",
       "      <td>0.830525</td>\n",
       "      <td>0.852974</td>\n",
       "      <td>0.76794</td>\n",
       "    </tr>\n",
       "    <tr>\n",
       "      <th>10</th>\n",
       "      <td>11</td>\n",
       "      <td>Logistic Regression</td>\n",
       "      <td>12</td>\n",
       "      <td>Yes</td>\n",
       "      <td>Yes</td>\n",
       "      <td>0.815963</td>\n",
       "      <td>0.818182</td>\n",
       "      <td>0.78947</td>\n",
       "    </tr>\n",
       "    <tr>\n",
       "      <th>11</th>\n",
       "      <td>12</td>\n",
       "      <td>K-Nearest Neighbors Classifier</td>\n",
       "      <td>12</td>\n",
       "      <td>Yes</td>\n",
       "      <td>Yes</td>\n",
       "      <td>0.827167</td>\n",
       "      <td>0.838384</td>\n",
       "      <td>0.75119</td>\n",
       "    </tr>\n",
       "    <tr>\n",
       "      <th>12</th>\n",
       "      <td>13</td>\n",
       "      <td>Decision Tree Classifier</td>\n",
       "      <td>12</td>\n",
       "      <td>Yes</td>\n",
       "      <td>Yes</td>\n",
       "      <td>0.822666</td>\n",
       "      <td>0.835017</td>\n",
       "      <td>0.77751</td>\n",
       "    </tr>\n",
       "    <tr>\n",
       "      <th>13</th>\n",
       "      <td>14</td>\n",
       "      <td>Random Forest Classifier</td>\n",
       "      <td>12</td>\n",
       "      <td>Yes</td>\n",
       "      <td>Yes</td>\n",
       "      <td>0.830532</td>\n",
       "      <td>0.868687</td>\n",
       "      <td>0.75837</td>\n",
       "    </tr>\n",
       "    <tr>\n",
       "      <th>14</th>\n",
       "      <td>15</td>\n",
       "      <td>Gradient Boosting Classifier</td>\n",
       "      <td>12</td>\n",
       "      <td>Yes</td>\n",
       "      <td>Yes</td>\n",
       "      <td>0.831655</td>\n",
       "      <td>0.835017</td>\n",
       "      <td>0.77751</td>\n",
       "    </tr>\n",
       "    <tr>\n",
       "      <th>15</th>\n",
       "      <td>16</td>\n",
       "      <td>Logistic Regression</td>\n",
       "      <td>5</td>\n",
       "      <td>Yes</td>\n",
       "      <td>Yes</td>\n",
       "      <td>0.822698</td>\n",
       "      <td>0.819304</td>\n",
       "      <td>0.78468</td>\n",
       "    </tr>\n",
       "    <tr>\n",
       "      <th>16</th>\n",
       "      <td>17</td>\n",
       "      <td>K-Nearest Neighbors Classifier</td>\n",
       "      <td>6</td>\n",
       "      <td>Yes</td>\n",
       "      <td>Yes</td>\n",
       "      <td>0.828272</td>\n",
       "      <td>0.841751</td>\n",
       "      <td>0.78229</td>\n",
       "    </tr>\n",
       "    <tr>\n",
       "      <th>17</th>\n",
       "      <td>18</td>\n",
       "      <td>Decision Tree Classifier</td>\n",
       "      <td>4</td>\n",
       "      <td>Yes</td>\n",
       "      <td>Yes</td>\n",
       "      <td>0.831655</td>\n",
       "      <td>0.835017</td>\n",
       "      <td>0.77751</td>\n",
       "    </tr>\n",
       "    <tr>\n",
       "      <th>18</th>\n",
       "      <td>19</td>\n",
       "      <td>Random Forest Classifier</td>\n",
       "      <td>12</td>\n",
       "      <td>Yes</td>\n",
       "      <td>Yes</td>\n",
       "      <td>0.837248</td>\n",
       "      <td>0.868687</td>\n",
       "      <td>0.76076</td>\n",
       "    </tr>\n",
       "    <tr>\n",
       "      <th>19</th>\n",
       "      <td>20</td>\n",
       "      <td>Gradient Boosting Classifier</td>\n",
       "      <td>8</td>\n",
       "      <td>Yes</td>\n",
       "      <td>Yes</td>\n",
       "      <td>0.832779</td>\n",
       "      <td>0.841751</td>\n",
       "      <td>0.77511</td>\n",
       "    </tr>\n",
       "  </tbody>\n",
       "</table>\n",
       "</div>"
      ],
      "text/plain": [
       "    Model Number                      Classifier  Number of Features  \\\n",
       "0              1             Logistic Regression                  12   \n",
       "1              2  K-Nearest Neighbors Classifier                  12   \n",
       "2              3        Decision Tree Classifier                  12   \n",
       "3              4        Random Forest Classifier                  12   \n",
       "4              5    Gradient Boosting Classifier                  12   \n",
       "5              6             Logistic Regression                  12   \n",
       "6              7  K-Nearest Neighbors Classifier                  12   \n",
       "7              8        Decision Tree Classifier                  12   \n",
       "8              9        Random Forest Classifier                  12   \n",
       "9             10    Gradient Boosting Classifier                  12   \n",
       "10            11             Logistic Regression                  12   \n",
       "11            12  K-Nearest Neighbors Classifier                  12   \n",
       "12            13        Decision Tree Classifier                  12   \n",
       "13            14        Random Forest Classifier                  12   \n",
       "14            15    Gradient Boosting Classifier                  12   \n",
       "15            16             Logistic Regression                   5   \n",
       "16            17  K-Nearest Neighbors Classifier                   6   \n",
       "17            18        Decision Tree Classifier                   4   \n",
       "18            19        Random Forest Classifier                  12   \n",
       "19            20    Gradient Boosting Classifier                   8   \n",
       "\n",
       "   With Cross-Validation? With Hyperparameter Tuning?  \\\n",
       "0                      No                          No   \n",
       "1                      No                          No   \n",
       "2                      No                          No   \n",
       "3                      No                          No   \n",
       "4                      No                          No   \n",
       "5                     Yes                          No   \n",
       "6                     Yes                          No   \n",
       "7                     Yes                          No   \n",
       "8                     Yes                          No   \n",
       "9                     Yes                          No   \n",
       "10                    Yes                         Yes   \n",
       "11                    Yes                         Yes   \n",
       "12                    Yes                         Yes   \n",
       "13                    Yes                         Yes   \n",
       "14                    Yes                         Yes   \n",
       "15                    Yes                         Yes   \n",
       "16                    Yes                         Yes   \n",
       "17                    Yes                         Yes   \n",
       "18                    Yes                         Yes   \n",
       "19                    Yes                         Yes   \n",
       "\n",
       "   Mean Cross-Validation Accuracy  Training Set Accuracy  \\\n",
       "0                  Not applicable               0.814815   \n",
       "1                  Not applicable               0.854097   \n",
       "2                  Not applicable               0.892256   \n",
       "3                  Not applicable               0.892256   \n",
       "4                  Not applicable               0.852974   \n",
       "5                        0.812586               0.814815   \n",
       "6                        0.789078               0.854097   \n",
       "7                         0.80693               0.892256   \n",
       "8                        0.814789               0.892256   \n",
       "9                        0.830525               0.852974   \n",
       "10                       0.815963               0.818182   \n",
       "11                       0.827167               0.838384   \n",
       "12                       0.822666               0.835017   \n",
       "13                       0.830532               0.868687   \n",
       "14                       0.831655               0.835017   \n",
       "15                       0.822698               0.819304   \n",
       "16                       0.828272               0.841751   \n",
       "17                       0.831655               0.835017   \n",
       "18                       0.837248               0.868687   \n",
       "19                       0.832779               0.841751   \n",
       "\n",
       "    Test Set Accuracy (according to Kaggle)  \n",
       "0                                   0.77990  \n",
       "1                                   0.74880  \n",
       "2                                   0.75119  \n",
       "3                                   0.74880  \n",
       "4                                   0.76794  \n",
       "5                                   0.77990  \n",
       "6                                   0.74880  \n",
       "7                                   0.75119  \n",
       "8                                   0.74880  \n",
       "9                                   0.76794  \n",
       "10                                  0.78947  \n",
       "11                                  0.75119  \n",
       "12                                  0.77751  \n",
       "13                                  0.75837  \n",
       "14                                  0.77751  \n",
       "15                                  0.78468  \n",
       "16                                  0.78229  \n",
       "17                                  0.77751  \n",
       "18                                  0.76076  \n",
       "19                                  0.77511  "
      ]
     },
     "metadata": {},
     "output_type": "display_data"
    }
   ],
   "source": [
    "# Create lists of results\n",
    "model_numbers = [1, 2, 3, 4, 5, 6, 7, 8, 9, 10, 11, 12, 13, 14, 15, 16, 17, 18, 19, 20]\n",
    "classifiers = ['Logistic Regression',\n",
    "               'K-Nearest Neighbors Classifier',\n",
    "               'Decision Tree Classifier', \n",
    "               'Random Forest Classifier', \n",
    "               'Gradient Boosting Classifier',\n",
    "               'Logistic Regression',\n",
    "               'K-Nearest Neighbors Classifier',\n",
    "               'Decision Tree Classifier', \n",
    "               'Random Forest Classifier', \n",
    "               'Gradient Boosting Classifier',\n",
    "               'Logistic Regression',\n",
    "               'K-Nearest Neighbors Classifier',\n",
    "               'Decision Tree Classifier', \n",
    "               'Random Forest Classifier', \n",
    "               'Gradient Boosting Classifier',\n",
    "               'Logistic Regression',\n",
    "               'K-Nearest Neighbors Classifier',\n",
    "               'Decision Tree Classifier', \n",
    "               'Random Forest Classifier', \n",
    "               'Gradient Boosting Classifier']\n",
    "feature_counts = [12, 12, 12, 12, 12, 12, 12, 12, 12, 12, 12, 12, 12, 12, 12, 5, 6, 4, 12, 8]\n",
    "with_cv_statuses = ['No', 'No', 'No', 'No', 'No', 'Yes', 'Yes', 'Yes', 'Yes', 'Yes', 'Yes', 'Yes', 'Yes', 'Yes', 'Yes', 'Yes', 'Yes', 'Yes', 'Yes', 'Yes']\n",
    "with_hp_statuses = ['No', 'No', 'No', 'No', 'No', 'No', 'No', 'No', 'No', 'No', 'Yes', 'Yes', 'Yes', 'Yes', 'Yes', 'Yes', 'Yes', 'Yes', 'Yes', 'Yes']\n",
    "mean_cross_val_accuracies = ['Not applicable',\n",
    "                             'Not applicable',\n",
    "                             'Not applicable',\n",
    "                             'Not applicable',\n",
    "                             'Not applicable',\n",
    "                             cv_score_mean_model6,\n",
    "                             cv_score_mean_model7,\n",
    "                             cv_score_mean_model8,\n",
    "                             cv_score_mean_model9,\n",
    "                             cv_score_mean_model10,\n",
    "                             cv_score_mean_model11,\n",
    "                             cv_score_mean_model12,\n",
    "                             cv_score_mean_model13,\n",
    "                             cv_score_mean_model14,\n",
    "                             cv_score_mean_model15,\n",
    "                             cv_score_mean_model16,\n",
    "                             cv_score_mean_model17,\n",
    "                             cv_score_mean_model18,\n",
    "                             cv_score_mean_model19,\n",
    "                             cv_score_mean_model20]\n",
    "train_accuracies = [train_accuracy_model1,\n",
    "                    train_accuracy_model2,\n",
    "                    train_accuracy_model3,\n",
    "                    train_accuracy_model4,\n",
    "                    train_accuracy_model5,\n",
    "                    train_accuracy_model6,\n",
    "                    train_accuracy_model7,\n",
    "                    train_accuracy_model8,\n",
    "                    train_accuracy_model9,\n",
    "                    train_accuracy_model10,\n",
    "                    train_accuracy_model11,\n",
    "                    train_accuracy_model12,\n",
    "                    train_accuracy_model13,\n",
    "                    train_accuracy_model14,\n",
    "                    train_accuracy_model15,\n",
    "                    train_accuracy_model16,\n",
    "                    train_accuracy_model17,\n",
    "                    train_accuracy_model18,\n",
    "                    train_accuracy_model19,\n",
    "                    train_accuracy_model20]\n",
    "test_accuracies = [0.77990, 0.74880, 0.75119, 0.74880, 0.76794, 0.77990, 0.74880, 0.75119, 0.74880, 0.76794, 0.78947, 0.75119, 0.77751, 0.75837, 0.77751, 0.78468, 0.78229, 0.77751, 0.76076, 0.77511]\n",
    "\n",
    "# Create the DataFrame\n",
    "data = {\n",
    "    'Model Number': model_numbers,\n",
    "    'Classifier': classifiers,\n",
    "    'Number of Features': feature_counts,\n",
    "    'With Cross-Validation?': with_cv_statuses,\n",
    "    'With Hyperparameter Tuning?': with_hp_statuses,\n",
    "    'Mean Cross-Validation Accuracy': mean_cross_val_accuracies,\n",
    "    'Training Set Accuracy': train_accuracies,\n",
    "    'Test Set Accuracy (according to Kaggle)': test_accuracies\n",
    "}\n",
    "\n",
    "results = pd.DataFrame(data)\n",
    "\n",
    "# Print results\n",
    "display(results)"
   ]
  },
  {
   "cell_type": "markdown",
   "id": "f33cd18b",
   "metadata": {
    "papermill": {
     "duration": 0.094427,
     "end_time": "2024-04-17T08:40:11.149889",
     "exception": false,
     "start_time": "2024-04-17T08:40:11.055462",
     "status": "completed"
    },
    "tags": []
   },
   "source": [
    "Of the 20 models that were built and tested, the model that produced the highest test accuracy was Model 11. Model 11 is a logistic regression model that uses 12 features ('Pclass', 'Title', 'AgeGroup', 'IsMr', 'FamilySize', 'FareGroup', 'SibSp', 'IsAlone', 'Embarked', 'Sex', 'Parch', 'IsElderly') and has hyperparameter tuning and cross-validation. It uses the following parameters: {'solver': 'saga', 'max_iter': 300, 'C': 0.1}.\n",
    "\n",
    "It has a mean cross-validation accuracy of 0.815963 and a training set accuracy of 0.818182. Even though it was outperformed by Random Forest Classifier and Gradient Boosting Classifier models on these two accuracy measures, it yielded the highest test accuracy. According to Kaggle, its test accuracy is 0.78947. Interestingly, its test accuracy is lower than its mean cross-validation accuracy and training set accuracy.\n",
    "\n",
    "'Pclass', 'Title', 'AgeGroup', 'IsMr', 'FamilySize', and 'FareGroup' are the six features of the model with the highest absolute coefficient values.\n",
    "\n",
    "Considering this, the demographics of Titanic passengers who are more likely to survive are those who belong to a higher ticket class, do not have a title of Mr, are female, are not elderly, or are traveling with 1 to 3 other family members.\n",
    "\n",
    "\n"
   ]
  }
 ],
 "metadata": {
  "kaggle": {
   "accelerator": "none",
   "dataSources": [
    {
     "databundleVersionId": 26502,
     "sourceId": 3136,
     "sourceType": "competition"
    }
   ],
   "dockerImageVersionId": 30664,
   "isGpuEnabled": false,
   "isInternetEnabled": true,
   "language": "python",
   "sourceType": "notebook"
  },
  "kernelspec": {
   "display_name": "Python 3",
   "language": "python",
   "name": "python3"
  },
  "language_info": {
   "codemirror_mode": {
    "name": "ipython",
    "version": 3
   },
   "file_extension": ".py",
   "mimetype": "text/x-python",
   "name": "python",
   "nbconvert_exporter": "python",
   "pygments_lexer": "ipython3",
   "version": "3.10.13"
  },
  "papermill": {
   "default_parameters": {},
   "duration": 381.44239,
   "end_time": "2024-04-17T08:40:12.371643",
   "environment_variables": {},
   "exception": null,
   "input_path": "__notebook__.ipynb",
   "output_path": "__notebook__.ipynb",
   "parameters": {},
   "start_time": "2024-04-17T08:33:50.929253",
   "version": "2.5.0"
  }
 },
 "nbformat": 4,
 "nbformat_minor": 5
}
